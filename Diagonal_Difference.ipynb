{
  "nbformat": 4,
  "nbformat_minor": 0,
  "metadata": {
    "colab": {
      "provenance": []
    },
    "kernelspec": {
      "name": "python3",
      "display_name": "Python 3"
    },
    "language_info": {
      "name": "python"
    }
  },
  "cells": [
    {
      "cell_type": "code",
      "execution_count": 1,
      "metadata": {
        "colab": {
          "base_uri": "https://localhost:8080/"
        },
        "id": "pCvHmRFSmLhO",
        "outputId": "7c03f2d5-4443-4d20-fb3d-aa3f0b3142c9"
      },
      "outputs": [
        {
          "output_type": "stream",
          "name": "stdout",
          "text": [
            "3\n",
            "11 2 4\n",
            "4 5 6\n",
            "10 8 -12\n",
            "15\n"
          ]
        }
      ],
      "source": [
        "import math\n",
        "import os\n",
        "import random\n",
        "import re\n",
        "import sys\n",
        "\n",
        "\n",
        "\n",
        "# The function is expected to return an INTEGER.\n",
        "# The function accepts 2D_INTEGER_ARRAY arr as parameter.\n",
        "#\n",
        "\n",
        "def diagonalDifference(arr):\n",
        "    # Initialize the sums for the two diagonals\n",
        "    left_diagonal_sum = 0\n",
        "    right_diagonal_sum = 0\n",
        "\n",
        "    # Iterate through the matrix to calculate the sums\n",
        "    for i in range(len(arr)):\n",
        "        left_diagonal_sum += arr[i][i]\n",
        "        right_diagonal_sum += arr[i][len(arr) - 1 - i]\n",
        "\n",
        "    # Calculate the absolute difference between the sums\n",
        "    result = abs(left_diagonal_sum - right_diagonal_sum)\n",
        "\n",
        "    return result\n",
        "    # Write your code here\n",
        "\n",
        "if __name__ == '__main__':\n",
        "\n",
        "    n = int(input().strip())\n",
        "\n",
        "    arr = []\n",
        "\n",
        "    for _ in range(n):\n",
        "        arr.append(list(map(int, input().rstrip().split())))\n",
        "\n",
        "    result = diagonalDifference(arr)\n",
        "\n",
        "    print(result)"
      ]
    }
  ]
}
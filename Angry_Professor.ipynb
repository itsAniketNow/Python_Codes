{
  "nbformat": 4,
  "nbformat_minor": 0,
  "metadata": {
    "colab": {
      "provenance": []
    },
    "kernelspec": {
      "name": "python3",
      "display_name": "Python 3"
    },
    "language_info": {
      "name": "python"
    }
  },
  "cells": [
    {
      "cell_type": "code",
      "execution_count": 2,
      "metadata": {
        "colab": {
          "base_uri": "https://localhost:8080/"
        },
        "id": "pCvHmRFSmLhO",
        "outputId": "df002466-2c22-477c-e8de-ec3681cf98d6"
      },
      "outputs": [
        {
          "output_type": "stream",
          "name": "stdout",
          "text": [
            "2\n",
            "4 3\n",
            "-1 -3 4 2\n",
            "YES\n",
            "4 2\n",
            "0 -1 2 1\n",
            "NO\n"
          ]
        }
      ],
      "source": [
        "import math\n",
        "import os\n",
        "import random\n",
        "import re\n",
        "import sys\n",
        "\n",
        "\n",
        "# The function is expected to return a STRING.\n",
        "# The function accepts following parameters:\n",
        "#  1. INTEGER k\n",
        "#  2. INTEGER_ARRAY a\n",
        "#\n",
        "\n",
        "def angryProfessor(k, a):\n",
        "# Count the number of students who arrived on time or early\n",
        "    on_time_count = sum(1 for time in a if time <= 0)\n",
        "\n",
        "    # Check if the count of on-time students is less than the threshold k\n",
        "    if on_time_count < k:\n",
        "        return \"YES\"\n",
        "    else:\n",
        "        return \"NO\"\n",
        "\n",
        "\n",
        "\n",
        "if __name__ == '__main__':\n",
        "\n",
        "    t = int(input().strip())\n",
        "\n",
        "    for t_itr in range(t):\n",
        "        first_multiple_input = input().rstrip().split()\n",
        "\n",
        "        n = int(first_multiple_input[0])\n",
        "\n",
        "        k = int(first_multiple_input[1])\n",
        "\n",
        "        a = list(map(int, input().rstrip().split()))\n",
        "\n",
        "        result = angryProfessor(k, a)\n",
        "        print(result)\n"
      ]
    },
    {
      "cell_type": "code",
      "source": [
        "\n"
      ],
      "metadata": {
        "id": "jB9-47-APkuH"
      },
      "execution_count": null,
      "outputs": []
    }
  ]
}
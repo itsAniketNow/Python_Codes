{
  "nbformat": 4,
  "nbformat_minor": 0,
  "metadata": {
    "colab": {
      "provenance": []
    },
    "kernelspec": {
      "name": "python3",
      "display_name": "Python 3"
    },
    "language_info": {
      "name": "python"
    }
  },
  "cells": [
    {
      "cell_type": "markdown",
      "source": [
        "#For Loop Assignment"
      ],
      "metadata": {
        "id": "0_uFtTGFgF_Z"
      }
    },
    {
      "cell_type": "markdown",
      "source": [
        "##Basic Level:\n"
      ],
      "metadata": {
        "id": "VRkibs51gGt2"
      }
    },
    {
      "cell_type": "markdown",
      "source": [
        "###1. Write a Python program to print the numbers from 1 to 10 using a `for` loop."
      ],
      "metadata": {
        "id": "E80TFhaFgUJM"
      }
    },
    {
      "cell_type": "code",
      "execution_count": null,
      "metadata": {
        "id": "vMELFM2ztIPu",
        "colab": {
          "base_uri": "https://localhost:8080/"
        },
        "outputId": "c7323d5f-44f7-4fcb-eb3a-5592b43db797"
      },
      "outputs": [
        {
          "output_type": "stream",
          "name": "stdout",
          "text": [
            "0\n",
            "1\n",
            "2\n",
            "3\n",
            "4\n",
            "5\n",
            "6\n",
            "7\n",
            "8\n",
            "9\n"
          ]
        }
      ],
      "source": [
        "for i in range(0, 10):\n",
        "  print(i)"
      ]
    },
    {
      "cell_type": "markdown",
      "source": [
        "###2. Create a program that calculates the sum of all numbers in a list using a `for` loop."
      ],
      "metadata": {
        "id": "qcUnNMqpg-rC"
      }
    },
    {
      "cell_type": "code",
      "source": [
        "lst = [1,2,3,4,5,6,7,8,9]\n",
        "sum = 0\n",
        "for i in lst:\n",
        "  sum = sum + i\n",
        "  print(sum)"
      ],
      "metadata": {
        "id": "3Qk6udlwtohJ",
        "colab": {
          "base_uri": "https://localhost:8080/"
        },
        "outputId": "f7fe832b-33e2-4471-d91c-17cf54ed1e2a"
      },
      "execution_count": null,
      "outputs": [
        {
          "output_type": "stream",
          "name": "stdout",
          "text": [
            "1\n",
            "3\n",
            "6\n",
            "10\n",
            "15\n",
            "21\n",
            "28\n",
            "36\n",
            "45\n"
          ]
        }
      ]
    },
    {
      "cell_type": "markdown",
      "source": [
        "###3. Write a program to print the characters of a string in reverse order using a `for` loop."
      ],
      "metadata": {
        "id": "frn8SK_giEI1"
      }
    },
    {
      "cell_type": "code",
      "source": [
        "my_string = \"Hello, World\"\n",
        "reversed_string = \"\"\n",
        "\n",
        "for char in my_string[::-1]:\n",
        "    reversed_string += char\n",
        "\n",
        "print(reversed_string)\n"
      ],
      "metadata": {
        "colab": {
          "base_uri": "https://localhost:8080/"
        },
        "id": "zE2BGKGxhq9Z",
        "outputId": "76acdd67-ac74-4a41-d7c7-944902b3646d"
      },
      "execution_count": null,
      "outputs": [
        {
          "output_type": "stream",
          "name": "stdout",
          "text": [
            "dlroW ,olleH\n"
          ]
        }
      ]
    },
    {
      "cell_type": "markdown",
      "source": [
        "###4. Develop a program that finds the factorial of a given number using a `for` loop."
      ],
      "metadata": {
        "id": "7Wtj7mqLjfAn"
      }
    },
    {
      "cell_type": "code",
      "source": [
        "num = int(input(\"Enter the number\"))\n",
        "factorial = 1\n",
        "\n",
        "for i in range(1, num + 1) :\n",
        "  factorial *= i\n",
        "\n",
        "print(\"factorial of the\", num, \"is: \", factorial)"
      ],
      "metadata": {
        "colab": {
          "base_uri": "https://localhost:8080/"
        },
        "id": "ajKt7rbxje0n",
        "outputId": "d62a79d4-dc8d-4d33-91ac-d56f19f3ba86"
      },
      "execution_count": null,
      "outputs": [
        {
          "output_type": "stream",
          "name": "stdout",
          "text": [
            "Enter the number10\n",
            "factorial of the 10 is:  3628800\n"
          ]
        }
      ]
    },
    {
      "cell_type": "markdown",
      "source": [
        "###5. Create a program to print the multiplication table of a given number using a `for` loop."
      ],
      "metadata": {
        "id": "ogT665WKjfWe"
      }
    },
    {
      "cell_type": "code",
      "source": [
        "num = 5\n",
        "for i in range(1, 11):\n",
        "    result = num * i\n",
        "    print(f\"{num} x {i} = {result}\")"
      ],
      "metadata": {
        "colab": {
          "base_uri": "https://localhost:8080/"
        },
        "id": "ut2MuBXwi10x",
        "outputId": "a7a2c671-5b90-4fe9-9ca2-350e215e14a4"
      },
      "execution_count": null,
      "outputs": [
        {
          "output_type": "stream",
          "name": "stdout",
          "text": [
            "5 x 1 = 5\n",
            "5 x 2 = 10\n",
            "5 x 3 = 15\n",
            "5 x 4 = 20\n",
            "5 x 5 = 25\n",
            "5 x 6 = 30\n",
            "5 x 7 = 35\n",
            "5 x 8 = 40\n",
            "5 x 9 = 45\n",
            "5 x 10 = 50\n"
          ]
        }
      ]
    },
    {
      "cell_type": "markdown",
      "source": [
        "###6. Write a program that counts the number of even and odd numbers in a list using a `for` loop."
      ],
      "metadata": {
        "id": "nfiHuogInNpO"
      }
    },
    {
      "cell_type": "code",
      "source": [
        "lst = [1,2,3,4,5,6,7,8,9]\n",
        "even = []\n",
        "odd = []\n",
        "for num in lst:\n",
        "  if num%2 == 0:\n",
        "    even.append(num)\n",
        "  elif num%2 != 0:\n",
        "    odd.append(num)\n",
        "  else :\n",
        "    print(\"wrong number\")\n",
        "\n",
        "print(\"Even Numbers : \", even)\n",
        "print(\"odd Numbers : \", odd)"
      ],
      "metadata": {
        "colab": {
          "base_uri": "https://localhost:8080/"
        },
        "id": "9U6qFKs0nNiN",
        "outputId": "611eeca7-7116-422e-ebf8-9094c38efb0c"
      },
      "execution_count": null,
      "outputs": [
        {
          "output_type": "stream",
          "name": "stdout",
          "text": [
            "Even Numbers :  [2, 4, 6, 8]\n",
            "odd Numbers :  [1, 3, 5, 7, 9]\n"
          ]
        }
      ]
    },
    {
      "cell_type": "markdown",
      "source": [
        "###7. Develop a program that prints the squares of numbers from 1 to 5 using a `for` loop."
      ],
      "metadata": {
        "id": "06H0apiUnOFU"
      }
    },
    {
      "cell_type": "code",
      "source": [
        "for num in range(1, 6):\n",
        "  square = num * num\n",
        "  print(square)"
      ],
      "metadata": {
        "colab": {
          "base_uri": "https://localhost:8080/"
        },
        "id": "_oI1PuEQnKo_",
        "outputId": "1c490ed2-145f-4c86-d3cc-b63e37fef442"
      },
      "execution_count": null,
      "outputs": [
        {
          "output_type": "stream",
          "name": "stdout",
          "text": [
            "1\n",
            "4\n",
            "9\n",
            "16\n",
            "25\n"
          ]
        }
      ]
    },
    {
      "cell_type": "markdown",
      "source": [
        "###8. Create a program to find the length of a string without using the `len()` function."
      ],
      "metadata": {
        "id": "_8hclGm7nPgp"
      }
    },
    {
      "cell_type": "code",
      "source": [
        "string = \"hello, world!\"\n",
        "count = 0\n",
        "for char in string :\n",
        "  count += 1\n",
        "\n",
        "print(count)"
      ],
      "metadata": {
        "colab": {
          "base_uri": "https://localhost:8080/"
        },
        "id": "sOHo5X77nP5y",
        "outputId": "2ed6ca4b-f3de-4aed-ce95-ba610e005031"
      },
      "execution_count": null,
      "outputs": [
        {
          "output_type": "stream",
          "name": "stdout",
          "text": [
            "13\n"
          ]
        }
      ]
    },
    {
      "cell_type": "markdown",
      "source": [
        "###9. Write a program that calculates the average of a list of numbers using a `for` loop."
      ],
      "metadata": {
        "id": "NWW7FXTLnQUQ"
      }
    },
    {
      "cell_type": "code",
      "source": [
        "lst = [1,2,3,4,5,6,7,8,9]\n",
        "sum = 0\n",
        "avg = 0\n",
        "for num in lst :\n",
        "  sum = sum + num\n",
        "  avg = sum / len(lst)\n",
        "\n",
        "print(avg)"
      ],
      "metadata": {
        "colab": {
          "base_uri": "https://localhost:8080/"
        },
        "id": "CsixjnzbnRJW",
        "outputId": "ce5c39ec-a641-4081-dd72-5a8bc6dbb0c5"
      },
      "execution_count": null,
      "outputs": [
        {
          "output_type": "stream",
          "name": "stdout",
          "text": [
            "5.0\n"
          ]
        }
      ]
    },
    {
      "cell_type": "markdown",
      "source": [
        "###10. Develop a program that prints the first `n` Fibonacci numbers using a `for` loop."
      ],
      "metadata": {
        "id": "BtWQ0PbKwUi-"
      }
    },
    {
      "cell_type": "code",
      "source": [
        "n = int(input(\"Enter the number: \"))\n",
        "a, b = 0, 1\n",
        "for _ in range(n):\n",
        "    print(a)\n",
        "    a, b = b, a + b"
      ],
      "metadata": {
        "colab": {
          "base_uri": "https://localhost:8080/"
        },
        "id": "bbVFDV9duP_b",
        "outputId": "036473a0-d2b7-403e-b976-5b009c861290"
      },
      "execution_count": null,
      "outputs": [
        {
          "output_type": "stream",
          "name": "stdout",
          "text": [
            "Enter the number: 15\n",
            "0\n",
            "1\n",
            "1\n",
            "2\n",
            "3\n",
            "5\n",
            "8\n",
            "13\n",
            "21\n",
            "34\n",
            "55\n",
            "89\n",
            "144\n",
            "233\n",
            "377\n"
          ]
        }
      ]
    },
    {
      "cell_type": "markdown",
      "source": [
        "##Intermediate Level:"
      ],
      "metadata": {
        "id": "TsoBal8nxdtE"
      }
    },
    {
      "cell_type": "markdown",
      "source": [
        "###11. Write a program to check if a given list contains any duplicates using a `for` loop."
      ],
      "metadata": {
        "id": "YDfG4aYFxdqH"
      }
    },
    {
      "cell_type": "code",
      "source": [
        "lst = [1, 2, 3, 4, 2, 5]\n",
        "duplicates = False\n",
        "for i in range(len(lst)) :\n",
        "  for j in range(i + 1, len(lst)):\n",
        "    if lst[i] == lst[j]:\n",
        "      duplicates = True\n",
        "      break\n",
        "\n",
        "if duplicates :\n",
        "  print(\"This list contains duplicates\")\n",
        "else :\n",
        "  print(\"This list is unque\")"
      ],
      "metadata": {
        "colab": {
          "base_uri": "https://localhost:8080/"
        },
        "id": "8zyAARjTw_JS",
        "outputId": "18f5f0d7-761e-4c96-cf5b-37ab4d8e48a2"
      },
      "execution_count": null,
      "outputs": [
        {
          "output_type": "stream",
          "name": "stdout",
          "text": [
            "This list contains duplicates\n"
          ]
        }
      ]
    },
    {
      "cell_type": "markdown",
      "source": [
        "###12. Create a program that prints the prime numbers in a given range using a `for` loop."
      ],
      "metadata": {
        "id": "Lm-gQRrpzug4"
      }
    },
    {
      "cell_type": "code",
      "source": [
        "start = int(input(\"Enter the number you want to start with: \"))\n",
        "end = int(input(\"Enter the number you want to end with: \"))\n",
        "print(\"Prime numbers in the range\", start, \"to\", end, \"are:\")\n",
        "for num in range(start, end + 1):\n",
        "    if num > 1:\n",
        "        is_prime = True\n",
        "        for i in range(2, int(num ** 0.5) + 1):\n",
        "            if num % i == 0:\n",
        "                is_prime = False\n",
        "                break\n",
        "        if is_prime:\n",
        "            print(num)\n"
      ],
      "metadata": {
        "colab": {
          "base_uri": "https://localhost:8080/"
        },
        "id": "2XrwtUD2yZv0",
        "outputId": "d311a700-549e-4e2b-da47-b2fa53bc368f"
      },
      "execution_count": null,
      "outputs": [
        {
          "output_type": "stream",
          "name": "stdout",
          "text": [
            "Enter the number you want to start with: 10\n",
            "Enter the number you want to end with: 30\n",
            "Prime numbers in the range 10 to 30 are:\n",
            "11\n",
            "13\n",
            "17\n",
            "19\n",
            "23\n",
            "29\n"
          ]
        }
      ]
    },
    {
      "cell_type": "markdown",
      "source": [
        "###13. Develop a program that counts the number of vowels in a string using a `for` loop."
      ],
      "metadata": {
        "id": "eWwG6P661Q7w"
      }
    },
    {
      "cell_type": "code",
      "source": [
        "string = \"Program to count the vowels from the string\"\n",
        "vowels = \"AEIOUaeiou\"\n",
        "vowel_count = 0\n",
        "for char in string :\n",
        "  if char in vowels :\n",
        "    vowel_count += 1\n",
        "\n",
        "print(\"Total number of vowels in string: \", vowel_count)"
      ],
      "metadata": {
        "colab": {
          "base_uri": "https://localhost:8080/"
        },
        "id": "_wy8z9DR1Qxd",
        "outputId": "477c86a0-bc29-47d2-b434-8cbcda2ee0f1"
      },
      "execution_count": null,
      "outputs": [
        {
          "output_type": "stream",
          "name": "stdout",
          "text": [
            "Total number of vowels in string:  11\n"
          ]
        }
      ]
    },
    {
      "cell_type": "markdown",
      "source": [
        "###14. Write a program to find the maximum element in a 2D list using a nested `for` loop."
      ],
      "metadata": {
        "id": "BYO1Ya8H1WGz"
      }
    },
    {
      "cell_type": "code",
      "source": [
        "lst = [[1, 2, 3], [4, 9, 6], [7, 8, 5]]\n",
        "max_element = lst[0][0]\n",
        "for i in lst:\n",
        "    for j in i:\n",
        "        if j > max_element:\n",
        "            max_element = j\n",
        "print(\"Maximum element:\", max_element)"
      ],
      "metadata": {
        "colab": {
          "base_uri": "https://localhost:8080/"
        },
        "id": "qMyU59311MAu",
        "outputId": "c91bfe7f-ad49-4dd7-ec55-3ef47db343e1"
      },
      "execution_count": null,
      "outputs": [
        {
          "output_type": "stream",
          "name": "stdout",
          "text": [
            "Maximum element: 9\n"
          ]
        }
      ]
    },
    {
      "cell_type": "markdown",
      "source": [
        "###15. Create a program that removes all occurrences of a specific element from a list using a `for` loop."
      ],
      "metadata": {
        "id": "liH8upsY1YYP"
      }
    },
    {
      "cell_type": "code",
      "source": [
        "lst = [1, 2, 3, 4, 2, 5, 2, 3, 4, 2, 5]\n",
        "new_list = []\n",
        "for item in lst :\n",
        "  if item not in new_list :\n",
        "    new_list.append(item)\n",
        "\n",
        "new_list"
      ],
      "metadata": {
        "colab": {
          "base_uri": "https://localhost:8080/"
        },
        "id": "-Bby5m1y1YS2",
        "outputId": "6833211e-484d-4db9-b709-c4211ba688a2"
      },
      "execution_count": null,
      "outputs": [
        {
          "output_type": "execute_result",
          "data": {
            "text/plain": [
              "[1, 2, 3, 4, 5]"
            ]
          },
          "metadata": {},
          "execution_count": 7
        }
      ]
    },
    {
      "cell_type": "markdown",
      "source": [
        "###16. Develop a program that generates a multiplication table for numbers from 1 to 5 using a nested `for` loop."
      ],
      "metadata": {
        "id": "hAoJfdec1YNY"
      }
    },
    {
      "cell_type": "code",
      "source": [
        "for num in range(1, 6) :\n",
        "  print(f\"Multiplication table for {i}:\")\n",
        "  for j in range(1, 11) :\n",
        "    table = num * j\n",
        "    print(f\"{i} x {j} = {table}\")\n"
      ],
      "metadata": {
        "colab": {
          "base_uri": "https://localhost:8080/"
        },
        "id": "quy3q0vk1YHX",
        "outputId": "d2946f01-60be-4982-e2e2-35871e6693c9"
      },
      "execution_count": null,
      "outputs": [
        {
          "output_type": "stream",
          "name": "stdout",
          "text": [
            "Multiplication table for 5:\n",
            "5 x 1 = 1\n",
            "5 x 2 = 2\n",
            "5 x 3 = 3\n",
            "5 x 4 = 4\n",
            "5 x 5 = 5\n",
            "5 x 6 = 6\n",
            "5 x 7 = 7\n",
            "5 x 8 = 8\n",
            "5 x 9 = 9\n",
            "5 x 10 = 10\n",
            "Multiplication table for 5:\n",
            "5 x 1 = 2\n",
            "5 x 2 = 4\n",
            "5 x 3 = 6\n",
            "5 x 4 = 8\n",
            "5 x 5 = 10\n",
            "5 x 6 = 12\n",
            "5 x 7 = 14\n",
            "5 x 8 = 16\n",
            "5 x 9 = 18\n",
            "5 x 10 = 20\n",
            "Multiplication table for 5:\n",
            "5 x 1 = 3\n",
            "5 x 2 = 6\n",
            "5 x 3 = 9\n",
            "5 x 4 = 12\n",
            "5 x 5 = 15\n",
            "5 x 6 = 18\n",
            "5 x 7 = 21\n",
            "5 x 8 = 24\n",
            "5 x 9 = 27\n",
            "5 x 10 = 30\n",
            "Multiplication table for 5:\n",
            "5 x 1 = 4\n",
            "5 x 2 = 8\n",
            "5 x 3 = 12\n",
            "5 x 4 = 16\n",
            "5 x 5 = 20\n",
            "5 x 6 = 24\n",
            "5 x 7 = 28\n",
            "5 x 8 = 32\n",
            "5 x 9 = 36\n",
            "5 x 10 = 40\n",
            "Multiplication table for 5:\n",
            "5 x 1 = 5\n",
            "5 x 2 = 10\n",
            "5 x 3 = 15\n",
            "5 x 4 = 20\n",
            "5 x 5 = 25\n",
            "5 x 6 = 30\n",
            "5 x 7 = 35\n",
            "5 x 8 = 40\n",
            "5 x 9 = 45\n",
            "5 x 10 = 50\n"
          ]
        }
      ]
    },
    {
      "cell_type": "markdown",
      "source": [
        "###17. Write a program that converts a list of Fahrenheit temperatures to Celsius using a `for` loop."
      ],
      "metadata": {
        "id": "nESYCVuG1YCP"
      }
    },
    {
      "cell_type": "code",
      "source": [
        "fah_temp = [32, 68, 94, 45, 26, 86, 104]\n",
        "cel_temp = []\n",
        "\n",
        "for temp_f in fah_temp:\n",
        "    temp_c = (temp_f - 32) * 5/9\n",
        "    cel_temp.append(temp_c)\n",
        "\n",
        "print(\"Celsius Temperatures:\", cel_temp)"
      ],
      "metadata": {
        "colab": {
          "base_uri": "https://localhost:8080/"
        },
        "id": "uoSBVd2B1X8Q",
        "outputId": "af7dfda9-625a-44a8-c05f-666444a96d6b"
      },
      "execution_count": null,
      "outputs": [
        {
          "output_type": "stream",
          "name": "stdout",
          "text": [
            "Celsius Temperatures: [0.0, 20.0, 34.44444444444444, 7.222222222222222, -3.3333333333333335, 30.0, 40.0]\n"
          ]
        }
      ]
    },
    {
      "cell_type": "markdown",
      "source": [
        "###18. Create a program to print the common elements from two lists using a `for` loop."
      ],
      "metadata": {
        "id": "tVK_uYOy1X2p"
      }
    },
    {
      "cell_type": "code",
      "source": [
        "list1 = [1, 2, 3, 4, 5]\n",
        "list2 = [3, 4, 5, 6, 7]\n",
        "common_elements = []\n",
        "\n",
        "for i in list1 :\n",
        "  if i in list2:\n",
        "    common_elements.append(i)\n",
        "\n",
        "common_elements"
      ],
      "metadata": {
        "colab": {
          "base_uri": "https://localhost:8080/"
        },
        "id": "Q_7R794N1Xr9",
        "outputId": "19ea50ce-b401-44ea-a57a-625e91072e85"
      },
      "execution_count": null,
      "outputs": [
        {
          "output_type": "execute_result",
          "data": {
            "text/plain": [
              "[3, 4, 5]"
            ]
          },
          "metadata": {},
          "execution_count": 7
        }
      ]
    },
    {
      "cell_type": "markdown",
      "source": [
        "###19. Develop a program that prints the pattern of right-angled triangles using a `for` loop. Use ‘*’ to draw the pattern"
      ],
      "metadata": {
        "id": "79eSumDp1Xp1"
      }
    },
    {
      "cell_type": "code",
      "source": [
        "n = 5\n",
        "for i in range(1, n + 1):\n",
        "    for j in range(i):\n",
        "        print(\"*\", end=\" \")\n",
        "    print()"
      ],
      "metadata": {
        "colab": {
          "base_uri": "https://localhost:8080/"
        },
        "id": "t60G53xM1XgM",
        "outputId": "fb3ce7b3-80cc-4a2f-f261-32e2bd707555"
      },
      "execution_count": null,
      "outputs": [
        {
          "output_type": "stream",
          "name": "stdout",
          "text": [
            "* \n",
            "* * \n",
            "* * * \n",
            "* * * * \n",
            "* * * * * \n"
          ]
        }
      ]
    },
    {
      "cell_type": "markdown",
      "source": [
        "###20. Write a program to find the greatest common divisor (GCD) of two numbers using a `for` loop."
      ],
      "metadata": {
        "id": "mx4YpvJW1XZa"
      }
    },
    {
      "cell_type": "code",
      "source": [
        "def calculate_gcd(a, b):\n",
        "    while b:\n",
        "        a, b = b, a % b\n",
        "    return a\n",
        "\n",
        "num1 = 48\n",
        "num2 = 60\n",
        "gcd = calculate_gcd(num1, num2)\n",
        "print(\"GCD of\", num1, \"and\", num2, \"is\", gcd)\n"
      ],
      "metadata": {
        "id": "KDomCxhI1XSi"
      },
      "execution_count": null,
      "outputs": []
    },
    {
      "cell_type": "markdown",
      "source": [
        "##Advanced Level:"
      ],
      "metadata": {
        "id": "LWK_01921W_S"
      }
    },
    {
      "cell_type": "markdown",
      "source": [
        "###21. Create a program that calculates the sum of the digits of numbers in a list using a list comprehension."
      ],
      "metadata": {
        "id": "7_-NZSf_y0Ra"
      }
    },
    {
      "cell_type": "code",
      "source": [
        "numbers = [123, 456, 789]\n",
        "sum_of_digits = []\n",
        "\n",
        "for num in numbers:\n",
        "    digit_sum = 0\n",
        "    for digit in str(num):\n",
        "        digit_sum += int(digit)\n",
        "    sum_of_digits.append(digit_sum)\n",
        "\n",
        "print(\"Sum of digits in the list:\", sum_of_digits)"
      ],
      "metadata": {
        "colab": {
          "base_uri": "https://localhost:8080/"
        },
        "id": "FulIkTlAy5uP",
        "outputId": "5d15ead3-d835-480b-c277-d6b9dec65e74"
      },
      "execution_count": null,
      "outputs": [
        {
          "output_type": "stream",
          "name": "stdout",
          "text": [
            "Sum of digits in the list: [6, 15, 24]\n"
          ]
        }
      ]
    },
    {
      "cell_type": "markdown",
      "source": [
        "###22. Write a program to find the prime factors of a given number using a `for` loop and list comprehension."
      ],
      "metadata": {
        "id": "_3nyI6mG2Wcd"
      }
    },
    {
      "cell_type": "code",
      "source": [
        "def prime_factors(n):\n",
        "    factors = []\n",
        "    i = 2\n",
        "\n",
        "    while i <= n:\n",
        "        if n % i == 0:\n",
        "            factors.append(i)\n",
        "            n = n / i\n",
        "        else:\n",
        "            i += 1\n",
        "\n",
        "    return factors\n",
        "\n",
        "number = 60\n",
        "prime_factors_list = prime_factors(number)\n",
        "print(\"Prime factors of\", number, \"are:\", prime_factors_list)"
      ],
      "metadata": {
        "colab": {
          "base_uri": "https://localhost:8080/"
        },
        "id": "3WOZyqEm0n6G",
        "outputId": "95e7a983-cd40-4130-98b8-1fcc463c53a8"
      },
      "execution_count": null,
      "outputs": [
        {
          "output_type": "stream",
          "name": "stdout",
          "text": [
            "Prime factors of 60 are: [2, 2, 3, 5]\n"
          ]
        }
      ]
    },
    {
      "cell_type": "markdown",
      "source": [
        "###23. Develop a program that extracts unique elements from a list and stores them in a new list using a list comprehension."
      ],
      "metadata": {
        "id": "DO_H5lCD2pWh"
      }
    },
    {
      "cell_type": "code",
      "source": [
        "my_list = [1, 2, 2, 3, 3, 4, 5]\n",
        "unique_elements = []\n",
        "\n",
        "for item in my_list:\n",
        "    if item not in unique_elements:\n",
        "        unique_elements.append(item)\n",
        "\n",
        "print(\"Unique elements:\", unique_elements)"
      ],
      "metadata": {
        "colab": {
          "base_uri": "https://localhost:8080/"
        },
        "id": "e7VjeE8_2c0M",
        "outputId": "eff33097-1372-493a-8ad4-0edb5c28a094"
      },
      "execution_count": null,
      "outputs": [
        {
          "output_type": "stream",
          "name": "stdout",
          "text": [
            "Unique elements: [1, 2, 3, 4, 5]\n"
          ]
        }
      ]
    },
    {
      "cell_type": "markdown",
      "source": [
        "###24. Create a program that generates a list of all palindromic numbers up to a specified limit using a list comprehension."
      ],
      "metadata": {
        "id": "T7WAizxa2yd7"
      }
    },
    {
      "cell_type": "code",
      "source": [
        "limit = 100\n",
        "palindromic_numbers = []\n",
        "\n",
        "for number in range(1, limit + 1):\n",
        "    if str(number) == str(number)[::-1]:\n",
        "        palindromic_numbers.append(number)\n",
        "\n",
        "print(\"Palindromic numbers up to\", limit, \"are:\", palindromic_numbers)"
      ],
      "metadata": {
        "colab": {
          "base_uri": "https://localhost:8080/"
        },
        "id": "lqElIICr2xAS",
        "outputId": "17bf9dd1-0f6d-4515-9d79-9efe45080d93"
      },
      "execution_count": null,
      "outputs": [
        {
          "output_type": "stream",
          "name": "stdout",
          "text": [
            "Palindromic numbers up to 100 are: [1, 2, 3, 4, 5, 6, 7, 8, 9, 11, 22, 33, 44, 55, 66, 77, 88, 99]\n"
          ]
        }
      ]
    },
    {
      "cell_type": "markdown",
      "source": [
        "###25. Write a program to flatten a nested list using list comprehension."
      ],
      "metadata": {
        "id": "aff5Nhxc3K02"
      }
    },
    {
      "cell_type": "code",
      "source": [
        "nested_list = [[1, 2, 3], [4, [5, 6], 7], [8, 9]]\n",
        "flattened_list = []\n",
        "\n",
        "for sublist in nested_list:\n",
        "    for item in sublist:\n",
        "        if isinstance(item, list):\n",
        "            for subitem in item:\n",
        "                flattened_list.append(subitem)\n",
        "        else:\n",
        "            flattened_list.append(item)\n",
        "\n",
        "print(\"Flattened list:\", flattened_list)"
      ],
      "metadata": {
        "colab": {
          "base_uri": "https://localhost:8080/"
        },
        "id": "H7YzT45c3MS6",
        "outputId": "82bccfcf-32d8-41bf-eb43-9686ea357af3"
      },
      "execution_count": null,
      "outputs": [
        {
          "output_type": "stream",
          "name": "stdout",
          "text": [
            "Flattened list: [1, 2, 3, 4, 5, 6, 7, 8, 9]\n"
          ]
        }
      ]
    },
    {
      "cell_type": "markdown",
      "source": [
        "###26. Develop a program that computes the sum of even and odd numbers in a list separately using list comprehension."
      ],
      "metadata": {
        "id": "exZFauDB3KuT"
      }
    },
    {
      "cell_type": "code",
      "source": [
        "numbers = [1, 2, 3, 4, 5, 6, 7, 8, 9]\n",
        "even_sum = 0\n",
        "odd_sum = 0\n",
        "\n",
        "for num in numbers:\n",
        "    if num % 2 == 0:\n",
        "        even_sum += num\n",
        "    else:\n",
        "        odd_sum += num\n",
        "\n",
        "print(\"Sum of even numbers:\", even_sum)\n",
        "print(\"Sum of odd numbers:\", odd_sum)"
      ],
      "metadata": {
        "id": "ONWyGvQa2_8f",
        "colab": {
          "base_uri": "https://localhost:8080/"
        },
        "outputId": "41fb379b-cedf-4463-9cf2-e0dadb2c68d9"
      },
      "execution_count": 6,
      "outputs": [
        {
          "output_type": "stream",
          "name": "stdout",
          "text": [
            "Sum of even numbers: 20\n",
            "Sum of odd numbers: 25\n"
          ]
        }
      ]
    },
    {
      "cell_type": "markdown",
      "source": [
        "###27. Create a program that generates a list of squares of odd numbers between 1 and 10 using list comprehension."
      ],
      "metadata": {
        "id": "lkmx4gHyd2_o"
      }
    },
    {
      "cell_type": "code",
      "source": [
        "odd_squares = []\n",
        "\n",
        "for num in range(1, 11):\n",
        "    if num % 2 != 0:\n",
        "        odd_squares.append(num ** 2)\n",
        "\n",
        "print(\"Squares of odd numbers:\", odd_squares)\n"
      ],
      "metadata": {
        "colab": {
          "base_uri": "https://localhost:8080/"
        },
        "id": "o32vbiL2xEt7",
        "outputId": "e3a269a1-536d-4209-f795-1fc5b3b6bbc5"
      },
      "execution_count": 7,
      "outputs": [
        {
          "output_type": "stream",
          "name": "stdout",
          "text": [
            "Squares of odd numbers: [1, 9, 25, 49, 81]\n"
          ]
        }
      ]
    },
    {
      "cell_type": "markdown",
      "source": [
        "###28. Write a program that combines two lists into a dictionary using list comprehension."
      ],
      "metadata": {
        "id": "QZSHjCeFeFQ0"
      }
    },
    {
      "cell_type": "code",
      "source": [
        "keys = ['a', 'b', 'c']\n",
        "values = [1, 2, 3]\n",
        "combined_dict = {}\n",
        "\n",
        "for i in range(len(keys)):\n",
        "    combined_dict[keys[i]] = values[i]\n",
        "\n",
        "print(\"Combined dictionary:\", combined_dict)"
      ],
      "metadata": {
        "colab": {
          "base_uri": "https://localhost:8080/"
        },
        "id": "q-y1EA_4eFxb",
        "outputId": "b8d260a0-5c5d-4556-85f3-3719f964a991"
      },
      "execution_count": 8,
      "outputs": [
        {
          "output_type": "stream",
          "name": "stdout",
          "text": [
            "Combined dictionary: {'a': 1, 'b': 2, 'c': 3}\n"
          ]
        }
      ]
    },
    {
      "cell_type": "markdown",
      "source": [
        "###29. Develop a program that extracts the vowels from a string and stores them in a list using list comprehension."
      ],
      "metadata": {
        "id": "5hy-HStteGJc"
      }
    },
    {
      "cell_type": "code",
      "source": [
        "my_string = \"Hello, World!\"\n",
        "vowels = \"AEIOUaeiou\"\n",
        "vowel_list = []\n",
        "\n",
        "for char in my_string:\n",
        "    if char in vowels:\n",
        "        vowel_list.append(char)\n",
        "\n",
        "print(\"Vowels in the string:\", vowel_list)"
      ],
      "metadata": {
        "colab": {
          "base_uri": "https://localhost:8080/"
        },
        "id": "VvqhTN_seGgc",
        "outputId": "470a7487-ad2f-4650-b4ef-d2021454d1d8"
      },
      "execution_count": 9,
      "outputs": [
        {
          "output_type": "stream",
          "name": "stdout",
          "text": [
            "Vowels in the string: ['e', 'o', 'o']\n"
          ]
        }
      ]
    },
    {
      "cell_type": "markdown",
      "source": [
        "###30. Create a program that removes all non-numeric characters from a list of strings using list comprehension."
      ],
      "metadata": {
        "id": "NqDGg_jteG_h"
      }
    },
    {
      "cell_type": "code",
      "source": [
        "string_list = [\"abc\", \"123\", \"def\", \"456\"]\n",
        "numeric_list = []\n",
        "\n",
        "for string in string_list:\n",
        "    for char in string:\n",
        "        if char.isdigit():\n",
        "            numeric_list.append(string)\n",
        "            break\n",
        "\n",
        "print(\"Strings with numeric characters:\", numeric_list)"
      ],
      "metadata": {
        "colab": {
          "base_uri": "https://localhost:8080/"
        },
        "id": "dUfSK-V6eHaI",
        "outputId": "ee4f2f89-bb00-40ac-f7ba-b05c2e072280"
      },
      "execution_count": 10,
      "outputs": [
        {
          "output_type": "stream",
          "name": "stdout",
          "text": [
            "Strings with numeric characters: ['123', '456']\n"
          ]
        }
      ]
    },
    {
      "cell_type": "markdown",
      "source": [
        "##Challenge Level:"
      ],
      "metadata": {
        "id": "t_UX0_-HiPIq"
      }
    },
    {
      "cell_type": "markdown",
      "source": [
        "###31. Write a program to generate a list of prime numbers using the Sieve of Eratosthenes algorithm and list comprehension."
      ],
      "metadata": {
        "id": "uxkaeFv2iS1q"
      }
    },
    {
      "cell_type": "code",
      "source": [
        "limit = 50\n",
        "sieve = [True] * (limit + 1)\n",
        "sieve[0:2] = [False, False]\n",
        "\n",
        "for i in range(2, int(limit ** 0.5) + 1):\n",
        "    if sieve[i]:\n",
        "        for j in range(i ** 2, limit + 1, i):\n",
        "            sieve[j] = False\n",
        "\n",
        "prime_numbers = [i for i, is_prime in enumerate(sieve) if is_prime]\n",
        "print(\"Prime numbers up to\", limit, \"are:\", prime_numbers)"
      ],
      "metadata": {
        "id": "0TzwUN-EiKA1"
      },
      "execution_count": null,
      "outputs": []
    },
    {
      "cell_type": "markdown",
      "source": [
        "###32. Create a program that generates a list of all Pythagorean triplets up to a specified limit using list comprehension."
      ],
      "metadata": {
        "id": "egiz9lGYEYkg"
      }
    },
    {
      "cell_type": "code",
      "source": [
        "limit = 20\n",
        "pythagorean_triplets = [(a, b, c) for a in range(1, limit) for b in range(a, limit) for c in range(b, limit) if a**2 + b**2 == c**2]\n",
        "print(\"Pythagorean triplets up to\", limit, \"are:\", pythagorean_triplets)\n"
      ],
      "metadata": {
        "colab": {
          "base_uri": "https://localhost:8080/"
        },
        "id": "BB6HEshxEZNd",
        "outputId": "efd546c8-cbf2-4e10-ec9d-5d4f8892c12c"
      },
      "execution_count": 3,
      "outputs": [
        {
          "output_type": "stream",
          "name": "stdout",
          "text": [
            "Pythagorean triplets up to 40 are: [(3, 4, 5), (5, 12, 13), (6, 8, 10), (7, 24, 25), (8, 15, 17), (9, 12, 15), (10, 24, 26), (12, 16, 20), (12, 35, 37), (15, 20, 25), (15, 36, 39), (16, 30, 34), (18, 24, 30), (20, 21, 29), (21, 28, 35), (24, 32, 40)]\n"
          ]
        }
      ]
    },
    {
      "cell_type": "markdown",
      "source": [
        "###33. Develop a program that generates a list of all possible combinations of two lists using list comprehension."
      ],
      "metadata": {
        "id": "7QOvj5YzG5dh"
      }
    },
    {
      "cell_type": "code",
      "source": [
        "list1 = [1, 2]\n",
        "list2 = ['a', 'b']\n",
        "combinations = [(x, y) for x in list1 for y in list2]\n",
        "print(\"Combinations of two lists:\", combinations)"
      ],
      "metadata": {
        "colab": {
          "base_uri": "https://localhost:8080/"
        },
        "id": "aoUCqMD5G5I7",
        "outputId": "7ee890c0-d4ca-436b-bc14-62b2b8974edd"
      },
      "execution_count": 4,
      "outputs": [
        {
          "output_type": "stream",
          "name": "stdout",
          "text": [
            "Combinations of two lists: [(1, 'a'), (1, 'b'), (2, 'a'), (2, 'b')]\n"
          ]
        }
      ]
    },
    {
      "cell_type": "markdown",
      "source": [
        "###34. Write a program that calculates the mean, median, and mode of a list of numbers using list comprehension."
      ],
      "metadata": {
        "id": "piceppkfHWJK"
      }
    },
    {
      "cell_type": "code",
      "source": [
        "from statistics import mean, median, mode\n",
        "\n",
        "numbers = [1, 2, 2, 3, 3, 3, 4, 4, 5]\n",
        "mean_value = mean(numbers)\n",
        "median_value = median(numbers)\n",
        "mode_value = mode(numbers)\n",
        "\n",
        "print(\"Mean:\", mean_value)\n",
        "print(\"Median:\", median_value)\n",
        "print(\"Mode:\", mode_value)"
      ],
      "metadata": {
        "colab": {
          "base_uri": "https://localhost:8080/"
        },
        "id": "6Keb2UzYHWBZ",
        "outputId": "ea4e27de-58df-4828-c4d9-a77804289825"
      },
      "execution_count": 5,
      "outputs": [
        {
          "output_type": "stream",
          "name": "stdout",
          "text": [
            "Mean: 3\n",
            "Median: 3\n",
            "Mode: 3\n"
          ]
        }
      ]
    },
    {
      "cell_type": "markdown",
      "source": [
        "###35. Create a program that generates Pascal's triangle up to a specified number of rows using list comprehension."
      ],
      "metadata": {
        "id": "1R2fNjkWHV3W"
      }
    },
    {
      "cell_type": "code",
      "source": [
        "def generate_pascals_triangle(n):\n",
        "    triangle = [[1]]\n",
        "    for i in range(1, n):\n",
        "        new_row = [1] + [triangle[i-1][j] + triangle[i-1][j+1] for j in range(i-1)] + [1]\n",
        "        triangle.append(new_row)\n",
        "    return triangle\n",
        "\n",
        "num_rows = 5\n",
        "pascals_triangle = generate_pascals_triangle(num_rows)\n",
        "for row in pascals_triangle:\n",
        "    print(row)"
      ],
      "metadata": {
        "colab": {
          "base_uri": "https://localhost:8080/"
        },
        "id": "yRI-Ry4NHVsX",
        "outputId": "9c3be526-240a-4991-8a57-5c15d9ffad88"
      },
      "execution_count": 6,
      "outputs": [
        {
          "output_type": "stream",
          "name": "stdout",
          "text": [
            "[1]\n",
            "[1, 1]\n",
            "[1, 2, 1]\n",
            "[1, 3, 3, 1]\n",
            "[1, 4, 6, 4, 1]\n"
          ]
        }
      ]
    },
    {
      "cell_type": "markdown",
      "source": [
        "###36. Develop a program that calculates the sum of the digits of a factorial of numbers from 1 to 5 using list comprehension."
      ],
      "metadata": {
        "id": "DIFZeA8YHVkT"
      }
    },
    {
      "cell_type": "code",
      "source": [
        "import math\n",
        "\n",
        "numbers = [1, 2, 3, 4, 5]\n",
        "digit_sums = [sum(int(digit) for digit in str(math.factorial(num))) for num in numbers]\n",
        "print(\"Sum of digits of factorials:\", digit_sums)"
      ],
      "metadata": {
        "colab": {
          "base_uri": "https://localhost:8080/"
        },
        "id": "C6jqfn4IHVau",
        "outputId": "07db49b2-23f1-4d0a-a7bb-3d51bd7f4671"
      },
      "execution_count": 7,
      "outputs": [
        {
          "output_type": "stream",
          "name": "stdout",
          "text": [
            "Sum of digits of factorials: [1, 2, 6, 6, 3]\n"
          ]
        }
      ]
    },
    {
      "cell_type": "markdown",
      "source": [
        "###37. Write a program that finds the longest word in a sentence using list comprehension."
      ],
      "metadata": {
        "id": "2lksQpN9HVOc"
      }
    },
    {
      "cell_type": "code",
      "source": [
        "sentence = \"This is a sample sentence with some long words\"\n",
        "words = sentence.split()\n",
        "longest_word = max(words, key=lambda word: len(word))\n",
        "print(\"Longest word in the sentence:\", longest_word)"
      ],
      "metadata": {
        "colab": {
          "base_uri": "https://localhost:8080/"
        },
        "id": "rovkwNBpHUwY",
        "outputId": "09fd3077-65a9-43ab-be9c-4769339d682e"
      },
      "execution_count": 8,
      "outputs": [
        {
          "output_type": "stream",
          "name": "stdout",
          "text": [
            "Longest word in the sentence: sentence\n"
          ]
        }
      ]
    },
    {
      "cell_type": "markdown",
      "source": [
        "###38. Create a program that filters a list of strings to include only those with more than three vowels using list comprehension."
      ],
      "metadata": {
        "id": "Xvdx1zVIHTqV"
      }
    },
    {
      "cell_type": "code",
      "source": [
        "# We start with a list of words.\n",
        "words = [\"apple\", \"banana\", \"elephant\", \"cat\", \"zebra\"]\n",
        "\n",
        "# We want to find and keep the words that have more than three vowels (letters 'a', 'e', 'i', 'o', 'u').\n",
        "# First, we create a function called 'vowel_count' that counts the vowels in a word.\n",
        "def vowel_count(word):\n",
        "    count = 0  # We start with a count of zero.\n",
        "\n",
        "    for char in word:\n",
        "        if char.lower() in \"aeiou\":\n",
        "            count += 1  # If the character is a vowel, we increase the count by 1.\n",
        "\n",
        "    return count  # Finally, we return the total count of vowels in the word.\n",
        "\n",
        "# Now, we use a list comprehension to filter the words.\n",
        "filtered_words = []  # We start with an empty list to store the filtered words.\n",
        "\n",
        "# We go through each word in the 'words' list.\n",
        "for word in words:\n",
        "    # We call the 'vowel_count' function for each word to count its vowels.\n",
        "    count = vowel_count(word)\n",
        "\n",
        "    # If the count is greater than 3 (meaning it has more than three vowels), we add the word to our filtered list.\n",
        "    if count > 3:\n",
        "        filtered_words.append(word)\n",
        "\n",
        "# At the end, we have a list of words with more than three vowels.\n",
        "print(\"Words with more than three vowels:\", filtered_words)"
      ],
      "metadata": {
        "colab": {
          "base_uri": "https://localhost:8080/"
        },
        "id": "mCtuV-zmHUYS",
        "outputId": "feb454be-f879-4e45-e447-648900f6dbb5"
      },
      "execution_count": 11,
      "outputs": [
        {
          "output_type": "stream",
          "name": "stdout",
          "text": [
            "Words with more than three vowels: []\n"
          ]
        }
      ]
    },
    {
      "cell_type": "markdown",
      "source": [
        "###39. Develop a program that calculates the sum of the digits of numbers from 1 to 1000 using list comprehension."
      ],
      "metadata": {
        "id": "eH51z-8VG5zn"
      }
    },
    {
      "cell_type": "code",
      "source": [
        "digit_sums = [sum(int(digit) for digit in str(num)) for num in range(1, 1001)]\n",
        "print(\"Sum of digits for numbers from 1 to 1000:\", digit_sums)"
      ],
      "metadata": {
        "colab": {
          "base_uri": "https://localhost:8080/"
        },
        "id": "4AIgpDIfGwno",
        "outputId": "cafb5399-8412-43d7-fc6d-0f446f36bb8b"
      },
      "execution_count": 12,
      "outputs": [
        {
          "output_type": "stream",
          "name": "stdout",
          "text": [
            "Sum of digits for numbers from 1 to 1000: [1, 2, 3, 4, 5, 6, 7, 8, 9, 1, 2, 3, 4, 5, 6, 7, 8, 9, 10, 2, 3, 4, 5, 6, 7, 8, 9, 10, 11, 3, 4, 5, 6, 7, 8, 9, 10, 11, 12, 4, 5, 6, 7, 8, 9, 10, 11, 12, 13, 5, 6, 7, 8, 9, 10, 11, 12, 13, 14, 6, 7, 8, 9, 10, 11, 12, 13, 14, 15, 7, 8, 9, 10, 11, 12, 13, 14, 15, 16, 8, 9, 10, 11, 12, 13, 14, 15, 16, 17, 9, 10, 11, 12, 13, 14, 15, 16, 17, 18, 1, 2, 3, 4, 5, 6, 7, 8, 9, 10, 2, 3, 4, 5, 6, 7, 8, 9, 10, 11, 3, 4, 5, 6, 7, 8, 9, 10, 11, 12, 4, 5, 6, 7, 8, 9, 10, 11, 12, 13, 5, 6, 7, 8, 9, 10, 11, 12, 13, 14, 6, 7, 8, 9, 10, 11, 12, 13, 14, 15, 7, 8, 9, 10, 11, 12, 13, 14, 15, 16, 8, 9, 10, 11, 12, 13, 14, 15, 16, 17, 9, 10, 11, 12, 13, 14, 15, 16, 17, 18, 10, 11, 12, 13, 14, 15, 16, 17, 18, 19, 2, 3, 4, 5, 6, 7, 8, 9, 10, 11, 3, 4, 5, 6, 7, 8, 9, 10, 11, 12, 4, 5, 6, 7, 8, 9, 10, 11, 12, 13, 5, 6, 7, 8, 9, 10, 11, 12, 13, 14, 6, 7, 8, 9, 10, 11, 12, 13, 14, 15, 7, 8, 9, 10, 11, 12, 13, 14, 15, 16, 8, 9, 10, 11, 12, 13, 14, 15, 16, 17, 9, 10, 11, 12, 13, 14, 15, 16, 17, 18, 10, 11, 12, 13, 14, 15, 16, 17, 18, 19, 11, 12, 13, 14, 15, 16, 17, 18, 19, 20, 3, 4, 5, 6, 7, 8, 9, 10, 11, 12, 4, 5, 6, 7, 8, 9, 10, 11, 12, 13, 5, 6, 7, 8, 9, 10, 11, 12, 13, 14, 6, 7, 8, 9, 10, 11, 12, 13, 14, 15, 7, 8, 9, 10, 11, 12, 13, 14, 15, 16, 8, 9, 10, 11, 12, 13, 14, 15, 16, 17, 9, 10, 11, 12, 13, 14, 15, 16, 17, 18, 10, 11, 12, 13, 14, 15, 16, 17, 18, 19, 11, 12, 13, 14, 15, 16, 17, 18, 19, 20, 12, 13, 14, 15, 16, 17, 18, 19, 20, 21, 4, 5, 6, 7, 8, 9, 10, 11, 12, 13, 5, 6, 7, 8, 9, 10, 11, 12, 13, 14, 6, 7, 8, 9, 10, 11, 12, 13, 14, 15, 7, 8, 9, 10, 11, 12, 13, 14, 15, 16, 8, 9, 10, 11, 12, 13, 14, 15, 16, 17, 9, 10, 11, 12, 13, 14, 15, 16, 17, 18, 10, 11, 12, 13, 14, 15, 16, 17, 18, 19, 11, 12, 13, 14, 15, 16, 17, 18, 19, 20, 12, 13, 14, 15, 16, 17, 18, 19, 20, 21, 13, 14, 15, 16, 17, 18, 19, 20, 21, 22, 5, 6, 7, 8, 9, 10, 11, 12, 13, 14, 6, 7, 8, 9, 10, 11, 12, 13, 14, 15, 7, 8, 9, 10, 11, 12, 13, 14, 15, 16, 8, 9, 10, 11, 12, 13, 14, 15, 16, 17, 9, 10, 11, 12, 13, 14, 15, 16, 17, 18, 10, 11, 12, 13, 14, 15, 16, 17, 18, 19, 11, 12, 13, 14, 15, 16, 17, 18, 19, 20, 12, 13, 14, 15, 16, 17, 18, 19, 20, 21, 13, 14, 15, 16, 17, 18, 19, 20, 21, 22, 14, 15, 16, 17, 18, 19, 20, 21, 22, 23, 6, 7, 8, 9, 10, 11, 12, 13, 14, 15, 7, 8, 9, 10, 11, 12, 13, 14, 15, 16, 8, 9, 10, 11, 12, 13, 14, 15, 16, 17, 9, 10, 11, 12, 13, 14, 15, 16, 17, 18, 10, 11, 12, 13, 14, 15, 16, 17, 18, 19, 11, 12, 13, 14, 15, 16, 17, 18, 19, 20, 12, 13, 14, 15, 16, 17, 18, 19, 20, 21, 13, 14, 15, 16, 17, 18, 19, 20, 21, 22, 14, 15, 16, 17, 18, 19, 20, 21, 22, 23, 15, 16, 17, 18, 19, 20, 21, 22, 23, 24, 7, 8, 9, 10, 11, 12, 13, 14, 15, 16, 8, 9, 10, 11, 12, 13, 14, 15, 16, 17, 9, 10, 11, 12, 13, 14, 15, 16, 17, 18, 10, 11, 12, 13, 14, 15, 16, 17, 18, 19, 11, 12, 13, 14, 15, 16, 17, 18, 19, 20, 12, 13, 14, 15, 16, 17, 18, 19, 20, 21, 13, 14, 15, 16, 17, 18, 19, 20, 21, 22, 14, 15, 16, 17, 18, 19, 20, 21, 22, 23, 15, 16, 17, 18, 19, 20, 21, 22, 23, 24, 16, 17, 18, 19, 20, 21, 22, 23, 24, 25, 8, 9, 10, 11, 12, 13, 14, 15, 16, 17, 9, 10, 11, 12, 13, 14, 15, 16, 17, 18, 10, 11, 12, 13, 14, 15, 16, 17, 18, 19, 11, 12, 13, 14, 15, 16, 17, 18, 19, 20, 12, 13, 14, 15, 16, 17, 18, 19, 20, 21, 13, 14, 15, 16, 17, 18, 19, 20, 21, 22, 14, 15, 16, 17, 18, 19, 20, 21, 22, 23, 15, 16, 17, 18, 19, 20, 21, 22, 23, 24, 16, 17, 18, 19, 20, 21, 22, 23, 24, 25, 17, 18, 19, 20, 21, 22, 23, 24, 25, 26, 9, 10, 11, 12, 13, 14, 15, 16, 17, 18, 10, 11, 12, 13, 14, 15, 16, 17, 18, 19, 11, 12, 13, 14, 15, 16, 17, 18, 19, 20, 12, 13, 14, 15, 16, 17, 18, 19, 20, 21, 13, 14, 15, 16, 17, 18, 19, 20, 21, 22, 14, 15, 16, 17, 18, 19, 20, 21, 22, 23, 15, 16, 17, 18, 19, 20, 21, 22, 23, 24, 16, 17, 18, 19, 20, 21, 22, 23, 24, 25, 17, 18, 19, 20, 21, 22, 23, 24, 25, 26, 18, 19, 20, 21, 22, 23, 24, 25, 26, 27, 1]\n"
          ]
        }
      ]
    },
    {
      "cell_type": "markdown",
      "source": [
        "###40. Write a program that generates a list of prime palindromic numbers using list comprehension."
      ],
      "metadata": {
        "id": "uafwJI6_Je36"
      }
    },
    {
      "cell_type": "code",
      "source": [
        "def is_prime(n):\n",
        "    if n < 2:\n",
        "        return False\n",
        "    for i in range(2, int(n**0.5) + 1):\n",
        "        if n % i == 0:\n",
        "            return False\n",
        "    return True\n",
        "\n",
        "def is_palindrome(n):\n",
        "    return str(n) == str(n)[::-1]\n",
        "\n",
        "limit = 100\n",
        "prime_palindromic_numbers = [n for n in range(2, limit) if is_prime(n) and is_palindrome(n)]\n",
        "print(\"Prime palindromic numbers up to\", limit, \"are:\", prime_palindromic_numbers)"
      ],
      "metadata": {
        "colab": {
          "base_uri": "https://localhost:8080/"
        },
        "id": "uERCuoJ0JdYS",
        "outputId": "453f142f-d6d1-4e1b-9996-31e4c4334583"
      },
      "execution_count": 13,
      "outputs": [
        {
          "output_type": "stream",
          "name": "stdout",
          "text": [
            "Prime palindromic numbers up to 100 are: [2, 3, 5, 7, 11]\n"
          ]
        }
      ]
    }
  ]
}
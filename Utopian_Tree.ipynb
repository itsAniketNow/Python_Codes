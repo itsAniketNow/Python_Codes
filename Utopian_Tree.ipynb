{
  "nbformat": 4,
  "nbformat_minor": 0,
  "metadata": {
    "colab": {
      "provenance": []
    },
    "kernelspec": {
      "name": "python3",
      "display_name": "Python 3"
    },
    "language_info": {
      "name": "python"
    }
  },
  "cells": [
    {
      "cell_type": "code",
      "execution_count": 8,
      "metadata": {
        "colab": {
          "base_uri": "https://localhost:8080/"
        },
        "id": "pCvHmRFSmLhO",
        "outputId": "82914f85-704e-4f9b-e0d2-b23f86e7896a"
      },
      "outputs": [
        {
          "output_type": "stream",
          "name": "stdout",
          "text": [
            "2\n",
            "0\n",
            "None\n",
            "1\n",
            "2\n"
          ]
        }
      ],
      "source": [
        "import math\n",
        "import os\n",
        "import random\n",
        "import re\n",
        "import sys\n",
        "\n",
        "\n",
        "# The function is expected to return an INTEGER.\n",
        "# The function accepts INTEGER n as parameter.\n",
        "#\n",
        "\n",
        "def utopianTree(n):\n",
        "   height = 1  # Initial height of the tree\n",
        "   for cycle in range(1, n + 1):\n",
        "      if cycle % 2 == 1:\n",
        "          height *= 2  # Spring: Double the height\n",
        "      else:\n",
        "          height += 1  # Summer: Increase height by 1 meter\n",
        "\n",
        "      return height\n",
        "\n",
        "\n",
        "\n",
        "\n",
        "\n",
        "if __name__ == '__main__':\n",
        "\n",
        "    t = int(input().strip())\n",
        "\n",
        "    for t_itr in range(t):\n",
        "        n = int(input().strip())\n",
        "\n",
        "        result = utopianTree(n)\n",
        "\n",
        "        print(result)\n"
      ]
    },
    {
      "cell_type": "code",
      "source": [
        "1\n"
      ],
      "metadata": {
        "id": "jB9-47-APkuH"
      },
      "execution_count": 3,
      "outputs": []
    },
    {
      "cell_type": "code",
      "source": [],
      "metadata": {
        "id": "WLCqBQ2NtEnl"
      },
      "execution_count": null,
      "outputs": []
    }
  ]
}
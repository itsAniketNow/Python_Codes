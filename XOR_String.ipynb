{
  "nbformat": 4,
  "nbformat_minor": 0,
  "metadata": {
    "colab": {
      "provenance": []
    },
    "kernelspec": {
      "name": "python3",
      "display_name": "Python 3"
    },
    "language_info": {
      "name": "python"
    }
  },
  "cells": [
    {
      "cell_type": "code",
      "execution_count": 13,
      "metadata": {
        "colab": {
          "base_uri": "https://localhost:8080/"
        },
        "id": "pCvHmRFSmLhO",
        "outputId": "1de6dcaa-944d-45a1-d38a-b3c65870b629"
      },
      "outputs": [
        {
          "output_type": "stream",
          "name": "stdout",
          "text": [
            "10101\n",
            "00101\n",
            "10000\n"
          ]
        }
      ],
      "source": [
        "def strings_xor(s, t):\n",
        "    res = \"\"\n",
        "    for i in range(len(s)):\n",
        "        if s[i] == t[i]:\n",
        "            res += '0'\n",
        "        else:\n",
        "            res += '1'\n",
        "\n",
        "    return res\n",
        "\n",
        "s = input()\n",
        "t = input()\n",
        "print(strings_xor(s, t))\n"
      ]
    },
    {
      "cell_type": "code",
      "source": [],
      "metadata": {
        "id": "DtIRxNH8zq0y"
      },
      "execution_count": null,
      "outputs": []
    }
  ]
}
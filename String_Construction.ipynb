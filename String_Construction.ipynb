{
  "nbformat": 4,
  "nbformat_minor": 0,
  "metadata": {
    "colab": {
      "provenance": []
    },
    "kernelspec": {
      "name": "python3",
      "display_name": "Python 3"
    },
    "language_info": {
      "name": "python"
    }
  },
  "cells": [
    {
      "cell_type": "code",
      "execution_count": 7,
      "metadata": {
        "colab": {
          "base_uri": "https://localhost:8080/"
        },
        "id": "pCvHmRFSmLhO",
        "outputId": "e5cf34e1-3b07-4f4c-907b-dabf590a8975"
      },
      "outputs": [
        {
          "output_type": "stream",
          "name": "stdout",
          "text": [
            "2\n",
            "abcd\n",
            "4\n",
            "abab\n",
            "2\n"
          ]
        }
      ],
      "source": [
        "import math\n",
        "import os\n",
        "import random\n",
        "import re\n",
        "import sys\n",
        "\n",
        "\n",
        "# The function is expected to return an INTEGER.\n",
        "# The function accepts STRING s as parameter.\n",
        "#\n",
        "\n",
        "def stringConstruction(s):\n",
        "  # The cost is equal to the number of unique characters in the string\n",
        "    unique_chars = set(s)\n",
        "    cost = len(unique_chars)\n",
        "\n",
        "    return cost\n",
        "\n",
        "if __name__ == '__main__':\n",
        "\n",
        "    q = int(input().strip())\n",
        "\n",
        "    for q_itr in range(q):\n",
        "        s = input()\n",
        "\n",
        "        result = stringConstruction(s)\n",
        "\n",
        "        print(result)"
      ]
    },
    {
      "cell_type": "code",
      "source": [],
      "metadata": {
        "id": "DtIRxNH8zq0y"
      },
      "execution_count": null,
      "outputs": []
    }
  ]
}
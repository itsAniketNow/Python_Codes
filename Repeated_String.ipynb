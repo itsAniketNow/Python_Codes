{
  "nbformat": 4,
  "nbformat_minor": 0,
  "metadata": {
    "colab": {
      "provenance": []
    },
    "kernelspec": {
      "name": "python3",
      "display_name": "Python 3"
    },
    "language_info": {
      "name": "python"
    }
  },
  "cells": [
    {
      "cell_type": "code",
      "execution_count": 4,
      "metadata": {
        "colab": {
          "base_uri": "https://localhost:8080/"
        },
        "id": "pCvHmRFSmLhO",
        "outputId": "ae4520e2-7ba9-402d-eaa4-09c2aae1dfea"
      },
      "outputs": [
        {
          "output_type": "stream",
          "name": "stdout",
          "text": [
            "aba\n",
            "10\n",
            "7\n"
          ]
        }
      ],
      "source": [
        "import math\n",
        "import os\n",
        "import random\n",
        "import re\n",
        "import sys\n",
        "\n",
        "# The function is expected to return a LONG_INTEGER.\n",
        "# The function accepts following parameters:\n",
        "#  1. STRING s\n",
        "#  2. LONG_INTEGER n\n",
        "#\n",
        "\n",
        "def repeatedString(s, n):\n",
        "   # Count the number of 'a' characters in the original string\n",
        "    a_count_original = s.count('a')\n",
        "\n",
        "    # Calculate the number of times the original string repeats fully\n",
        "    full_repeats = n // len(s)\n",
        "\n",
        "    # Calculate the remaining characters after the full repeats\n",
        "    remaining_characters = n % len(s)\n",
        "\n",
        "    # Count the number of 'a' characters in the remaining substring\n",
        "    a_count_remaining = s[:remaining_characters].count('a')\n",
        "\n",
        "    # Calculate the total count of 'a' characters\n",
        "    total_a_count = (a_count_original * full_repeats) + a_count_remaining\n",
        "\n",
        "    return total_a_count\n",
        "\n",
        "\n",
        "\n",
        "if __name__ == '__main__':\n",
        "\n",
        "    s = input()\n",
        "\n",
        "    n = int(input().strip())\n",
        "\n",
        "    result = repeatedString(s, n)\n",
        "\n",
        "    print(result)\n"
      ]
    },
    {
      "cell_type": "code",
      "source": [],
      "metadata": {
        "id": "DtIRxNH8zq0y"
      },
      "execution_count": null,
      "outputs": []
    }
  ]
}
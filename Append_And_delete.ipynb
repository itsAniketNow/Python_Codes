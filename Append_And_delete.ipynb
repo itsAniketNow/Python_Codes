{
  "nbformat": 4,
  "nbformat_minor": 0,
  "metadata": {
    "colab": {
      "provenance": []
    },
    "kernelspec": {
      "name": "python3",
      "display_name": "Python 3"
    },
    "language_info": {
      "name": "python"
    }
  },
  "cells": [
    {
      "cell_type": "code",
      "execution_count": 17,
      "metadata": {
        "colab": {
          "base_uri": "https://localhost:8080/"
        },
        "id": "pCvHmRFSmLhO",
        "outputId": "b7411260-ea7f-4d7b-f6cf-d2118fa03ae7"
      },
      "outputs": [
        {
          "output_type": "stream",
          "name": "stdout",
          "text": [
            "hackerhappy\n",
            "hacjerrank\n",
            "9\n",
            "No\n"
          ]
        }
      ],
      "source": [
        "import math\n",
        "import os\n",
        "import random\n",
        "import re\n",
        "import sys\n",
        "\n",
        "# The function is expected to return a STRING.\n",
        "# The function accepts following parameters:\n",
        "#  1. STRING s\n",
        "#  2. STRING t\n",
        "#  3. INTEGER k\n",
        "#\n",
        "\n",
        "def appendAndDelete(s, t, k):\n",
        "  common_length = 0\n",
        "\n",
        "  # Find the length of the common prefix of s and t\n",
        "  for i in range(min(len(s), len(t))):\n",
        "    if s[i] == t[i]:\n",
        "          common_length += 1\n",
        "    else:\n",
        "        break\n",
        "\n",
        "  # Calculate the total operations needed to delete characters in s and append characters from t\n",
        "  total_operations = len(s) - common_length + len(t) - common_length\n",
        "\n",
        "  # If k is greater than or equal to the total operations, or if k is greater than the total length of s and t (meaning we can remove and append everything), or if k is even and both strings have the same length (k can be fully utilized for removal and appending), return \"Yes\"; otherwise, return \"No\".\n",
        "  if k >= total_operations or (k >= len(s) + len(t) and (k - total_operations) % 2 == 0) or (k % 2 == 0 and len(s) == len(t)):\n",
        "      return \"Yes\"\n",
        "  else:\n",
        "      return \"No\"\n",
        "\n",
        "\n",
        "\n",
        "if __name__ == '__main__':\n",
        "\n",
        "    s = input()\n",
        "\n",
        "    t = input()\n",
        "\n",
        "    k = int(input().strip())\n",
        "\n",
        "    result = appendAndDelete(s, t, k)\n",
        "\n",
        "    print(result)\n"
      ]
    },
    {
      "cell_type": "code",
      "source": [],
      "metadata": {
        "id": "DtIRxNH8zq0y"
      },
      "execution_count": null,
      "outputs": []
    }
  ]
}
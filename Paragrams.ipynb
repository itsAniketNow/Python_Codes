{
  "nbformat": 4,
  "nbformat_minor": 0,
  "metadata": {
    "colab": {
      "provenance": []
    },
    "kernelspec": {
      "name": "python3",
      "display_name": "Python 3"
    },
    "language_info": {
      "name": "python"
    }
  },
  "cells": [
    {
      "cell_type": "code",
      "execution_count": 3,
      "metadata": {
        "colab": {
          "base_uri": "https://localhost:8080/"
        },
        "id": "pCvHmRFSmLhO",
        "outputId": "1cae09a1-01b6-4e20-a98f-9134bef4b2cd"
      },
      "outputs": [
        {
          "output_type": "stream",
          "name": "stdout",
          "text": [
            "We promptly judged antique ivory buckles for the next prize\n",
            "pangram\n"
          ]
        }
      ],
      "source": [
        "import math\n",
        "import os\n",
        "import random\n",
        "import re\n",
        "import sys\n",
        "\n",
        "# The function is expected to return a STRING.\n",
        "# The function accepts STRING s as parameter.\n",
        "#\n",
        "\n",
        "def pangrams(s):\n",
        "  # Create a set to store the unique characters in the string\n",
        "    unique_chars = set()\n",
        "\n",
        "    # Iterate through the string, adding lowercase characters to the set\n",
        "    for char in s:\n",
        "        if char.isalpha():\n",
        "            unique_chars.add(char.lower())\n",
        "\n",
        "    # Check if the set contains all the alphabet letters (ignoring case)\n",
        "    if len(unique_chars) == 26:\n",
        "        return \"pangram\"\n",
        "    else:\n",
        "        return \"not pangram\"\n",
        "\n",
        "\n",
        "\n",
        "if __name__ == '__main__':\n",
        "\n",
        "    s = input()\n",
        "\n",
        "    result = pangrams(s)\n",
        "\n",
        "    print(result)\n",
        "\n",
        "\n"
      ]
    },
    {
      "cell_type": "code",
      "source": [
        "\n"
      ],
      "metadata": {
        "id": "jB9-47-APkuH"
      },
      "execution_count": 3,
      "outputs": []
    },
    {
      "cell_type": "code",
      "source": [],
      "metadata": {
        "id": "WLCqBQ2NtEnl"
      },
      "execution_count": null,
      "outputs": []
    }
  ]
}
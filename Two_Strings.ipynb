{
  "nbformat": 4,
  "nbformat_minor": 0,
  "metadata": {
    "colab": {
      "provenance": []
    },
    "kernelspec": {
      "name": "python3",
      "display_name": "Python 3"
    },
    "language_info": {
      "name": "python"
    }
  },
  "cells": [
    {
      "cell_type": "code",
      "execution_count": 23,
      "metadata": {
        "colab": {
          "base_uri": "https://localhost:8080/"
        },
        "id": "pCvHmRFSmLhO",
        "outputId": "25ca6938-1166-49f3-e088-1d4711a1af76"
      },
      "outputs": [
        {
          "output_type": "stream",
          "name": "stdout",
          "text": [
            "2\n",
            "hello\n",
            "world\n",
            "YES\n",
            "hi\n",
            "world\n",
            "NO\n"
          ]
        }
      ],
      "source": [
        "import math\n",
        "import os\n",
        "import random\n",
        "import re\n",
        "import sys\n",
        "\n",
        "# The function is expected to return a STRING.\n",
        "# The function accepts following parameters:\n",
        "#  1. STRING s1\n",
        "#  2. STRING s2\n",
        "#\n",
        "\n",
        "def twoStrings(s1, s2):\n",
        "  # Create sets of characters for each string\n",
        "    set1 = set(s1)\n",
        "    set2 = set(s2)\n",
        "\n",
        "    # Check if there is any common character (substring) between the sets\n",
        "    common_characters = set1.intersection(set2)\n",
        "\n",
        "    # If there are common characters, return \"YES\"; otherwise, return \"NO\"\n",
        "    if common_characters:\n",
        "        return \"YES\"\n",
        "    else:\n",
        "        return \"NO\"\n",
        "\n",
        "\n",
        "\n",
        "\n",
        "if __name__ == '__main__':\n",
        "\n",
        "    q = int(input().strip())\n",
        "\n",
        "    for q_itr in range(q):\n",
        "        s1 = input()\n",
        "\n",
        "        s2 = input()\n",
        "\n",
        "        result = twoStrings(s1, s2)\n",
        "\n",
        "        print(result)"
      ]
    },
    {
      "cell_type": "code",
      "source": [],
      "metadata": {
        "id": "DtIRxNH8zq0y"
      },
      "execution_count": null,
      "outputs": []
    }
  ]
}
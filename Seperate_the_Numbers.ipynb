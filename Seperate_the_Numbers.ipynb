{
  "nbformat": 4,
  "nbformat_minor": 0,
  "metadata": {
    "colab": {
      "provenance": []
    },
    "kernelspec": {
      "name": "python3",
      "display_name": "Python 3"
    },
    "language_info": {
      "name": "python"
    }
  },
  "cells": [
    {
      "cell_type": "code",
      "execution_count": 11,
      "metadata": {
        "colab": {
          "base_uri": "https://localhost:8080/"
        },
        "id": "pCvHmRFSmLhO",
        "outputId": "7892afba-8fb7-4bbe-caaf-c02013440305"
      },
      "outputs": [
        {
          "output_type": "stream",
          "name": "stdout",
          "text": [
            "7\n",
            "1234\n",
            "YES 1\n",
            "78954\n",
            "NO\n",
            "101103\n",
            "NO\n",
            "91011\n",
            "YES 9\n",
            "99100\n",
            "YES 99\n",
            "101103\n",
            "NO\n",
            "654199\n",
            "NO\n"
          ]
        }
      ],
      "source": [
        "import math\n",
        "import os\n",
        "import random\n",
        "import re\n",
        "import sys\n",
        "\n",
        "\n",
        "# The function accepts STRING s as parameter.\n",
        "#\n",
        "\n",
        "def separateNumbers(s):\n",
        "  for i in range(1, len(s) // 2 + 1):\n",
        "        num_str = s[:i]\n",
        "        num = int(num_str)\n",
        "        seq = [num]\n",
        "        next_num = num + 1\n",
        "        j = i\n",
        "\n",
        "        while j < len(s):\n",
        "            next_num_str = str(next_num)\n",
        "            if s[j:j + len(next_num_str)] == next_num_str:\n",
        "                seq.append(next_num)\n",
        "                j += len(next_num_str)\n",
        "                next_num += 1\n",
        "            else:\n",
        "                break\n",
        "\n",
        "        if j == len(s):\n",
        "            print(\"YES\", seq[0])\n",
        "            return\n",
        "\n",
        "  print(\"NO\")\n",
        "\n",
        "\n",
        "\n",
        "if __name__ == '__main__':\n",
        "    q = int(input().strip())\n",
        "\n",
        "    for q_itr in range(q):\n",
        "        s = input()\n",
        "\n",
        "        separateNumbers(s)\n"
      ]
    },
    {
      "cell_type": "code",
      "source": [
        "\n"
      ],
      "metadata": {
        "id": "jB9-47-APkuH"
      },
      "execution_count": null,
      "outputs": []
    }
  ]
}
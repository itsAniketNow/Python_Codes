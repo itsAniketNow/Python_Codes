{
  "nbformat": 4,
  "nbformat_minor": 0,
  "metadata": {
    "colab": {
      "provenance": []
    },
    "kernelspec": {
      "name": "python3",
      "display_name": "Python 3"
    },
    "language_info": {
      "name": "python"
    }
  },
  "cells": [
    {
      "cell_type": "code",
      "execution_count": 5,
      "metadata": {
        "colab": {
          "base_uri": "https://localhost:8080/"
        },
        "id": "pCvHmRFSmLhO",
        "outputId": "f020e735-29c8-4bdf-e005-12cdc0aa6923"
      },
      "outputs": [
        {
          "output_type": "stream",
          "name": "stdout",
          "text": [
            "3 2 3\n",
            "1 2 3\n",
            "0 \n",
            "1\n",
            "2\n",
            "[2, 3, 1]\n"
          ]
        }
      ],
      "source": [
        "import math\n",
        "import os\n",
        "import random\n",
        "import re\n",
        "import sys\n",
        "\n",
        "\n",
        "# The function is expected to return an INTEGER_ARRAY.\n",
        "# The function accepts following parameters:\n",
        "#  1. INTEGER_ARRAY a\n",
        "#  2. INTEGER k\n",
        "#  3. INTEGER_ARRAY queries\n",
        "#\n",
        "\n",
        "def circularArrayRotation(a, k, queries):\n",
        "  # Calculate the effective number of rotations by taking the modulo of 'k' with the length of 'a'\n",
        "    effective_rotations = k % len(a)\n",
        "\n",
        "    # Perform the circular right rotation by slicing the array\n",
        "    rotated_array = a[-effective_rotations:] + a[:-effective_rotations]\n",
        "\n",
        "    # Initialize a list to store the results\n",
        "    results = []\n",
        "\n",
        "    # Retrieve the elements at the specified indices in 'queries'\n",
        "    for query in queries:\n",
        "        results.append(rotated_array[query])\n",
        "\n",
        "    return results\n",
        "\n",
        "\n",
        "\n",
        "\n",
        "if __name__ == '__main__':\n",
        "\n",
        "    first_multiple_input = input().rstrip().split()\n",
        "\n",
        "    n = int(first_multiple_input[0])\n",
        "\n",
        "    k = int(first_multiple_input[1])\n",
        "\n",
        "    q = int(first_multiple_input[2])\n",
        "\n",
        "    a = list(map(int, input().rstrip().split()))\n",
        "\n",
        "    queries = []\n",
        "\n",
        "    for _ in range(q):\n",
        "        queries_item = int(input().strip())\n",
        "        queries.append(queries_item)\n",
        "\n",
        "    result = circularArrayRotation(a, k, queries)\n",
        "\n",
        "    print(result)\n"
      ]
    },
    {
      "cell_type": "code",
      "source": [
        "\n"
      ],
      "metadata": {
        "id": "jB9-47-APkuH"
      },
      "execution_count": null,
      "outputs": []
    }
  ]
}
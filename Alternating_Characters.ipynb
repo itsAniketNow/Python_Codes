{
  "nbformat": 4,
  "nbformat_minor": 0,
  "metadata": {
    "colab": {
      "provenance": []
    },
    "kernelspec": {
      "name": "python3",
      "display_name": "Python 3"
    },
    "language_info": {
      "name": "python"
    }
  },
  "cells": [
    {
      "cell_type": "code",
      "execution_count": 2,
      "metadata": {
        "colab": {
          "base_uri": "https://localhost:8080/"
        },
        "id": "pCvHmRFSmLhO",
        "outputId": "2c18a94f-fa70-4d4c-ec6b-66cd4ff6a3f6"
      },
      "outputs": [
        {
          "output_type": "stream",
          "name": "stdout",
          "text": [
            "5\n",
            "aa\n",
            "1\n",
            "bbb\n",
            "2\n",
            "ABABABAB\n",
            "0\n",
            "bababa\n",
            "0\n",
            "aaabbb\n",
            "4\n"
          ]
        }
      ],
      "source": [
        "import math\n",
        "import os\n",
        "import random\n",
        "import re\n",
        "import sys\n",
        "\n",
        "# The function is expected to return an INTEGER.\n",
        "# The function accepts STRING s as parameter.\n",
        "#\n",
        "\n",
        "def alternatingCharacters(s):\n",
        "  # Initialize the count of deletions\n",
        "    deletions = 0\n",
        "\n",
        "    # Iterate through the string from the second character to the end\n",
        "    for i in range(1, len(s)):\n",
        "        # If the current character is the same as the previous character, increment the deletions count\n",
        "        if s[i] == s[i - 1]:\n",
        "            deletions += 1\n",
        "\n",
        "    return deletions\n",
        "\n",
        "\n",
        "\n",
        "\n",
        "if __name__ == '__main__':\n",
        "\n",
        "    q = int(input().strip())\n",
        "\n",
        "    for q_itr in range(q):\n",
        "        s = input()\n",
        "\n",
        "        result = alternatingCharacters(s)\n",
        "\n",
        "        print(result)\n"
      ]
    },
    {
      "cell_type": "code",
      "source": [
        "\n"
      ],
      "metadata": {
        "id": "jB9-47-APkuH"
      },
      "execution_count": null,
      "outputs": []
    }
  ]
}
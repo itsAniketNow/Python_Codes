{
  "nbformat": 4,
  "nbformat_minor": 0,
  "metadata": {
    "colab": {
      "provenance": []
    },
    "kernelspec": {
      "name": "python3",
      "display_name": "Python 3"
    },
    "language_info": {
      "name": "python"
    }
  },
  "cells": [
    {
      "cell_type": "code",
      "execution_count": 6,
      "metadata": {
        "colab": {
          "base_uri": "https://localhost:8080/"
        },
        "id": "pCvHmRFSmLhO",
        "outputId": "7302424a-3cf9-4084-dc19-e12f3056090c"
      },
      "outputs": [
        {
          "output_type": "stream",
          "name": "stdout",
          "text": [
            "6\n",
            "4\n"
          ]
        }
      ],
      "source": [
        "import math\n",
        "import os\n",
        "import random\n",
        "import re\n",
        "import sys\n",
        "\n",
        "\n",
        "# The function is expected to return a LONG_INTEGER.\n",
        "# The function accepts LONG_INTEGER n as parameter.\n",
        "#\n",
        "\n",
        "def sumXor(n):\n",
        "  # Count the number of unset bits (0s) in the binary representation of n\n",
        "    unset_bits = bin(n).count('0')\n",
        "\n",
        "    # Calculate the number of values of x that satisfy the condition\n",
        "    count = 2 ** unset_bits\n",
        "\n",
        "    return count\n",
        "\n",
        "\n",
        "\n",
        "\n",
        "if __name__ == '__main__':\n",
        "\n",
        "    n = int(input().strip())\n",
        "\n",
        "    result = sumXor(n)\n",
        "\n",
        "    print(result)"
      ]
    },
    {
      "cell_type": "code",
      "source": [],
      "metadata": {
        "id": "DtIRxNH8zq0y"
      },
      "execution_count": null,
      "outputs": []
    }
  ]
}
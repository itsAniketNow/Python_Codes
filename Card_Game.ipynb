{
  "nbformat": 4,
  "nbformat_minor": 0,
  "metadata": {
    "colab": {
      "provenance": []
    },
    "kernelspec": {
      "name": "python3",
      "display_name": "Python 3"
    },
    "language_info": {
      "name": "python"
    }
  },
  "cells": [
    {
      "cell_type": "markdown",
      "source": [
        "# Card Game"
      ],
      "metadata": {
        "id": "1nHDbMsjcS1B"
      }
    },
    {
      "cell_type": "code",
      "execution_count": 6,
      "metadata": {
        "colab": {
          "base_uri": "https://localhost:8080/"
        },
        "id": "hpJaIqJacDd8",
        "outputId": "71bf721e-ef47-4223-84a6-d415893e68ea"
      },
      "outputs": [
        {
          "output_type": "stream",
          "name": "stdout",
          "text": [
            "9 of Clubs\n"
          ]
        }
      ],
      "source": [
        "import random\n",
        "\n",
        "class Card :\n",
        "  def __init__(self):\n",
        "    self.suits = ['Clubs', 'Hearts', 'Diamonds', 'Spades']\n",
        "    self.card_num = [2,3,4,5,6,7,8,9,10,11,12,13,14]\n",
        "\n",
        "  def draw_card(self):\n",
        "    random_suit = random.choice(self.suits)\n",
        "    random_card_num = random.choice(self.card_num)\n",
        "\n",
        "    while (random_card_num > 10):\n",
        "      if random_card_num == 11:\n",
        "        return f'Jack of {random_suit}'\n",
        "      if random_card_num == 12:\n",
        "        return f'Queen of {random_suit}'\n",
        "      if random_card_num == 13:\n",
        "        return f'King of {random_suit}'\n",
        "      if random_card_num == 14:\n",
        "        return f'Ace of {random_suit}'\n",
        "\n",
        "    return f'{random_card_num} of {random_suit}'\n",
        "\n",
        "\n",
        "card = Card()\n",
        "drawn_card = card.draw_card()\n",
        "print(drawn_card)"
      ]
    }
  ]
}
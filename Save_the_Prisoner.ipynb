{
  "nbformat": 4,
  "nbformat_minor": 0,
  "metadata": {
    "colab": {
      "provenance": []
    },
    "kernelspec": {
      "name": "python3",
      "display_name": "Python 3"
    },
    "language_info": {
      "name": "python"
    }
  },
  "cells": [
    {
      "cell_type": "code",
      "execution_count": 21,
      "metadata": {
        "colab": {
          "base_uri": "https://localhost:8080/"
        },
        "id": "pCvHmRFSmLhO",
        "outputId": "d898aae9-6b46-4cec-dd27-4b6133c2bd76"
      },
      "outputs": [
        {
          "output_type": "stream",
          "name": "stdout",
          "text": [
            "2\n",
            "2 5 1\n",
            "1\n",
            "5 2 1\n",
            "2\n"
          ]
        }
      ],
      "source": [
        "import math\n",
        "import os\n",
        "import random\n",
        "import re\n",
        "import sys\n",
        "\n",
        "\n",
        "# The function is expected to return an INTEGER.\n",
        "# The function accepts following parameters:\n",
        "#  1. INTEGER n\n",
        "#  2. INTEGER m\n",
        "#  3. INTEGER s\n",
        "#\n",
        "\n",
        "def saveThePrisoner(n, m, s):\n",
        "  # Calculate the seat number where the last candy will be placed\n",
        "    last_seat = (s + m - 1) % n\n",
        "\n",
        "    # Adjust for 0-based indexing\n",
        "    if last_seat == 0:\n",
        "        last_seat = n\n",
        "\n",
        "    return last_seat\n",
        "\n",
        "\n",
        "\n",
        "if __name__ == '__main__':\n",
        "\n",
        "    t = int(input().strip())\n",
        "\n",
        "    for t_itr in range(t):\n",
        "        first_multiple_input = input().rstrip().split()\n",
        "\n",
        "        n = int(first_multiple_input[0])\n",
        "\n",
        "        m = int(first_multiple_input[1])\n",
        "\n",
        "        s = int(first_multiple_input[2])\n",
        "\n",
        "        result = saveThePrisoner(n, m, s)\n",
        "        print(result)\n"
      ]
    },
    {
      "cell_type": "code",
      "source": [
        "\n"
      ],
      "metadata": {
        "id": "jB9-47-APkuH"
      },
      "execution_count": null,
      "outputs": []
    }
  ]
}
{
  "nbformat": 4,
  "nbformat_minor": 0,
  "metadata": {
    "colab": {
      "provenance": []
    },
    "kernelspec": {
      "name": "python3",
      "display_name": "Python 3"
    },
    "language_info": {
      "name": "python"
    }
  },
  "cells": [
    {
      "cell_type": "code",
      "execution_count": 24,
      "metadata": {
        "colab": {
          "base_uri": "https://localhost:8080/"
        },
        "id": "pCvHmRFSmLhO",
        "outputId": "b554630e-7ea3-49e1-e5bd-1112a2f16617"
      },
      "outputs": [
        {
          "output_type": "stream",
          "name": "stdout",
          "text": [
            "20 23 6\n",
            "2\n"
          ]
        }
      ],
      "source": [
        "import math\n",
        "import os\n",
        "import random\n",
        "import re\n",
        "import sys\n",
        "\n",
        "\n",
        "# The function is expected to return an INTEGER.\n",
        "# The function accepts following parameters:\n",
        "#  1. INTEGER i\n",
        "#  2. INTEGER j\n",
        "#  3. INTEGER k\n",
        "#\n",
        "\n",
        "def beautifulDays(i, j, k):\n",
        "  beautiful_count = 0\n",
        "\n",
        "  for day in range(i, j + 1):\n",
        "      reversed_day = int(str(day)[::-1])\n",
        "      absolute_difference = abs(day - reversed_day)\n",
        "\n",
        "      if absolute_difference % k == 0:\n",
        "          beautiful_count += 1\n",
        "\n",
        "  return beautiful_count\n",
        "\n",
        "\n",
        "\n",
        "if __name__ == '__main__':\n",
        "\n",
        "    first_multiple_input = input().rstrip().split()\n",
        "\n",
        "    i = int(first_multiple_input[0])\n",
        "\n",
        "    j = int(first_multiple_input[1])\n",
        "\n",
        "    k = int(first_multiple_input[2])\n",
        "\n",
        "    result = beautifulDays(i, j, k)\n",
        "\n",
        "    print(result)\n"
      ]
    },
    {
      "cell_type": "code",
      "source": [
        "\n"
      ],
      "metadata": {
        "id": "jB9-47-APkuH"
      },
      "execution_count": null,
      "outputs": []
    }
  ]
}
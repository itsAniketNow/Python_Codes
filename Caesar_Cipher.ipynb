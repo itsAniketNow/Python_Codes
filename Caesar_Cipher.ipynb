{
  "nbformat": 4,
  "nbformat_minor": 0,
  "metadata": {
    "colab": {
      "provenance": []
    },
    "kernelspec": {
      "name": "python3",
      "display_name": "Python 3"
    },
    "language_info": {
      "name": "python"
    }
  },
  "cells": [
    {
      "cell_type": "code",
      "execution_count": 2,
      "metadata": {
        "colab": {
          "base_uri": "https://localhost:8080/"
        },
        "id": "pCvHmRFSmLhO",
        "outputId": "3a736a47-0f2e-4dfb-b4de-4df7ca8c5ce5"
      },
      "outputs": [
        {
          "output_type": "stream",
          "name": "stdout",
          "text": [
            "11\n",
            "middle-Outz\n",
            "2\n",
            "okffng-Qwvb\n"
          ]
        }
      ],
      "source": [
        "import math\n",
        "import os\n",
        "import random\n",
        "import re\n",
        "import sys\n",
        "\n",
        "\n",
        "# The function is expected to return a STRING.\n",
        "# The function accepts following parameters:\n",
        "#  1. STRING s\n",
        "#  2. INTEGER k\n",
        "#\n",
        "\n",
        "def caesarCipher(s, k):\n",
        "    result = \"\"\n",
        "    for char in s:\n",
        "        if char.isalpha():  # Check if the character is an alphabet letter\n",
        "            shift = 65 if char.isupper() else 97\n",
        "            result += chr((ord(char) - shift + k) % 26 + shift)\n",
        "        else:\n",
        "            result += char\n",
        "    return result\n",
        "\n",
        "if __name__ == '__main__':\n",
        "\n",
        "    n = int(input().strip())\n",
        "\n",
        "    s = input()\n",
        "\n",
        "    k = int(input().strip())\n",
        "\n",
        "    result = caesarCipher(s, k)\n",
        "\n",
        "    print(result)"
      ]
    },
    {
      "cell_type": "code",
      "source": [],
      "metadata": {
        "id": "Xg1OIfXAORdl"
      },
      "execution_count": null,
      "outputs": []
    },
    {
      "cell_type": "code",
      "source": [],
      "metadata": {
        "id": "jB9-47-APkuH"
      },
      "execution_count": null,
      "outputs": []
    }
  ]
}
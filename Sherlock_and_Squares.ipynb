{
  "nbformat": 4,
  "nbformat_minor": 0,
  "metadata": {
    "colab": {
      "provenance": []
    },
    "kernelspec": {
      "name": "python3",
      "display_name": "Python 3"
    },
    "language_info": {
      "name": "python"
    }
  },
  "cells": [
    {
      "cell_type": "code",
      "execution_count": 3,
      "metadata": {
        "colab": {
          "base_uri": "https://localhost:8080/"
        },
        "id": "pCvHmRFSmLhO",
        "outputId": "cd40a460-dd6e-4b18-9cc6-3e64b5d5ae5e"
      },
      "outputs": [
        {
          "output_type": "stream",
          "name": "stdout",
          "text": [
            "2\n",
            "2 9\n",
            "2\n",
            "17 24\n",
            "0\n"
          ]
        }
      ],
      "source": [
        "import math\n",
        "import os\n",
        "import random\n",
        "import re\n",
        "import sys\n",
        "\n",
        "\n",
        "# The function is expected to return an INTEGER.\n",
        "# The function accepts following parameters:\n",
        "#  1. INTEGER a\n",
        "#  2. INTEGER b\n",
        "#\n",
        "\n",
        "def squares(a, b):\n",
        "  # Initialize a variable to count square integers\n",
        "    count = 0\n",
        "\n",
        "    # Calculate the square root of the smallest integer greater than or equal to 'a'\n",
        "    start = math.ceil(math.sqrt(a))\n",
        "\n",
        "    # Calculate the square root of the largest integer less than or equal to 'b'\n",
        "    end = math.floor(math.sqrt(b))\n",
        "\n",
        "    # Count the square integers in the range\n",
        "    count = end - start + 1\n",
        "\n",
        "    return count\n",
        "\n",
        "\n",
        "if __name__ == '__main__':\n",
        "\n",
        "    q = int(input().strip())\n",
        "\n",
        "    for q_itr in range(q):\n",
        "        first_multiple_input = input().rstrip().split()\n",
        "\n",
        "        a = int(first_multiple_input[0])\n",
        "\n",
        "        b = int(first_multiple_input[1])\n",
        "\n",
        "        result = squares(a, b)\n",
        "\n",
        "        print(result)"
      ]
    },
    {
      "cell_type": "code",
      "source": [
        "\n"
      ],
      "metadata": {
        "id": "jB9-47-APkuH"
      },
      "execution_count": null,
      "outputs": []
    }
  ]
}
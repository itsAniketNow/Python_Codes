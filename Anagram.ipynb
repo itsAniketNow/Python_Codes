{
  "nbformat": 4,
  "nbformat_minor": 0,
  "metadata": {
    "colab": {
      "provenance": []
    },
    "kernelspec": {
      "name": "python3",
      "display_name": "Python 3"
    },
    "language_info": {
      "name": "python"
    }
  },
  "cells": [
    {
      "cell_type": "code",
      "execution_count": 4,
      "metadata": {
        "colab": {
          "base_uri": "https://localhost:8080/"
        },
        "id": "pCvHmRFSmLhO",
        "outputId": "1994b754-44e2-401a-e7fe-aabbbe3fce9f"
      },
      "outputs": [
        {
          "output_type": "stream",
          "name": "stdout",
          "text": [
            "6\n",
            "aaabbb\n",
            "3\n",
            "ab\n",
            "1\n",
            "abc\n",
            "-1\n",
            "mnp\n",
            "-1\n",
            "xyyx\n",
            "0\n",
            "xaxbbbxx\n",
            "1\n"
          ]
        }
      ],
      "source": [
        "import math\n",
        "import os\n",
        "import random\n",
        "import re\n",
        "import sys\n",
        "\n",
        "\n",
        "# The function is expected to return an INTEGER.\n",
        "# The function accepts STRING s as parameter.\n",
        "#\n",
        "\n",
        "def anagram(s):\n",
        "  # Check if the length of the string is odd\n",
        "    if len(s) % 2 != 0:\n",
        "        return -1\n",
        "\n",
        "    # Split the string into two equal parts\n",
        "    mid = len(s) // 2\n",
        "    s1 = s[:mid]\n",
        "    s2 = s[mid:]\n",
        "\n",
        "    # Initialize a list to store the character frequencies for s1\n",
        "    freq1 = [0] * 26\n",
        "\n",
        "    # Count character frequencies in the first substring\n",
        "    for char in s1:\n",
        "        freq1[ord(char) - ord('a')] += 1\n",
        "\n",
        "    # Count the number of characters to change to make s1 an anagram of s2\n",
        "    changes_needed = 0\n",
        "\n",
        "    # Iterate through s2 and subtract the character frequencies\n",
        "    for char in s2:\n",
        "        index = ord(char) - ord('a')\n",
        "        if freq1[index] > 0:\n",
        "            freq1[index] -= 1\n",
        "        else:\n",
        "            changes_needed += 1\n",
        "\n",
        "    return changes_needed\n",
        "\n",
        "if __name__ == '__main__':\n",
        "\n",
        "    q = int(input().strip())\n",
        "\n",
        "    for q_itr in range(q):\n",
        "        s = input()\n",
        "\n",
        "        result = anagram(s)\n",
        "        print(result)"
      ]
    },
    {
      "cell_type": "code",
      "source": [],
      "metadata": {
        "id": "DtIRxNH8zq0y"
      },
      "execution_count": null,
      "outputs": []
    }
  ]
}
{
  "nbformat": 4,
  "nbformat_minor": 0,
  "metadata": {
    "colab": {
      "provenance": []
    },
    "kernelspec": {
      "name": "python3",
      "display_name": "Python 3"
    },
    "language_info": {
      "name": "python"
    }
  },
  "cells": [
    {
      "cell_type": "code",
      "execution_count": 4,
      "metadata": {
        "id": "pCvHmRFSmLhO",
        "colab": {
          "base_uri": "https://localhost:8080/"
        },
        "outputId": "77d18412-d452-49aa-f83e-faaad12be70a"
      },
      "outputs": [
        {
          "output_type": "stream",
          "name": "stdout",
          "text": [
            "haveaniceday\n",
            "hae and via ecy\n"
          ]
        }
      ],
      "source": [
        "import math\n",
        "import os\n",
        "import random\n",
        "import re\n",
        "import sys\n",
        "\n",
        "# The function is expected to return a STRING.\n",
        "# The function accepts STRING s as parameter.\n",
        "#\n",
        "\n",
        "def encryption(s):\n",
        "  # Remove spaces from the input string\n",
        "  s = s.replace(\" \", \"\")\n",
        "\n",
        "  # Calculate the number of rows and columns for the grid\n",
        "  n = len(s)\n",
        "  sqrt_n = math.sqrt(n)\n",
        "  rows = math.floor(sqrt_n)\n",
        "  columns = math.ceil(sqrt_n)\n",
        "\n",
        "  # If rows x columns is less than n, increase rows\n",
        "  if rows * columns < n:\n",
        "      rows += 1\n",
        "\n",
        "  # Create the grid by splitting the string into rows\n",
        "  grid = [s[i:i+columns] for i in range(0, n, columns)]\n",
        "\n",
        "  # Encrypt the message by reading characters from columns\n",
        "  encrypted_message = []\n",
        "  for j in range(columns):\n",
        "      for i in range(rows):\n",
        "          if j < len(grid[i]):\n",
        "              encrypted_message.append(grid[i][j])\n",
        "      encrypted_message.append(\" \")\n",
        "\n",
        "  return \"\".join(encrypted_message).strip()\n",
        "\n",
        "\n",
        "if __name__ == '__main__':\n",
        "\n",
        "    s = input()\n",
        "\n",
        "    result = encryption(s)\n",
        "\n",
        "    print(result)"
      ]
    },
    {
      "cell_type": "code",
      "source": [],
      "metadata": {
        "id": "ISo2ixEMzebB"
      },
      "execution_count": null,
      "outputs": []
    }
  ]
}
{
  "nbformat": 4,
  "nbformat_minor": 0,
  "metadata": {
    "colab": {
      "provenance": []
    },
    "kernelspec": {
      "name": "python3",
      "display_name": "Python 3"
    },
    "language_info": {
      "name": "python"
    }
  },
  "cells": [
    {
      "cell_type": "code",
      "execution_count": 10,
      "metadata": {
        "id": "pCvHmRFSmLhO",
        "colab": {
          "base_uri": "https://localhost:8080/",
          "height": 644
        },
        "outputId": "b5f31827-99f4-4e06-beee-002d337dce7b"
      },
      "outputs": [
        {
          "name": "stdout",
          "output_type": "stream",
          "text": [
            "2\n",
            "20 20\n",
            "34889246430321978567\n",
            "58957542800420926643\n",
            "35502505614464308821\n",
            "14858224623252492823\n",
            "72509980920257761017\n",
            "22842014894387119401\n",
            "01112950562348692493\n",
            "16417403478999610594\n",
            "79426411112116726706\n",
            "65175742483779283052\n",
            "89078730337964397201\n",
            "13765228547239925167\n",
            "26113704444636815161\n",
            "25993216162800952044\n",
            "88796416233981756034\n",
            "14416627212117283516\n",
            "15248825304941012863\n",
            "88460496662793369385\n",
            "16417403478999610954\n",
            "22842014894387114522\n",
            "79426411112116726707\n"
          ]
        },
        {
          "output_type": "error",
          "ename": "IndexError",
          "evalue": "ignored",
          "traceback": [
            "\u001b[0;31m---------------------------------------------------------------------------\u001b[0m",
            "\u001b[0;31mIndexError\u001b[0m                                Traceback (most recent call last)",
            "\u001b[0;32m<ipython-input-10-d560c77a90c5>\u001b[0m in \u001b[0;36m<cell line: 31>\u001b[0;34m()\u001b[0m\n\u001b[1;32m     50\u001b[0m         \u001b[0mr\u001b[0m \u001b[0;34m=\u001b[0m \u001b[0mint\u001b[0m\u001b[0;34m(\u001b[0m\u001b[0msecond_multiple_input\u001b[0m\u001b[0;34m[\u001b[0m\u001b[0;36m0\u001b[0m\u001b[0;34m]\u001b[0m\u001b[0;34m)\u001b[0m\u001b[0;34m\u001b[0m\u001b[0;34m\u001b[0m\u001b[0m\n\u001b[1;32m     51\u001b[0m \u001b[0;34m\u001b[0m\u001b[0m\n\u001b[0;32m---> 52\u001b[0;31m         \u001b[0mc\u001b[0m \u001b[0;34m=\u001b[0m \u001b[0mint\u001b[0m\u001b[0;34m(\u001b[0m\u001b[0msecond_multiple_input\u001b[0m\u001b[0;34m[\u001b[0m\u001b[0;36m1\u001b[0m\u001b[0;34m]\u001b[0m\u001b[0;34m)\u001b[0m\u001b[0;34m\u001b[0m\u001b[0;34m\u001b[0m\u001b[0m\n\u001b[0m\u001b[1;32m     53\u001b[0m \u001b[0;34m\u001b[0m\u001b[0m\n\u001b[1;32m     54\u001b[0m         \u001b[0mP\u001b[0m \u001b[0;34m=\u001b[0m \u001b[0;34m[\u001b[0m\u001b[0;34m]\u001b[0m\u001b[0;34m\u001b[0m\u001b[0;34m\u001b[0m\u001b[0m\n",
            "\u001b[0;31mIndexError\u001b[0m: list index out of range"
          ]
        }
      ],
      "source": [
        "import math\n",
        "import os\n",
        "import random\n",
        "import re\n",
        "import sys\n",
        "\n",
        "\n",
        "# The function is expected to return a STRING.\n",
        "# The function accepts following parameters:\n",
        "#  1. STRING_ARRAY G\n",
        "#  2. STRING_ARRAY P\n",
        "#\n",
        "\n",
        "def gridSearch(G, P):\n",
        "  R, C = len(G), len(G[0])\n",
        "  r, c = len(P), len(P[0])\n",
        "\n",
        "  for i in range(R - r + 1):\n",
        "      for j in range(C - c + 1):\n",
        "          match = True\n",
        "          for k in range(r):\n",
        "              if G[i + k][j:j + c] != P[k]:\n",
        "                  match = False\n",
        "                  break\n",
        "          if match:\n",
        "              return \"YES\"\n",
        "\n",
        "  return \"NO\"\n",
        "\n",
        "\n",
        "if __name__ == '__main__':\n",
        "\n",
        "    t = int(input().strip())\n",
        "\n",
        "    for t_itr in range(t):\n",
        "        first_multiple_input = input().rstrip().split()\n",
        "\n",
        "        R = int(first_multiple_input[0])\n",
        "\n",
        "        C = int(first_multiple_input[1])\n",
        "\n",
        "        G = []\n",
        "\n",
        "        for _ in range(R):\n",
        "            G_item = input()\n",
        "            G.append(G_item)\n",
        "\n",
        "        second_multiple_input = input().rstrip().split()\n",
        "\n",
        "        r = int(second_multiple_input[0])\n",
        "\n",
        "        c = int(second_multiple_input[1])\n",
        "\n",
        "        P = []\n",
        "\n",
        "        for _ in range(r):\n",
        "            P_item = input()\n",
        "            P.append(P_item)\n",
        "\n",
        "        result = gridSearch(G, P)\n",
        "\n",
        "        print(result)"
      ]
    },
    {
      "cell_type": "code",
      "source": [
        "2"
      ],
      "metadata": {
        "id": "ISo2ixEMzebB"
      },
      "execution_count": null,
      "outputs": []
    }
  ]
}
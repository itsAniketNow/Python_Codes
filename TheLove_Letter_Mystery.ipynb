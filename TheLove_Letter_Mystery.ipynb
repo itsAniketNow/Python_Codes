{
  "nbformat": 4,
  "nbformat_minor": 0,
  "metadata": {
    "colab": {
      "provenance": []
    },
    "kernelspec": {
      "name": "python3",
      "display_name": "Python 3"
    },
    "language_info": {
      "name": "python"
    }
  },
  "cells": [
    {
      "cell_type": "code",
      "execution_count": 12,
      "metadata": {
        "colab": {
          "base_uri": "https://localhost:8080/"
        },
        "id": "pCvHmRFSmLhO",
        "outputId": "17101f94-5288-4677-b361-9be2af7131a2"
      },
      "outputs": [
        {
          "output_type": "stream",
          "name": "stdout",
          "text": [
            "4\n",
            "abcd\n",
            "4\n",
            "abcdba\n",
            "1\n",
            "abc\n",
            "2\n",
            "bc\n",
            "1\n"
          ]
        }
      ],
      "source": [
        "import math\n",
        "import os\n",
        "import random\n",
        "import re\n",
        "import sys\n",
        "\n",
        "\n",
        "# The function is expected to return an INTEGER.\n",
        "# The function accepts STRING s as parameter.\n",
        "#\n",
        "\n",
        "def theLoveLetterMystery(s):\n",
        "  # Initialize a variable to store the number of operations\n",
        "    num_operations = 0\n",
        "\n",
        "    # Iterate from the outer edges towards the center of the string\n",
        "    i, j = 0, len(s) - 1\n",
        "\n",
        "    while i < j:\n",
        "        # Calculate the absolute difference between the characters at positions i and j\n",
        "        num_operations += abs(ord(s[i]) - ord(s[j]))\n",
        "\n",
        "        # Move the indices towards the center\n",
        "        i += 1\n",
        "        j -= 1\n",
        "\n",
        "    return num_operations\n",
        "\n",
        "\n",
        "\n",
        "if __name__ == '__main__':\n",
        "\n",
        "    q = int(input().strip())\n",
        "\n",
        "    for q_itr in range(q):\n",
        "        s = input()\n",
        "\n",
        "        result = theLoveLetterMystery(s)\n",
        "\n",
        "        print(result)"
      ]
    },
    {
      "cell_type": "code",
      "source": [
        "\n"
      ],
      "metadata": {
        "id": "jB9-47-APkuH"
      },
      "execution_count": null,
      "outputs": []
    }
  ]
}
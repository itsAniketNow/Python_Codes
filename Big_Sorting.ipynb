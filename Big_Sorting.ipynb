{
  "nbformat": 4,
  "nbformat_minor": 0,
  "metadata": {
    "colab": {
      "provenance": []
    },
    "kernelspec": {
      "name": "python3",
      "display_name": "Python 3"
    },
    "language_info": {
      "name": "python"
    }
  },
  "cells": [
    {
      "cell_type": "code",
      "execution_count": 6,
      "metadata": {
        "colab": {
          "base_uri": "https://localhost:8080/"
        },
        "id": "pCvHmRFSmLhO",
        "outputId": "9bacadeb-e512-4f45-ccb3-5902d0a44871"
      },
      "outputs": [
        {
          "output_type": "stream",
          "name": "stdout",
          "text": [
            "6\n",
            "31415926535897932384626433832795\n",
            "6\n",
            "23\n",
            "10\n",
            "4\n",
            "8\n",
            "['4', '6', '8', '10', '23', '31415926535897932384626433832795']\n"
          ]
        }
      ],
      "source": [
        "import math\n",
        "import os\n",
        "import random\n",
        "import re\n",
        "import sys\n",
        "\n",
        "\n",
        "# The function is expected to return a STRING_ARRAY.\n",
        "# The function accepts STRING_ARRAY unsorted as parameter.\n",
        "#\n",
        "\n",
        "def bigSorting(unsorted):\n",
        "  # Sort the array by converting the strings to integers\n",
        "    sorted_array = sorted(unsorted, key=int)\n",
        "\n",
        "    return sorted_array\n",
        "\n",
        "\n",
        "if __name__ == '__main__':\n",
        "\n",
        "    n = int(input().strip())\n",
        "\n",
        "    unsorted = []\n",
        "\n",
        "    for _ in range(n):\n",
        "        unsorted_item = input()\n",
        "        unsorted.append(unsorted_item)\n",
        "\n",
        "    result = bigSorting(unsorted)\n",
        "\n",
        "    print(result)\n"
      ]
    },
    {
      "cell_type": "code",
      "source": [
        "\n"
      ],
      "metadata": {
        "id": "jB9-47-APkuH"
      },
      "execution_count": null,
      "outputs": []
    }
  ]
}
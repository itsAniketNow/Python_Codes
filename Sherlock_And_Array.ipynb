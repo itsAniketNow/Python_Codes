{
  "nbformat": 4,
  "nbformat_minor": 0,
  "metadata": {
    "colab": {
      "provenance": []
    },
    "kernelspec": {
      "name": "python3",
      "display_name": "Python 3"
    },
    "language_info": {
      "name": "python"
    }
  },
  "cells": [
    {
      "cell_type": "code",
      "execution_count": 15,
      "metadata": {
        "id": "pCvHmRFSmLhO",
        "colab": {
          "base_uri": "https://localhost:8080/"
        },
        "outputId": "2d2a54f2-5274-4d6d-e378-93bd35dc8c9c"
      },
      "outputs": [
        {
          "output_type": "stream",
          "name": "stdout",
          "text": [
            "2\n",
            "3\n",
            "1 2 3\n",
            "NO\n",
            "4\n",
            "1 2 3 3\n",
            "YES\n"
          ]
        }
      ],
      "source": [
        "import math\n",
        "import os\n",
        "import random\n",
        "import re\n",
        "import sys\n",
        "\n",
        "# The function is expected to return a STRING.\n",
        "# The function accepts INTEGER_ARRAY arr as parameter.\n",
        "#\n",
        "\n",
        "def balancedSums(arr):\n",
        "  n = len(arr)\n",
        "  left_sum = 0\n",
        "  right_sum = sum(arr)\n",
        "\n",
        "  for i in range(n):\n",
        "      right_sum -= arr[i]\n",
        "      if left_sum == right_sum:\n",
        "          return \"YES\"\n",
        "      left_sum += arr[i]\n",
        "\n",
        "  return \"NO\"\n",
        "\n",
        "\n",
        "\n",
        "if __name__ == '__main__':\n",
        "\n",
        "    T = int(input().strip())\n",
        "\n",
        "    for T_itr in range(T):\n",
        "        n = int(input().strip())\n",
        "\n",
        "        arr = list(map(int, input().rstrip().split()))\n",
        "\n",
        "        result = balancedSums(arr)\n",
        "        print(result)"
      ]
    },
    {
      "cell_type": "code",
      "source": [],
      "metadata": {
        "id": "x3mxZOjfdXAz"
      },
      "execution_count": null,
      "outputs": []
    }
  ]
}
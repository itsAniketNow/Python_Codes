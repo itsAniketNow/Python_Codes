{
  "nbformat": 4,
  "nbformat_minor": 0,
  "metadata": {
    "colab": {
      "provenance": []
    },
    "kernelspec": {
      "name": "python3",
      "display_name": "Python 3"
    },
    "language_info": {
      "name": "python"
    }
  },
  "cells": [
    {
      "cell_type": "code",
      "execution_count": 8,
      "metadata": {
        "colab": {
          "base_uri": "https://localhost:8080/"
        },
        "id": "pCvHmRFSmLhO",
        "outputId": "313f4cd8-86f3-4080-c5ad-44eedfd6677d"
      },
      "outputs": [
        {
          "output_type": "stream",
          "name": "stdout",
          "text": [
            "6 3\n",
            "1 3 2 6 1 2\n",
            "5\n"
          ]
        }
      ],
      "source": [
        "import math\n",
        "import os\n",
        "import random\n",
        "import re\n",
        "import sys\n",
        "\n",
        "\n",
        "# The function is expected to return an INTEGER.\n",
        "# The function accepts following parameters:\n",
        "#  1. INTEGER n\n",
        "#  2. INTEGER k\n",
        "#  3. INTEGER_ARRAY ar\n",
        "#\n",
        "\n",
        "def divisibleSumPairs(n, k, ar):\n",
        "    count = 0\n",
        "\n",
        "    for i in range(n):\n",
        "        for j in range(i + 1, n):\n",
        "            if (ar[i] + ar[j]) % k == 0:\n",
        "                count += 1\n",
        "\n",
        "    return count\n",
        "    # Write your code here\n",
        "\n",
        "if __name__ == '__main__':\n",
        "\n",
        "    first_multiple_input = input().rstrip().split()\n",
        "\n",
        "    n = int(first_multiple_input[0])\n",
        "\n",
        "    k = int(first_multiple_input[1])\n",
        "\n",
        "    ar = list(map(int, input().rstrip().split()))\n",
        "\n",
        "    result = divisibleSumPairs(n, k, ar)\n",
        "\n",
        "    print(result)\n"
      ]
    },
    {
      "cell_type": "code",
      "source": [],
      "metadata": {
        "id": "Xg1OIfXAORdl"
      },
      "execution_count": null,
      "outputs": []
    },
    {
      "cell_type": "code",
      "source": [],
      "metadata": {
        "id": "jB9-47-APkuH"
      },
      "execution_count": null,
      "outputs": []
    }
  ]
}
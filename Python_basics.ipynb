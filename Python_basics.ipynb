{
  "nbformat": 4,
  "nbformat_minor": 0,
  "metadata": {
    "colab": {
      "provenance": []
    },
    "kernelspec": {
      "name": "python3",
      "display_name": "Python 3"
    },
    "language_info": {
      "name": "python"
    }
  },
  "cells": [
    {
      "cell_type": "markdown",
      "source": [
        "# TOPIC: Python Basics Variable"
      ],
      "metadata": {
        "id": "eYGje5udTNUX"
      }
    },
    {
      "cell_type": "markdown",
      "source": [
        "1. Declare two variables, `x` and `y`, and assign them integer values. Swap the\n",
        "values of these variables without using any temporary variable."
      ],
      "metadata": {
        "id": "JwPsHTkhS_Vm"
      }
    },
    {
      "cell_type": "code",
      "execution_count": 1,
      "metadata": {
        "colab": {
          "base_uri": "https://localhost:8080/"
        },
        "id": "ZG44rJVONrVl",
        "outputId": "f0265472-1756-4c46-9162-28bb448526a5"
      },
      "outputs": [
        {
          "output_type": "stream",
          "name": "stdout",
          "text": [
            "After swapping:\n",
            "x = 5\n",
            "y = 10\n"
          ]
        }
      ],
      "source": [
        "# Declaring two varibles.\n",
        "x = 10\n",
        "y = 5\n",
        "\n",
        "x = x + y\n",
        "y = x - y\n",
        "x = x - y\n",
        "\n",
        "print(\"After swapping:\")\n",
        "print(\"x =\", x)\n",
        "print(\"y =\", y)"
      ]
    },
    {
      "cell_type": "markdown",
      "source": [
        "2. Create a program that calculates the area of a rectangle. Take the length and\n",
        "width as inputs from the user and store them in variables. Calculate and\n",
        "display the area."
      ],
      "metadata": {
        "id": "hst1aEpgUFRM"
      }
    },
    {
      "cell_type": "code",
      "source": [
        "# Area of Triangle :\n",
        "\n",
        "# Taking input from the user\n",
        "length = float(input(\"Enter the length of the triangle : \"))\n",
        "width = float(input(\"Enter the width of the triangle : \"))\n",
        "\n",
        "# Calculating the Area\n",
        "area = length * width * 0.5\n",
        "\n",
        "# Output (Area of Triangle)\n",
        "print(\"Area of Triangle is: \", area)"
      ],
      "metadata": {
        "colab": {
          "base_uri": "https://localhost:8080/"
        },
        "id": "8QZCrPQpTheD",
        "outputId": "bc5257a5-2c87-4b01-ea29-170676084148"
      },
      "execution_count": 2,
      "outputs": [
        {
          "output_type": "stream",
          "name": "stdout",
          "text": [
            "Enter the length of the triangle : 15\n",
            "Enter the width of the triangle : 12\n",
            "Area of Triangle is:  90.0\n"
          ]
        }
      ]
    },
    {
      "cell_type": "markdown",
      "source": [
        "3. Write a Python program that converts temperatures from Celsius to\n",
        "Fahrenheit. Take the temperature in Celsius as input, store it in a variable,\n",
        "convert it to Fahrenheit, and display the result."
      ],
      "metadata": {
        "id": "tFG8NnjRWGm9"
      }
    },
    {
      "cell_type": "code",
      "source": [
        "# Converting tempreture from Celcius to Fahrenheit.\n",
        "\n",
        "# Taking user input for Celcius as cel and Fahrenheit as far\n",
        "cel = float(input(\"Enter the tempreture in celcius (cel): \"))\n",
        "\n",
        "# Folrmula :\n",
        "far = (cel * 9/5) + 32\n",
        "\n",
        "# Result\n",
        "print(\"Tempreture in Fahrenheit is: \", far)"
      ],
      "metadata": {
        "colab": {
          "base_uri": "https://localhost:8080/"
        },
        "id": "VcDXM4W8VhlH",
        "outputId": "2d3ab706-935e-4253-a782-98761e70890f"
      },
      "execution_count": 3,
      "outputs": [
        {
          "output_type": "stream",
          "name": "stdout",
          "text": [
            "Enter the tempreture in celcius (cel): 45\n",
            "Tempreture in Fahrenheit is:  113.0\n"
          ]
        }
      ]
    },
    {
      "cell_type": "markdown",
      "source": [
        "# TOPIC: String Based Questions"
      ],
      "metadata": {
        "id": "dp4WmGjfXtHL"
      }
    },
    {
      "cell_type": "markdown",
      "source": [
        "1. Write a Python program that takes a string as input and prints the length of\n",
        "the string."
      ],
      "metadata": {
        "id": "1K1i-dN1X1Fz"
      }
    },
    {
      "cell_type": "code",
      "source": [
        "# Length of the String\n",
        "\n",
        "# Taking the input from the user\n",
        "string = str(input(\"enter word: \"))\n",
        "\n",
        "# length of string:\n",
        "print(\"length of string is: \", len(string))"
      ],
      "metadata": {
        "colab": {
          "base_uri": "https://localhost:8080/"
        },
        "id": "0GejhD5GXmje",
        "outputId": "8a5e8f97-fce7-4988-9746-18224bab9778"
      },
      "execution_count": 4,
      "outputs": [
        {
          "output_type": "stream",
          "name": "stdout",
          "text": [
            "enter word: Good\n",
            "length of string is:  4\n"
          ]
        }
      ]
    },
    {
      "cell_type": "markdown",
      "source": [
        "2. Create a program that takes a sentence from the user and counts the number\n",
        "of vowels (a, e, i, o, u) in the string."
      ],
      "metadata": {
        "id": "8x7RDHLwZI08"
      }
    },
    {
      "cell_type": "code",
      "source": [
        "# Input a sentence from the user\n",
        "sentence = input(\"Enter a sentence: \")\n",
        "\n",
        "# intial vowel count\n",
        "vowel_count = 0\n",
        "\n",
        "# Defining vowels\n",
        "vowels = set(\"aeiou\")\n",
        "\n",
        "# Iterate through each character in the sentence\n",
        "for char in sentence:\n",
        "    # Check if the lowercase version of the character is in the set of vowels\n",
        "    if char.lower() in vowels:\n",
        "        vowel_count += 1\n",
        "\n",
        "# Display the number of vowels in the sentence\n",
        "print(\"Number of vowels in the sentence:\", vowel_count)\n"
      ],
      "metadata": {
        "colab": {
          "base_uri": "https://localhost:8080/"
        },
        "id": "C9jm6OuGZCE7",
        "outputId": "3f9d7efc-75c1-4110-eff3-47f14a4fc5a3"
      },
      "execution_count": 8,
      "outputs": [
        {
          "output_type": "stream",
          "name": "stdout",
          "text": [
            "Enter a sentence: I am learning from PW Skills\n",
            "Number of vowels in the sentence: 7\n"
          ]
        }
      ]
    },
    {
      "cell_type": "markdown",
      "source": [
        "3. Given a string, reverse the order of characters using string slicing and print the reversed string."
      ],
      "metadata": {
        "id": "NsWuR8MKe3XO"
      }
    },
    {
      "cell_type": "code",
      "source": [
        "# Input a string from the user\n",
        "string = input(\"Enter a string: \")\n",
        "\n",
        "# Reverse the string using slicing\n",
        "reversed_string = string[::-1]\n",
        "\n",
        "# Final result\n",
        "print(\"Reversed string:\", reversed_string)\n"
      ],
      "metadata": {
        "colab": {
          "base_uri": "https://localhost:8080/"
        },
        "id": "Q-8BffFVaWss",
        "outputId": "71082af4-37d7-4789-920e-c1bfa53363a5"
      },
      "execution_count": 9,
      "outputs": [
        {
          "output_type": "stream",
          "name": "stdout",
          "text": [
            "Enter a string: Good\n",
            "Reversed string: dooG\n"
          ]
        }
      ]
    },
    {
      "cell_type": "markdown",
      "source": [
        "4. Write a program that takes a string as input and checks if it is a palindrome\n",
        "(reads the same forwards and backwards)."
      ],
      "metadata": {
        "id": "VFNZnErPfRsF"
      }
    },
    {
      "cell_type": "code",
      "source": [
        "# Cheking for palindrome or not\n",
        "\n",
        "# Taking the input as string\n",
        "string = input(\"Enter the a string: \")\n",
        "\n",
        "# Removing spaces and lowering the string\n",
        "cleaned_str = string.replace(\" \", \"\").lower()\n",
        "\n",
        "# Reversing the string\n",
        "reversed_str = cleaned_str[::-1]\n",
        "\n",
        "# Cheking for palindrome\n",
        "if cleaned_str == reversed_str:\n",
        "  print(\"String is a palindrome\")\n",
        "else :\n",
        "  print(\"String is not a palindrome\")"
      ],
      "metadata": {
        "colab": {
          "base_uri": "https://localhost:8080/"
        },
        "id": "a8g6buBhfRaN",
        "outputId": "850d13cb-01ce-4e72-a7e9-a90318cfca6c"
      },
      "execution_count": 11,
      "outputs": [
        {
          "output_type": "stream",
          "name": "stdout",
          "text": [
            "Enter the a string: Good\n",
            "String is not a palindrome\n"
          ]
        }
      ]
    },
    {
      "cell_type": "markdown",
      "source": [
        "5. Create a program that takes a string as input and removes all the spaces from\n",
        "it. Print the modified string without spaces."
      ],
      "metadata": {
        "id": "m0bKPOH3hDSH"
      }
    },
    {
      "cell_type": "code",
      "source": [
        "# Code for removing all spaces\n",
        "\n",
        "# Taking inpute from user\n",
        "string = input('Enter the string: ')\n",
        "\n",
        "# Removing the spaces and modifing the string\n",
        "mod_string = string.replace(\" \", \"\")\n",
        "\n",
        "# Final result\n",
        "print(\"Modified string is: \", mod_string)"
      ],
      "metadata": {
        "colab": {
          "base_uri": "https://localhost:8080/"
        },
        "id": "M7WPNdQ8fJWk",
        "outputId": "df1fbeec-55fb-4cbc-d12a-42ec07c300d8"
      },
      "execution_count": 15,
      "outputs": [
        {
          "output_type": "stream",
          "name": "stdout",
          "text": [
            "Enter the string: i am good\n",
            "Modified string is:  iamgood\n"
          ]
        }
      ]
    },
    {
      "cell_type": "code",
      "source": [],
      "metadata": {
        "id": "ottnlNsehjrR"
      },
      "execution_count": null,
      "outputs": []
    }
  ]
}
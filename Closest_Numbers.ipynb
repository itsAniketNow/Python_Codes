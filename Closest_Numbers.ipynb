{
  "nbformat": 4,
  "nbformat_minor": 0,
  "metadata": {
    "colab": {
      "provenance": []
    },
    "kernelspec": {
      "name": "python3",
      "display_name": "Python 3"
    },
    "language_info": {
      "name": "python"
    }
  },
  "cells": [
    {
      "cell_type": "code",
      "execution_count": 13,
      "metadata": {
        "id": "pCvHmRFSmLhO",
        "colab": {
          "base_uri": "https://localhost:8080/"
        },
        "outputId": "ed3a5d9b-5727-420e-d542-fd51d5c823b8"
      },
      "outputs": [
        {
          "output_type": "stream",
          "name": "stdout",
          "text": [
            "10\n",
            "-20 -3916237 -357920 -3620601 7374819 -7330761 30 6246457 -6461594 266854\n",
            "[-20, 30]\n"
          ]
        }
      ],
      "source": [
        "import math\n",
        "import os\n",
        "import random\n",
        "import re\n",
        "import sys\n",
        "\n",
        "\n",
        "# The function is expected to return an INTEGER_ARRAY.\n",
        "# The function accepts INTEGER_ARRAY arr as parameter.\n",
        "#\n",
        "\n",
        "def closestNumbers(arr):\n",
        "  # Sort the input array in ascending order\n",
        "  arr.sort()\n",
        "\n",
        "  min_diff = float('inf')  # Initialize with a large value\n",
        "  result_pairs = []\n",
        "\n",
        "  for i in range(1, len(arr)):\n",
        "      diff = abs(arr[i] - arr[i - 1])\n",
        "\n",
        "      if diff < min_diff:\n",
        "          min_diff = diff\n",
        "          result_pairs = [(arr[i - 1], arr[i])]\n",
        "      elif diff == min_diff:\n",
        "          result_pairs.append((arr[i - 1], arr[i]))\n",
        "\n",
        "  return [x for pair in result_pairs for x in pair]\n",
        "\n",
        "if __name__ == '__main__':\n",
        "\n",
        "    n = int(input().strip())\n",
        "\n",
        "    arr = list(map(int, input().rstrip().split()))\n",
        "\n",
        "    result = closestNumbers(arr)\n",
        "\n",
        "    print(result)"
      ]
    },
    {
      "cell_type": "code",
      "source": [],
      "metadata": {
        "id": "x3mxZOjfdXAz"
      },
      "execution_count": null,
      "outputs": []
    }
  ]
}
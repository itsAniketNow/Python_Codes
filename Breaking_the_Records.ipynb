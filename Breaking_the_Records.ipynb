{
  "nbformat": 4,
  "nbformat_minor": 0,
  "metadata": {
    "colab": {
      "provenance": []
    },
    "kernelspec": {
      "name": "python3",
      "display_name": "Python 3"
    },
    "language_info": {
      "name": "python"
    }
  },
  "cells": [
    {
      "cell_type": "code",
      "execution_count": 23,
      "metadata": {
        "colab": {
          "base_uri": "https://localhost:8080/"
        },
        "id": "pCvHmRFSmLhO",
        "outputId": "0f98b5ff-eafe-480d-91b8-2e4c968efafe"
      },
      "outputs": [
        {
          "output_type": "stream",
          "name": "stdout",
          "text": [
            "10\n",
            "3 4 21 36 10 28 35 5 24 42\n",
            "[4, 0]\n"
          ]
        }
      ],
      "source": [
        "import math\n",
        "import os\n",
        "import random\n",
        "import re\n",
        "import sys\n",
        "\n",
        "\n",
        "# The function is expected to return an INTEGER_ARRAY.\n",
        "# The function accepts INTEGER_ARRAY scores as parameter.\n",
        "#\n",
        "\n",
        "def breakingRecords(scores):\n",
        "    # Initialize variables to keep track of the highest and lowest scores\n",
        "    highest_score = scores[0]\n",
        "    lowest_score = scores[0]\n",
        "\n",
        "    # Initialize variables to count the number of times records are broken\n",
        "    most_points_count = 0\n",
        "    least_points_count = 0\n",
        "\n",
        "    # Loop through the scores\n",
        "    for score in scores:\n",
        "        if score > highest_score:\n",
        "            highest_score = score\n",
        "            most_points_count += 1\n",
        "        elif score < lowest_score:\n",
        "            lowest_score = score\n",
        "            least_points_count += 1\n",
        "\n",
        "    return [most_points_count, least_points_count]\n",
        "\n",
        "if __name__ == '__main__':\n",
        "\n",
        "    n = int(input().strip())\n",
        "\n",
        "    scores = list(map(int, input().rstrip().split()))\n",
        "\n",
        "    result = breakingRecords(scores)\n",
        "\n",
        "    print(result)"
      ]
    },
    {
      "cell_type": "code",
      "source": [],
      "metadata": {
        "id": "z600JI6kq_Z6"
      },
      "execution_count": null,
      "outputs": []
    }
  ]
}
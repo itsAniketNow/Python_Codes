{
  "nbformat": 4,
  "nbformat_minor": 0,
  "metadata": {
    "colab": {
      "provenance": []
    },
    "kernelspec": {
      "name": "python3",
      "display_name": "Python 3"
    },
    "language_info": {
      "name": "python"
    }
  },
  "cells": [
    {
      "cell_type": "code",
      "execution_count": 29,
      "metadata": {
        "colab": {
          "base_uri": "https://localhost:8080/"
        },
        "id": "pCvHmRFSmLhO",
        "outputId": "083145db-7ad7-4f1f-a3e5-2043dd4c790d"
      },
      "outputs": [
        {
          "output_type": "stream",
          "name": "stdout",
          "text": [
            "2\n",
            "12\n",
            "12\n",
            "['12', '12']\n"
          ]
        }
      ],
      "source": [
        "import math\n",
        "import os\n",
        "import random\n",
        "import re\n",
        "import sys\n",
        "\n",
        "\n",
        "# The function is expected to return a STRING_ARRAY.\n",
        "# The function accepts STRING_ARRAY grid as parameter.\n",
        "#\n",
        "\n",
        "def cavityMap(grid):\n",
        "  n = len(grid)\n",
        "\n",
        "  # Convert the grid to a list of lists for easier manipulation\n",
        "  grid = [list(row) for row in grid]\n",
        "\n",
        "  # Iterate through the grid, excluding the border cells\n",
        "  for i in range(1, n - 1):\n",
        "      for j in range(1, n - 1):\n",
        "          depth = int(grid[i][j])\n",
        "          if depth > int(grid[i-1][j]) and depth > int(grid[i+1][j]) and depth > int(grid[i][j-1]) and depth > int(grid[i][j+1]):\n",
        "              # If the cell is a cavity, replace its value with 'X'\n",
        "              grid[i][j] = 'X'\n",
        "\n",
        "  # Convert the grid back to a list of strings\n",
        "  result = [''.join(row) for row in grid]\n",
        "\n",
        "  return result\n",
        "\n",
        "\n",
        "if __name__ == '__main__':\n",
        "\n",
        "    n = int(input().strip())\n",
        "\n",
        "    grid = []\n",
        "\n",
        "    for _ in range(n):\n",
        "        grid_item = input()\n",
        "        grid.append(grid_item)\n",
        "\n",
        "    result = cavityMap(grid)\n",
        "\n",
        "    print(result)"
      ]
    },
    {
      "cell_type": "code",
      "source": [],
      "metadata": {
        "id": "pTu5UmgWubqR"
      },
      "execution_count": null,
      "outputs": []
    }
  ]
}
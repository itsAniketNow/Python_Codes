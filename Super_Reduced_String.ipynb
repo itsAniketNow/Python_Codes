{
  "nbformat": 4,
  "nbformat_minor": 0,
  "metadata": {
    "colab": {
      "provenance": []
    },
    "kernelspec": {
      "name": "python3",
      "display_name": "Python 3"
    },
    "language_info": {
      "name": "python"
    }
  },
  "cells": [
    {
      "cell_type": "code",
      "execution_count": 7,
      "metadata": {
        "colab": {
          "base_uri": "https://localhost:8080/"
        },
        "id": "pCvHmRFSmLhO",
        "outputId": "e066d527-d1b7-4af7-ff57-7814dc9507cb"
      },
      "outputs": [
        {
          "output_type": "stream",
          "name": "stdout",
          "text": [
            "aaabccddd\n",
            "abd\n"
          ]
        }
      ],
      "source": [
        "import math\n",
        "import os\n",
        "import random\n",
        "import re\n",
        "import sys\n",
        "\n",
        "\n",
        "# The function is expected to return a STRING.\n",
        "# The function accepts STRING s as parameter.\n",
        "#\n",
        "\n",
        "def superReducedString(s):\n",
        "    stack = []\n",
        "\n",
        "    for char in s:\n",
        "        if stack and stack[-1] == char:\n",
        "            stack.pop()  # Remove the last character from the stack\n",
        "        else:\n",
        "            stack.append(char)  # Add the character to the stack\n",
        "\n",
        "    if not stack:\n",
        "        return \"Empty String\"\n",
        "\n",
        "    return ''.join(stack)\n",
        "    # Write your code here\n",
        "\n",
        "if __name__ == '__main__':\n",
        "\n",
        "    s = input()\n",
        "\n",
        "    result = superReducedString(s)\n",
        "\n",
        "    print(result)"
      ]
    },
    {
      "cell_type": "code",
      "source": [],
      "metadata": {
        "id": "z600JI6kq_Z6"
      },
      "execution_count": 7,
      "outputs": []
    }
  ]
}
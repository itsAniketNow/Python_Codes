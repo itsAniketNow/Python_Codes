{
  "nbformat": 4,
  "nbformat_minor": 0,
  "metadata": {
    "colab": {
      "provenance": []
    },
    "kernelspec": {
      "name": "python3",
      "display_name": "Python 3"
    },
    "language_info": {
      "name": "python"
    }
  },
  "cells": [
    {
      "cell_type": "code",
      "execution_count": 13,
      "metadata": {
        "colab": {
          "base_uri": "https://localhost:8080/"
        },
        "id": "pCvHmRFSmLhO",
        "outputId": "9bdc75de-7c0f-479e-ebf2-44dfa70459b1"
      },
      "outputs": [
        {
          "output_type": "stream",
          "name": "stdout",
          "text": [
            "7 3\n",
            "1 2 4 5 7 8 10\n",
            "3\n"
          ]
        }
      ],
      "source": [
        "import math\n",
        "import os\n",
        "import random\n",
        "import re\n",
        "import sys\n",
        "\n",
        "\n",
        "# The function is expected to return an INTEGER.\n",
        "# The function accepts following parameters:\n",
        "#  1. INTEGER d\n",
        "#  2. INTEGER_ARRAY arr\n",
        "#\n",
        "\n",
        "def beautifulTriplets(d, arr):\n",
        "  count = 0\n",
        "\n",
        "  n = len(arr)\n",
        "\n",
        "  for i in range(n - 2):\n",
        "      for j in range(i + 1, n - 1):\n",
        "          if arr[j] - arr[i] == d:\n",
        "              for k in range(j + 1, n):\n",
        "                  if arr[k] - arr[j] == d:\n",
        "                      count += 1\n",
        "\n",
        "  return count\n",
        "\n",
        "\n",
        "\n",
        "\n",
        "if __name__ == '__main__':\n",
        "\n",
        "    first_multiple_input = input().rstrip().split()\n",
        "\n",
        "    n = int(first_multiple_input[0])\n",
        "\n",
        "    d = int(first_multiple_input[1])\n",
        "\n",
        "    arr = list(map(int, input().rstrip().split()))\n",
        "\n",
        "    result = beautifulTriplets(d, arr)\n",
        "\n",
        "    print(result)\n"
      ]
    },
    {
      "cell_type": "code",
      "source": [
        "1\n"
      ],
      "metadata": {
        "id": "jB9-47-APkuH"
      },
      "execution_count": 3,
      "outputs": []
    },
    {
      "cell_type": "code",
      "source": [],
      "metadata": {
        "id": "WLCqBQ2NtEnl"
      },
      "execution_count": null,
      "outputs": []
    }
  ]
}
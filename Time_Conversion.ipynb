{
  "nbformat": 4,
  "nbformat_minor": 0,
  "metadata": {
    "colab": {
      "provenance": []
    },
    "kernelspec": {
      "name": "python3",
      "display_name": "Python 3"
    },
    "language_info": {
      "name": "python"
    }
  },
  "cells": [
    {
      "cell_type": "code",
      "execution_count": 3,
      "metadata": {
        "colab": {
          "base_uri": "https://localhost:8080/"
        },
        "id": "pCvHmRFSmLhO",
        "outputId": "5fd6df84-b09e-45ba-9658-8e185a71884c"
      },
      "outputs": [
        {
          "output_type": "stream",
          "name": "stdout",
          "text": [
            "07:05:45PM\n",
            "19:05:45\n"
          ]
        }
      ],
      "source": [
        "import math\n",
        "import os\n",
        "import random\n",
        "import re\n",
        "import sys\n",
        "\n",
        "\n",
        "# The function is expected to return a STRING.\n",
        "# The function accepts STRING s as parameter.\n",
        "#\n",
        "\n",
        "def timeConversion(s):\n",
        "    # Split the input time string and separate the hour, minute, and second parts\n",
        "    time_parts = s[:-2].split(':')\n",
        "    hh, mm, ss = map(int, time_parts)\n",
        "\n",
        "    # Extract the AM/PM part\n",
        "    am_pm = s[-2:]\n",
        "\n",
        "    # Handle the special case of 12:00:00 AM (midnight) and 12:00:00 PM (noon)\n",
        "    if hh == 12 and am_pm == 'AM':\n",
        "        hh = 0\n",
        "    elif am_pm == 'PM' and hh != 12:\n",
        "        hh += 12\n",
        "\n",
        "    # Format the time in 24-hour format\n",
        "    return f\"{hh:02d}:{mm:02d}:{ss:02d}\"\n",
        "\n",
        "\n",
        "\n",
        "\n",
        "if __name__ == '__main__':\n",
        "\n",
        "    s = input()\n",
        "\n",
        "    result = timeConversion(s)\n",
        "\n",
        "    print(result)\n"
      ]
    },
    {
      "cell_type": "code",
      "source": [],
      "metadata": {
        "id": "Xg1OIfXAORdl"
      },
      "execution_count": null,
      "outputs": []
    },
    {
      "cell_type": "code",
      "source": [],
      "metadata": {
        "id": "jB9-47-APkuH"
      },
      "execution_count": null,
      "outputs": []
    }
  ]
}
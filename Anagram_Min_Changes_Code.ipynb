{
  "nbformat": 4,
  "nbformat_minor": 0,
  "metadata": {
    "colab": {
      "provenance": []
    },
    "kernelspec": {
      "name": "python3",
      "display_name": "Python 3"
    },
    "language_info": {
      "name": "python"
    }
  },
  "cells": [
    {
      "cell_type": "code",
      "execution_count": 3,
      "metadata": {
        "colab": {
          "base_uri": "https://localhost:8080/"
        },
        "id": "pCvHmRFSmLhO",
        "outputId": "2c3a3d21-aeeb-475c-c33f-61a86b5107a6"
      },
      "outputs": [
        {
          "output_type": "stream",
          "name": "stdout",
          "text": [
            "4\n",
            "6\n"
          ]
        }
      ],
      "source": [
        "import math\n",
        "import os\n",
        "import random\n",
        "import re\n",
        "import sys\n",
        "\n",
        "\n",
        "# The function is expected to return a LONG_INTEGER.\n",
        "# The function accepts LONG_INTEGER t as parameter.\n",
        "#\n",
        "\n",
        "def strangeCounter(t):\n",
        "  cycle = 1\n",
        "  while t > 3 * (2 ** (cycle - 1)):\n",
        "      t -= 3 * (2 ** (cycle - 1))\n",
        "      cycle += 1\n",
        "\n",
        "  value = 3 * (2 ** (cycle - 1)) - t + 1\n",
        "  return value\n",
        "\n",
        "if __name__ == '__main__':\n",
        "\n",
        "    t = int(input().strip())\n",
        "\n",
        "    result = strangeCounter(t)\n",
        "\n",
        "    print(result)\n"
      ]
    },
    {
      "cell_type": "code",
      "source": [],
      "metadata": {
        "id": "pTu5UmgWubqR"
      },
      "execution_count": null,
      "outputs": []
    }
  ]
}
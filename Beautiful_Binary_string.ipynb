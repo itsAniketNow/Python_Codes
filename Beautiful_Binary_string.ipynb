{
  "nbformat": 4,
  "nbformat_minor": 0,
  "metadata": {
    "colab": {
      "provenance": []
    },
    "kernelspec": {
      "name": "python3",
      "display_name": "Python 3"
    },
    "language_info": {
      "name": "python"
    }
  },
  "cells": [
    {
      "cell_type": "code",
      "execution_count": 4,
      "metadata": {
        "colab": {
          "base_uri": "https://localhost:8080/"
        },
        "id": "pCvHmRFSmLhO",
        "outputId": "f619e4a0-5450-434c-8f14-649b2eeef56f"
      },
      "outputs": [
        {
          "output_type": "stream",
          "name": "stdout",
          "text": [
            "5\n",
            "01100\n",
            "0\n"
          ]
        }
      ],
      "source": [
        "import math\n",
        "import os\n",
        "import random\n",
        "import re\n",
        "import sys\n",
        "\n",
        "\n",
        "# The function is expected to return an INTEGER.\n",
        "# The function accepts STRING b as parameter.\n",
        "#\n",
        "\n",
        "def beautifulBinaryString(b):\n",
        "   # Initialize the count of replacements\n",
        "    replacements = 0\n",
        "\n",
        "    # Iterate through the string to find \"010\" substrings\n",
        "    for i in range(len(b) - 2):\n",
        "        if b[i:i+3] == \"010\":\n",
        "            replacements += 1\n",
        "            # Skip the next character to avoid overlapping substrings\n",
        "            i += 2\n",
        "\n",
        "    return replacements\n",
        "\n",
        "\n",
        "\n",
        "\n",
        "if __name__ == '__main__':\n",
        "\n",
        "    n = int(input().strip())\n",
        "\n",
        "    b = input()\n",
        "\n",
        "    result = beautifulBinaryString(b)\n",
        "\n",
        "    print(result)\n"
      ]
    },
    {
      "cell_type": "code",
      "source": [
        "\n"
      ],
      "metadata": {
        "id": "jB9-47-APkuH"
      },
      "execution_count": 3,
      "outputs": []
    },
    {
      "cell_type": "code",
      "source": [],
      "metadata": {
        "id": "WLCqBQ2NtEnl"
      },
      "execution_count": null,
      "outputs": []
    }
  ]
}
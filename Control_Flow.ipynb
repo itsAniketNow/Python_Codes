{
  "nbformat": 4,
  "nbformat_minor": 0,
  "metadata": {
    "colab": {
      "provenance": []
    },
    "kernelspec": {
      "name": "python3",
      "display_name": "Python 3"
    },
    "language_info": {
      "name": "python"
    }
  },
  "cells": [
    {
      "cell_type": "markdown",
      "source": [
        "#Basic If-Else Statements:"
      ],
      "metadata": {
        "id": "Z8lvYHZWLFKF"
      }
    },
    {
      "cell_type": "markdown",
      "source": [
        "###1. Write a Python program to check if a given number is positive or negative."
      ],
      "metadata": {
        "id": "Rm93VAkALE-i"
      }
    },
    {
      "cell_type": "code",
      "execution_count": null,
      "metadata": {
        "id": "eBijeBzNwZlb",
        "colab": {
          "base_uri": "https://localhost:8080/"
        },
        "outputId": "cf040736-53c9-4342-f580-a8c02915ec55"
      },
      "outputs": [
        {
          "output_type": "stream",
          "name": "stdout",
          "text": [
            "Enter a number: 4\n",
            "The number is positive.\n"
          ]
        }
      ],
      "source": [
        "num = float(input(\"Enter a number: \"))\n",
        "\n",
        "if num > 0:\n",
        "    print(\"The number is positive.\")\n",
        "elif num < 0:\n",
        "    print(\"The number is negative.\")\n",
        "else:\n",
        "    print(\"The number is zero.\")"
      ]
    },
    {
      "cell_type": "markdown",
      "source": [
        "###2. Create a program that determines if a person is eligible to vote based on their age."
      ],
      "metadata": {
        "id": "ZihxtvoMNm97"
      }
    },
    {
      "cell_type": "code",
      "source": [
        "age = int(input(\"Enter your age: \"))\n",
        "\n",
        "if age >= 18:\n",
        "    print(\"You are eligible to vote.\")\n",
        "else:\n",
        "    print(\"You are not eligible to vote.\")"
      ],
      "metadata": {
        "colab": {
          "base_uri": "https://localhost:8080/"
        },
        "id": "b-uHTIjLNlmb",
        "outputId": "9535a0c5-ebcb-4274-84df-39933d0ad64d"
      },
      "execution_count": null,
      "outputs": [
        {
          "output_type": "stream",
          "name": "stdout",
          "text": [
            "Enter your age: 25\n",
            "You are eligible to vote.\n"
          ]
        }
      ]
    },
    {
      "cell_type": "markdown",
      "source": [
        "###3. Develop a program to find the maximum of two numbers using if-else statements."
      ],
      "metadata": {
        "id": "iL6sw-NaOGiY"
      }
    },
    {
      "cell_type": "code",
      "source": [
        "num1 = float(input(\"Enter the first number: \"))\n",
        "num2 = float(input(\"Enter the second number: \"))\n",
        "\n",
        "if num1 > num2:\n",
        "    print(\"The maximum is\", num1)\n",
        "else:\n",
        "    print(\"The maximum is\", num2)"
      ],
      "metadata": {
        "colab": {
          "base_uri": "https://localhost:8080/"
        },
        "id": "kSqXzFWMOGUQ",
        "outputId": "08b29235-77a0-4493-c18e-3a21592bc8f7"
      },
      "execution_count": null,
      "outputs": [
        {
          "output_type": "stream",
          "name": "stdout",
          "text": [
            "Enter the first number: 12\n",
            "Enter the second number: 12\n",
            "The maximum is 12.0\n"
          ]
        }
      ]
    },
    {
      "cell_type": "markdown",
      "source": [
        "###4. Write a Python script to classify a given year as a leap year or not."
      ],
      "metadata": {
        "id": "CrhjQDJPOGC5"
      }
    },
    {
      "cell_type": "code",
      "source": [
        "year = int(input(\"Enter a year: \"))\n",
        "\n",
        "if (year % 4 == 0 and year % 100 != 0) or (year % 400 == 0):\n",
        "    print(year, \"is a leap year.\")\n",
        "else:\n",
        "    print(year, \"is not a leap year.\")"
      ],
      "metadata": {
        "colab": {
          "base_uri": "https://localhost:8080/"
        },
        "id": "AwPDRatUOFy4",
        "outputId": "7aa14602-fa2e-4c2b-ee5c-edfec76d7377"
      },
      "execution_count": null,
      "outputs": [
        {
          "output_type": "stream",
          "name": "stdout",
          "text": [
            "Enter a year: 2023\n",
            "2023 is not a leap year.\n"
          ]
        }
      ]
    },
    {
      "cell_type": "markdown",
      "source": [
        "###5. Create a program that checks whether a character is a vowel or a consonant."
      ],
      "metadata": {
        "id": "j04hxBgSOFkZ"
      }
    },
    {
      "cell_type": "code",
      "source": [
        "char = input(\"Enter a character: \")\n",
        "\n",
        "if char in \"aeiouAEIOU\":\n",
        "    print(char, \"is a vowel.\")\n",
        "else:\n",
        "    print(char, \"is a consonant.\")"
      ],
      "metadata": {
        "colab": {
          "base_uri": "https://localhost:8080/"
        },
        "id": "i0Noj7EbOFMz",
        "outputId": "9a69f1c2-7c21-45aa-ca03-088afee0cfd2"
      },
      "execution_count": null,
      "outputs": [
        {
          "output_type": "stream",
          "name": "stdout",
          "text": [
            "Enter a character: c\n",
            "c is a consonant.\n"
          ]
        }
      ]
    },
    {
      "cell_type": "markdown",
      "source": [
        "###6. Implement a program to determine whether a given number is even or odd."
      ],
      "metadata": {
        "id": "vC13Dg6-OFGr"
      }
    },
    {
      "cell_type": "code",
      "source": [
        "num = int(input(\"Enter the number to check odd or even: \"))\n",
        "\n",
        "if num % 2 == 0:\n",
        "  print(\"The number\", num, \"is even\")\n",
        "elif num % 2 != 0 :\n",
        "  print(\"The number\", num, \"is odd\")\n",
        "else :\n",
        "  print(\"The number is valid\")"
      ],
      "metadata": {
        "colab": {
          "base_uri": "https://localhost:8080/"
        },
        "id": "d_uCURDvOE_k",
        "outputId": "5f3d65a5-1cb5-4fc6-ea44-3dde3a071274"
      },
      "execution_count": null,
      "outputs": [
        {
          "output_type": "stream",
          "name": "stdout",
          "text": [
            "Enter the number to check odd or even: 12\n",
            "The number 12 is even\n"
          ]
        }
      ]
    },
    {
      "cell_type": "markdown",
      "source": [
        "###7. Write a Python function to calculate the absolute value of a number without using the `abs()` function."
      ],
      "metadata": {
        "id": "_a4ITrlDOE3W"
      }
    },
    {
      "cell_type": "code",
      "source": [
        "num = float(input(\"Enter a number: \"))\n",
        "\n",
        "if num < 0:\n",
        "    abs_value = -num\n",
        "else:\n",
        "    abs_value = num\n",
        "\n",
        "print(\"The absolute value is\", abs_value)"
      ],
      "metadata": {
        "colab": {
          "base_uri": "https://localhost:8080/"
        },
        "id": "O7j2G4_8OEuX",
        "outputId": "57c7da3d-8495-4c97-fe4a-fe1e4db69db6"
      },
      "execution_count": null,
      "outputs": [
        {
          "output_type": "stream",
          "name": "stdout",
          "text": [
            "Enter a number: 25\n",
            "The absolute value is 25.0\n"
          ]
        }
      ]
    },
    {
      "cell_type": "markdown",
      "source": [
        "###8. Develop a program that determines the largest of three given numbers using if-else statements."
      ],
      "metadata": {
        "id": "a5V78wO4OEn2"
      }
    },
    {
      "cell_type": "code",
      "source": [
        "num1 = float(input(\"Enter the first number: \"))\n",
        "num2 = float(input(\"Enter the second number: \"))\n",
        "num3 = float(input(\"Enter the third number: \"))\n",
        "\n",
        "if num1 >= num2 and num1 >= num3:\n",
        "    largest = num1\n",
        "elif num2 >= num1 and num2 >= num3:\n",
        "    largest = num2\n",
        "else:\n",
        "    largest = num3\n",
        "\n",
        "print(\"The largest number is\", largest)"
      ],
      "metadata": {
        "id": "KwWOM5i9OEgr",
        "colab": {
          "base_uri": "https://localhost:8080/"
        },
        "outputId": "686a537a-79c9-48a5-9862-2522f5d9f747"
      },
      "execution_count": null,
      "outputs": [
        {
          "output_type": "stream",
          "name": "stdout",
          "text": [
            "Enter the first number: 12\n",
            "Enter the second number: 47\n",
            "Enter the third number: 36\n",
            "The largest number is 47.0\n"
          ]
        }
      ]
    },
    {
      "cell_type": "markdown",
      "source": [
        "###9. Create a program that checks if a given string is a palindrome."
      ],
      "metadata": {
        "id": "woKJmQx9OEYu"
      }
    },
    {
      "cell_type": "code",
      "source": [
        "string = input(\"Enter a string: \")\n",
        "\n",
        "# Remove spaces and convert to lowercase for case-insensitive comparison\n",
        "string = string.replace(\" \", \"\").lower()\n",
        "\n",
        "if string == string[::-1]:\n",
        "    print(\"It's a palindrome.\")\n",
        "else:\n",
        "    print(\"It's not a palindrome.\")"
      ],
      "metadata": {
        "id": "pX7NopJtOEOc",
        "colab": {
          "base_uri": "https://localhost:8080/"
        },
        "outputId": "8383aa4d-a949-42f8-8088-96293a234d91"
      },
      "execution_count": null,
      "outputs": [
        {
          "output_type": "stream",
          "name": "stdout",
          "text": [
            "Enter a string: fkugf\n",
            "It's not a palindrome.\n"
          ]
        }
      ]
    },
    {
      "cell_type": "markdown",
      "source": [
        "###10. Write a Python program to calculate the grade based on a student's score."
      ],
      "metadata": {
        "id": "4Oyykf9hOEGd"
      }
    },
    {
      "cell_type": "code",
      "source": [
        "score = float(input(\"Enter the student's score: \"))\n",
        "\n",
        "if score >= 90:\n",
        "    grade = \"A\"\n",
        "elif score >= 80:\n",
        "    grade = \"B\"\n",
        "elif score >= 70:\n",
        "    grade = \"C\"\n",
        "elif score >= 60:\n",
        "    grade = \"D\"\n",
        "else:\n",
        "    grade = \"F\"\n",
        "\n",
        "print(\"The student's grade is:\", grade)"
      ],
      "metadata": {
        "id": "cr_QJE3_OD_l",
        "colab": {
          "base_uri": "https://localhost:8080/"
        },
        "outputId": "5ff34f8c-e2f8-42dc-bc26-9528fb8d5f40"
      },
      "execution_count": null,
      "outputs": [
        {
          "output_type": "stream",
          "name": "stdout",
          "text": [
            "Enter the student's score: 65\n",
            "The student's grade is: D\n"
          ]
        }
      ]
    },
    {
      "cell_type": "markdown",
      "source": [
        "#Nested If-Else Statements:"
      ],
      "metadata": {
        "id": "_6RoTTfhOD2k"
      }
    },
    {
      "cell_type": "markdown",
      "source": [
        "###12. Implement a program to determine if a triangle is equilateral, isosceles, or scalene."
      ],
      "metadata": {
        "id": "_1OCgdGTVuFa"
      }
    },
    {
      "cell_type": "code",
      "source": [
        "num1 = float(input(\"Enter the first number: \"))\n",
        "num2 = float(input(\"Enter the second number: \"))\n",
        "num3 = float(input(\"Enter the third number: \"))\n",
        "\n",
        "if num1 >= num2:\n",
        "    if num1 >= num3:\n",
        "        largest = num1\n",
        "    else:\n",
        "        largest = num3\n",
        "else:\n",
        "    if num2 >= num3:\n",
        "        largest = num2\n",
        "    else:\n",
        "        largest = num3\n",
        "\n",
        "print(\"The largest number is\", largest)"
      ],
      "metadata": {
        "id": "7NOYFHiFODo_",
        "colab": {
          "base_uri": "https://localhost:8080/"
        },
        "outputId": "67e9b245-eb6d-4239-99ab-d19d20a5e1a0"
      },
      "execution_count": null,
      "outputs": [
        {
          "output_type": "stream",
          "name": "stdout",
          "text": [
            "Enter the first number: 15\n",
            "Enter the second number: 12\n",
            "Enter the third number: 35\n",
            "The largest number is 35.0\n"
          ]
        }
      ]
    },
    {
      "cell_type": "markdown",
      "source": [
        "###13. Develop a program that checks if a year is a leap year and also if it is a century year."
      ],
      "metadata": {
        "id": "_-FXvJwrOCPJ"
      }
    },
    {
      "cell_type": "code",
      "source": [
        "year = int(input(\"Enter a year: \"))\n",
        "\n",
        "if (year % 4 == 0 and year % 100 != 0) or (year % 400 == 0):\n",
        "    print(year, \"is a leap year.\")\n",
        "\n",
        "    if year % 100 == 0:\n",
        "        print(year, \"is a century year.\")\n",
        "else:\n",
        "    print(year, \"is not a leap year.\")"
      ],
      "metadata": {
        "id": "uPcyJROsN3SL",
        "colab": {
          "base_uri": "https://localhost:8080/"
        },
        "outputId": "70e2ecf8-634a-4d04-efeb-f34966980341"
      },
      "execution_count": null,
      "outputs": [
        {
          "output_type": "stream",
          "name": "stdout",
          "text": [
            "Enter a year: 2022\n",
            "2022 is not a leap year.\n"
          ]
        }
      ]
    },
    {
      "cell_type": "markdown",
      "source": [
        "###14. Write a Python script to determine if a number is positive, negative, or zero."
      ],
      "metadata": {
        "id": "sJBtlFWjV_S_"
      }
    },
    {
      "cell_type": "code",
      "source": [
        "num = float(input(\"Enter a number: \"))\n",
        "\n",
        "if num > 0:\n",
        "    print(\"The number is positive.\")\n",
        "elif num < 0:\n",
        "    print(\"The number is negative.\")\n",
        "else:\n",
        "    print(\"The number is zero.\")"
      ],
      "metadata": {
        "colab": {
          "base_uri": "https://localhost:8080/"
        },
        "id": "rnfcsN3KV-pA",
        "outputId": "c01f1ea8-594e-449b-d4d8-1f47343cede2"
      },
      "execution_count": null,
      "outputs": [
        {
          "output_type": "stream",
          "name": "stdout",
          "text": [
            "Enter a number: 15\n",
            "The number is positive.\n"
          ]
        }
      ]
    },
    {
      "cell_type": "markdown",
      "source": [
        "###15. Create a program to check if a person is a teenager (between 13 and 19 years old)."
      ],
      "metadata": {
        "id": "Wei0Q2biV-i5"
      }
    },
    {
      "cell_type": "code",
      "source": [
        "age = int(input(\"Enter the person's age: \"))\n",
        "\n",
        "if 13 <= age <= 19:\n",
        "    print(\"The person is a teenager.\")\n",
        "else:\n",
        "    print(\"The person is not a teenager.\")"
      ],
      "metadata": {
        "colab": {
          "base_uri": "https://localhost:8080/"
        },
        "id": "gOPMZt2sV-cS",
        "outputId": "915758b5-8eb6-413e-9e0f-6c3d9b64df3f"
      },
      "execution_count": null,
      "outputs": [
        {
          "output_type": "stream",
          "name": "stdout",
          "text": [
            "Enter the person's age: 12\n",
            "The person is not a teenager.\n"
          ]
        }
      ]
    },
    {
      "cell_type": "markdown",
      "source": [
        "###16. Develop a program that determines the type of angle based on its measure (acute, obtuse, or right)."
      ],
      "metadata": {
        "id": "L42lOFEdV-Vg"
      }
    },
    {
      "cell_type": "code",
      "source": [
        "angle = float(input(\"Enter the angle in degrees: \"))\n",
        "\n",
        "if angle < 90:\n",
        "    print(\"It's an acute angle.\")\n",
        "elif angle == 90:\n",
        "    print(\"It's a right angle.\")\n",
        "else:\n",
        "    print(\"It's an obtuse angle.\")"
      ],
      "metadata": {
        "colab": {
          "base_uri": "https://localhost:8080/"
        },
        "id": "hBFzl3zXV-Or",
        "outputId": "ce155e2a-471e-4ebd-8c22-42213b251a73"
      },
      "execution_count": null,
      "outputs": [
        {
          "output_type": "stream",
          "name": "stdout",
          "text": [
            "Enter the angle in degrees: 49\n",
            "It's an acute angle.\n"
          ]
        }
      ]
    },
    {
      "cell_type": "markdown",
      "source": [
        "###17. Write a Python program to calculate the roots of a quadratic equation."
      ],
      "metadata": {
        "id": "k0Ae0EF4V-JL"
      }
    },
    {
      "cell_type": "code",
      "source": [
        "import math\n",
        "\n",
        "a = float(input(\"Enter the coefficient 'a': \"))\n",
        "b = float(input(\"Enter the coefficient 'b': \"))\n",
        "c = float(input(\"Enter the coefficient 'c': \"))\n",
        "\n",
        "discriminant = b**2 - 4*a*c\n",
        "\n",
        "if discriminant > 0:\n",
        "    root1 = (-b + math.sqrt(discriminant)) / (2*a)\n",
        "    root2 = (-b - math.sqrt(discriminant)) / (2*a)\n",
        "    print(\"Two real and distinct roots: Root1 =\", root1, \"Root2 =\", root2)\n",
        "elif discriminant == 0:\n",
        "    root1 = -b / (2*a)\n",
        "    print(\"One real root: Root1 =\", root1)\n",
        "else:\n",
        "    realPart = -b / (2*a)\n",
        "    imaginaryPart = math.sqrt(-discriminant) / (2*a)\n",
        "    print(\"Two complex roots: Root1 =\", realPart, \"+\", imaginaryPart, \"i and Root2 =\", realPart, \"-\", imaginaryPart, \"i\")"
      ],
      "metadata": {
        "id": "qqfFg6QdV-B-"
      },
      "execution_count": null,
      "outputs": []
    },
    {
      "cell_type": "markdown",
      "source": [
        "###18. Determine the day of the week"
      ],
      "metadata": {
        "id": "WSgedeD9V97R"
      }
    },
    {
      "cell_type": "code",
      "source": [
        "day_number = int(input(\"Enter a number (1 for Monday, 2 for Tuesday, etc.): \"))\n",
        "\n",
        "days = [\"Monday\", \"Tuesday\", \"Wednesday\", \"Thursday\", \"Friday\", \"Saturday\", \"Sunday\"]\n",
        "\n",
        "if 1 <= day_number <= 7:\n",
        "    print(\"It's\", days[day_number - 1])\n",
        "else:\n",
        "    print(\"Invalid input.\")"
      ],
      "metadata": {
        "colab": {
          "base_uri": "https://localhost:8080/"
        },
        "id": "ya9QpxQBV91h",
        "outputId": "3f68264f-1c86-411b-f120-0845ab51eb73"
      },
      "execution_count": null,
      "outputs": [
        {
          "output_type": "stream",
          "name": "stdout",
          "text": [
            "Enter a number (1 for Monday, 2 for Tuesday, etc.): 5\n",
            "It's Friday\n"
          ]
        }
      ]
    },
    {
      "cell_type": "markdown",
      "source": [
        "###19. Check for leap year and divisible by 400"
      ],
      "metadata": {
        "id": "jDTYwTOQV9s_"
      }
    },
    {
      "cell_type": "code",
      "source": [
        "year = int(input(\"Enter a year: \"))\n",
        "\n",
        "if (year % 4 == 0 and year % 100 != 0) or (year % 400 == 0):\n",
        "    print(year, \"is a leap year.\")\n",
        "\n",
        "    if year % 400 == 0:\n",
        "        print(year, \"is evenly divisible by 400.\")\n",
        "else:\n",
        "    print(year, \"is not a leap year.\")"
      ],
      "metadata": {
        "colab": {
          "base_uri": "https://localhost:8080/"
        },
        "id": "iIJbarebV9mY",
        "outputId": "c2dc554a-aa47-48b5-bb41-1af5c3055343"
      },
      "execution_count": null,
      "outputs": [
        {
          "output_type": "stream",
          "name": "stdout",
          "text": [
            "Enter a year: 2019\n",
            "2019 is not a leap year.\n"
          ]
        }
      ]
    },
    {
      "cell_type": "markdown",
      "source": [
        "###20. Check if a number is prime"
      ],
      "metadata": {
        "id": "_w5Qu0d8V9gR"
      }
    },
    {
      "cell_type": "code",
      "source": [
        "num = int(input(\"Enter a number: \"))\n",
        "\n",
        "if num <= 1:\n",
        "    print(\"Not a prime number\")\n",
        "else:\n",
        "    is_prime = True\n",
        "    for i in range(2, int(num**0.5) + 1):\n",
        "        if num % i == 0:\n",
        "            is_prime = False\n",
        "            break\n",
        "    if is_prime:\n",
        "        print(\"It's a prime number.\")\n",
        "    else:\n",
        "        print(\"Not a prime number.\")"
      ],
      "metadata": {
        "colab": {
          "base_uri": "https://localhost:8080/"
        },
        "id": "hFi6mdt9V9QX",
        "outputId": "d7a3ef61-3d2b-4fff-bc63-9e564f1eee79"
      },
      "execution_count": null,
      "outputs": [
        {
          "output_type": "stream",
          "name": "stdout",
          "text": [
            "Enter a number: 24\n",
            "Not a prime number.\n"
          ]
        }
      ]
    },
    {
      "cell_type": "markdown",
      "source": [
        "#Elif Statements:"
      ],
      "metadata": {
        "id": "qO9B8vOkV9J4"
      }
    },
    {
      "cell_type": "markdown",
      "source": [
        "###21. Write a Python program to assign grades based on different ranges of scores using elif statements.\n"
      ],
      "metadata": {
        "id": "2iq1COVPXyht"
      }
    },
    {
      "cell_type": "code",
      "source": [
        "score = float(input(\"Enter the student's score: \"))\n",
        "\n",
        "if score >= 90:\n",
        "    grade = \"A\"\n",
        "elif score >= 80:\n",
        "    grade = \"B\"\n",
        "elif score >= 70:\n",
        "    grade = \"C\"\n",
        "elif score >= 60:\n",
        "    grade = \"D\"\n",
        "else:\n",
        "    grade = \"F\"\n",
        "\n",
        "print(\"The student's grade is:\", grade)"
      ],
      "metadata": {
        "id": "4YOcLHdlV9Cq",
        "colab": {
          "base_uri": "https://localhost:8080/"
        },
        "outputId": "567293ef-5636-4603-a376-cb7b6deadc9c"
      },
      "execution_count": null,
      "outputs": [
        {
          "output_type": "stream",
          "name": "stdout",
          "text": [
            "Enter the student's score: 65\n",
            "The student's grade is: D\n"
          ]
        }
      ]
    },
    {
      "cell_type": "markdown",
      "source": [
        "###22. Implement a program to determine the type of a triangle based on its angles."
      ],
      "metadata": {
        "id": "IC8zsOvnV88c"
      }
    },
    {
      "cell_type": "code",
      "source": [
        "angle1 = int(input(\"Enter the first angle: \"))\n",
        "angle2 = int(input(\"Enter the second angle: \"))\n",
        "angle3 = int(input(\"Enter the third angle: \"))\n",
        "\n",
        "if angle1 == 90 or angle2 == 90 or angle3 == 90:\n",
        "    print(\"It's a right triangle.\")\n",
        "elif angle1 < 90 and angle2 < 90 and angle3 < 90:\n",
        "    print(\"It's an acute triangle.\")\n",
        "else:\n",
        "    print(\"It's an obtuse triangle.\")"
      ],
      "metadata": {
        "id": "8RXnsdOcV81h",
        "colab": {
          "base_uri": "https://localhost:8080/"
        },
        "outputId": "91b4fbce-5907-44c2-b670-2dd950677ba2"
      },
      "execution_count": null,
      "outputs": [
        {
          "output_type": "stream",
          "name": "stdout",
          "text": [
            "Enter the first angle: 24\n",
            "Enter the second angle: 23\n",
            "Enter the third angle: 12\n",
            "It's an acute triangle.\n"
          ]
        }
      ]
    },
    {
      "cell_type": "markdown",
      "source": [
        "###23. Develop a program to categorize a given person's BMI into underweight, normal, overweight, or obese using elif statements."
      ],
      "metadata": {
        "id": "k3RoB7L3V8cy"
      }
    },
    {
      "cell_type": "code",
      "source": [
        "weight = float(input(\"Enter the person's weight (in kg): \"))\n",
        "height = float(input(\"Enter the person's height (in meters): \"))\n",
        "\n",
        "bmi = weight / (height ** 2)\n",
        "\n",
        "if bmi < 18.5:\n",
        "    category = \"Underweight\"\n",
        "elif 18.5 <= bmi < 24.9:\n",
        "    category = \"Normal\"\n",
        "elif 25 <= bmi < 29.9:\n",
        "    category = \"Overweight\"\n",
        "else:\n",
        "    category = \"Obese\"\n",
        "\n",
        "print(\"The person's BMI category is:\", category)"
      ],
      "metadata": {
        "id": "vvZlnYTxV8Fq",
        "colab": {
          "base_uri": "https://localhost:8080/"
        },
        "outputId": "3c094afc-0e31-4878-98bb-3edfc8b88fd9"
      },
      "execution_count": null,
      "outputs": [
        {
          "output_type": "stream",
          "name": "stdout",
          "text": [
            "Enter the person's weight (in kg): 95\n",
            "Enter the person's height (in meters): 12\n",
            "The person's BMI category is: Underweight\n"
          ]
        }
      ]
    },
    {
      "cell_type": "markdown",
      "source": [
        "###24. Create a program that determines whether a given number is positive, negative, or zero using elif statements."
      ],
      "metadata": {
        "id": "keDSUvPdhvsy"
      }
    },
    {
      "cell_type": "code",
      "source": [
        "num = float(input(\"Enter a number: \"))\n",
        "\n",
        "if num > 0:\n",
        "    print(\"The number is positive.\")\n",
        "elif num < 0:\n",
        "    print(\"The number is negative.\")\n",
        "else:\n",
        "    print(\"The number is zero.\")"
      ],
      "metadata": {
        "id": "4_cWuTkFV4j5",
        "colab": {
          "base_uri": "https://localhost:8080/"
        },
        "outputId": "146e843d-e312-45c7-fb84-6230eb24a6db"
      },
      "execution_count": null,
      "outputs": [
        {
          "output_type": "stream",
          "name": "stdout",
          "text": [
            "Enter a number: 65\n",
            "The number is positive.\n"
          ]
        }
      ]
    },
    {
      "cell_type": "markdown",
      "source": [
        "###25. Write a Python script to determine the type of a character (uppercase, lowercase, or special) using elif statements."
      ],
      "metadata": {
        "id": "Da5C1ch2hwPI"
      }
    },
    {
      "cell_type": "code",
      "source": [
        "char = input(\"Enter a character: \")\n",
        "\n",
        "if char.isalpha():\n",
        "    if char.islower():\n",
        "        print(\"It's a lowercase letter.\")\n",
        "    else:\n",
        "        print(\"It's an uppercase letter.\")\n",
        "else:\n",
        "    print(\"It's a special character.\")"
      ],
      "metadata": {
        "colab": {
          "base_uri": "https://localhost:8080/"
        },
        "id": "_Ah9ataGhxYx",
        "outputId": "f42369fc-688b-4ca9-b89e-7bc486a12e4f"
      },
      "execution_count": null,
      "outputs": [
        {
          "output_type": "stream",
          "name": "stdout",
          "text": [
            "Enter a character: njdcna\n",
            "It's a lowercase letter.\n"
          ]
        }
      ]
    },
    {
      "cell_type": "markdown",
      "source": [
        "###26. Implement a program to calculate the discounted price based on different purchase amounts using elif statements."
      ],
      "metadata": {
        "id": "go-EZ7zthz5q"
      }
    },
    {
      "cell_type": "code",
      "source": [
        "purchase_amount = float(input(\"Enter the purchase amount: \"))\n",
        "\n",
        "if purchase_amount < 50:\n",
        "    discount = 0\n",
        "elif purchase_amount < 100:\n",
        "    discount = 10\n",
        "elif purchase_amount < 200:\n",
        "    discount = 20\n",
        "else:\n",
        "    discount = 30\n",
        "\n",
        "discounted_price = purchase_amount - (purchase_amount * discount / 100)\n",
        "print(\"Discounted price: $\", discounted_price)"
      ],
      "metadata": {
        "colab": {
          "base_uri": "https://localhost:8080/"
        },
        "id": "hl6mjOCXhzzr",
        "outputId": "b3eeb888-5c56-42bf-e611-5dc7df374296"
      },
      "execution_count": null,
      "outputs": [
        {
          "output_type": "stream",
          "name": "stdout",
          "text": [
            "Enter the purchase amount: 45\n",
            "Discounted price: $ 45.0\n"
          ]
        }
      ]
    },
    {
      "cell_type": "markdown",
      "source": [
        "###27. Develop a program to calculate the electricity bill based on different consumption slabs using elif statements."
      ],
      "metadata": {
        "id": "OOZqCWkHhztD"
      }
    },
    {
      "cell_type": "code",
      "source": [
        "units_consumed = int(input(\"Enter the number of units consumed: \"))\n",
        "\n",
        "if units_consumed <= 100:\n",
        "    bill = units_consumed * 1.5\n",
        "elif units_consumed <= 200:\n",
        "    bill = 100 * 1.5 + (units_consumed - 100) * 2.0\n",
        "else:\n",
        "    bill = 100 * 1.5 + 100 * 2.0 + (units_consumed - 200) * 3.0\n",
        "\n",
        "print(\"Electricity bill: $\", bill)"
      ],
      "metadata": {
        "colab": {
          "base_uri": "https://localhost:8080/"
        },
        "id": "Yb_C49CvhznC",
        "outputId": "fb4a9560-f0ad-4552-e6cc-ddc1d1cdc534"
      },
      "execution_count": null,
      "outputs": [
        {
          "output_type": "stream",
          "name": "stdout",
          "text": [
            "Enter the number of units consumed: 57\n",
            "Electricity bill: $ 85.5\n"
          ]
        }
      ]
    },
    {
      "cell_type": "markdown",
      "source": [
        "###28. Create a program to determine the type of quadrilateral based on its angles and sides using elif statements."
      ],
      "metadata": {
        "id": "dUunYlLOhzgi"
      }
    },
    {
      "cell_type": "code",
      "source": [
        "num_sides = int(input(\"Enter the number of sides of the quadrilateral: \"))\n",
        "angle_sum = int(input(\"Enter the sum of interior angles: \"))\n",
        "\n",
        "if num_sides == 4:\n",
        "    if angle_sum == 360:\n",
        "        print(\"It's a quadrilateral.\")\n",
        "    elif angle_sum == 360 and all(int(input(f\"Enter the measure of angle {i+1}: \")) == 90 for i in range(4)):\n",
        "        print(\"It's a rectangle.\")\n",
        "    elif all(int(input(f\"Enter the measure of angle {i+1}: \")) < 90 for i in range(4)):\n",
        "        print(\"It's a rhombus.\")\n",
        "    else:\n",
        "        print(\"It's a generic quadrilateral.\")\n",
        "else:\n",
        "    print(\"Not a quadrilateral.\")"
      ],
      "metadata": {
        "colab": {
          "base_uri": "https://localhost:8080/"
        },
        "id": "e0jqO1dAhzaM",
        "outputId": "a239359b-5c4e-44e9-fb95-8a3b26bf562a"
      },
      "execution_count": null,
      "outputs": [
        {
          "output_type": "stream",
          "name": "stdout",
          "text": [
            "Enter the number of sides of the quadrilateral: 42\n",
            "Enter the sum of interior angles: 32\n",
            "Not a quadrilateral.\n"
          ]
        }
      ]
    },
    {
      "cell_type": "markdown",
      "source": [
        "###29. Write a Python script to determine the season based on a user-provided month using elif statements."
      ],
      "metadata": {
        "id": "g9NgnhOihzUU"
      }
    },
    {
      "cell_type": "code",
      "source": [
        "month = int(input(\"Enter the month (1-12): \"))\n",
        "\n",
        "if 3 <= month <= 5:\n",
        "    season = \"Spring\"\n",
        "elif 6 <= month <= 8:\n",
        "    season = \"Summer\"\n",
        "elif 9 <= month <= 11:\n",
        "    season = \"Autumn\"\n",
        "else:\n",
        "    season = \"Winter\"\n",
        "\n",
        "print(\"The season is\", season)"
      ],
      "metadata": {
        "colab": {
          "base_uri": "https://localhost:8080/"
        },
        "id": "Bhm9oA6MhzN7",
        "outputId": "fc957f1c-83ad-4dc2-94e6-bb7175fd71e5"
      },
      "execution_count": null,
      "outputs": [
        {
          "output_type": "stream",
          "name": "stdout",
          "text": [
            "Enter the month (1-12): 54\n",
            "The season is Winter\n"
          ]
        }
      ]
    },
    {
      "cell_type": "markdown",
      "source": [
        "###30. Implement a program to determine the type of a year (leap or common) and month (30 or 31 days) using elif statements."
      ],
      "metadata": {
        "id": "7JxhiPnThzH0"
      }
    },
    {
      "cell_type": "code",
      "source": [
        "year = int(input(\"Enter the year: \"))\n",
        "month = int(input(\"Enter the month (1-12): \"))\n",
        "\n",
        "if (year % 4 == 0 and year % 100 != 0) or (year % 400 == 0):\n",
        "    is_leap_year = True\n",
        "else:\n",
        "    is_leap_year = False\n",
        "\n",
        "if month in {4, 6, 9, 11}:\n",
        "    days_in_month = 30\n",
        "elif month == 2:\n",
        "    if is_leap_year:\n",
        "        days_in_month = 29\n",
        "    else:\n",
        "        days_in_month = 28\n",
        "else:\n",
        "    days_in_month = 31\n",
        "\n",
        "if is_leap_year:\n",
        "    print(\"It's a leap year.\")\n",
        "else:\n",
        "    print(\"It's a common year.\")\n",
        "print(\"The month has\", days_in_month, \"days.\")"
      ],
      "metadata": {
        "colab": {
          "base_uri": "https://localhost:8080/"
        },
        "id": "AdxD63bRhzA0",
        "outputId": "778aa9e8-4d64-4142-ed29-6934eb9f1948"
      },
      "execution_count": null,
      "outputs": [
        {
          "output_type": "stream",
          "name": "stdout",
          "text": [
            "Enter the year: 2017\n",
            "Enter the month (1-12): 4\n",
            "It's a common year.\n",
            "The month has 30 days.\n"
          ]
        }
      ]
    },
    {
      "cell_type": "markdown",
      "source": [
        "#Basic Level:"
      ],
      "metadata": {
        "id": "v0KbHRhQhy6s"
      }
    },
    {
      "cell_type": "markdown",
      "source": [
        "###1. Write a Python program that checks if a given number is positive, negative, or zero."
      ],
      "metadata": {
        "id": "aHLTPFuRj7qN"
      }
    },
    {
      "cell_type": "code",
      "source": [
        "n = float(input(\"Enter the number: \"))\n",
        "\n",
        "if n > 0 :\n",
        "  print(\"The given number {} is positive\".format(n))\n",
        "elif n < 0 :\n",
        "  print(\"The given number {} is negative\".format(n))\n",
        "else :\n",
        "  print(\"The given number {} is zero\".format(n))"
      ],
      "metadata": {
        "id": "_oXaO-bKhyz3",
        "colab": {
          "base_uri": "https://localhost:8080/"
        },
        "outputId": "67e1c041-4f2b-4d35-ccd2-da7b370280fa"
      },
      "execution_count": null,
      "outputs": [
        {
          "output_type": "stream",
          "name": "stdout",
          "text": [
            "Enter the number: 0\n",
            "The given number 0 is zero\n"
          ]
        }
      ]
    },
    {
      "cell_type": "markdown",
      "source": [
        "###2. Create a program to determine if a person is eligible to vote based on their age."
      ],
      "metadata": {
        "id": "YZCzZfK6hytc"
      }
    },
    {
      "cell_type": "code",
      "source": [
        "age = int(input(\"Enter your age: \"))\n",
        "\n",
        "if age >= 18:\n",
        "    print(\"You are eligible to vote.\")\n",
        "else:\n",
        "    print(\"You are not eligible to vote.\")\n"
      ],
      "metadata": {
        "id": "ybibaqnnhynN",
        "colab": {
          "base_uri": "https://localhost:8080/"
        },
        "outputId": "a2832c8e-7420-45b4-8f3f-543f1d2d68e6"
      },
      "execution_count": null,
      "outputs": [
        {
          "output_type": "stream",
          "name": "stdout",
          "text": [
            "Enter your age: 26\n",
            "You are eligible to vote.\n"
          ]
        }
      ]
    },
    {
      "cell_type": "markdown",
      "source": [
        "###3. Write a program to find the maximum of two given numbers using conditional statements."
      ],
      "metadata": {
        "id": "9tJsE_U-hyg0"
      }
    },
    {
      "cell_type": "code",
      "source": [
        "num1 = float(input(\"Enter the first number: \"))\n",
        "num2 = float(input(\"Enter the second number: \"))\n",
        "\n",
        "if num1 > num2:\n",
        "    print(\"The maximum is\", num1)\n",
        "else:\n",
        "    print(\"The maximum is\", num2)"
      ],
      "metadata": {
        "id": "45tHENPuhyan",
        "colab": {
          "base_uri": "https://localhost:8080/"
        },
        "outputId": "1173ef58-162f-406f-b20f-cdcfd9760631"
      },
      "execution_count": null,
      "outputs": [
        {
          "output_type": "stream",
          "name": "stdout",
          "text": [
            "Enter the first number: 12\n",
            "Enter the second number: 32\n",
            "The maximum is 32.0\n"
          ]
        }
      ]
    },
    {
      "cell_type": "markdown",
      "source": [
        "###4. Develop a program that calculates the grade of a student based on their exam score."
      ],
      "metadata": {
        "id": "W7_grUKFhyT-"
      }
    },
    {
      "cell_type": "code",
      "source": [
        "score = float(input(\"Enter the exam score: \"))\n",
        "\n",
        "if score >= 90:\n",
        "    grade = \"A\"\n",
        "elif score >= 80:\n",
        "    grade = \"B\"\n",
        "elif score >= 70:\n",
        "    grade = \"C\"\n",
        "elif score >= 60:\n",
        "    grade = \"D\"\n",
        "else:\n",
        "    grade = \"F\"\n",
        "\n",
        "print(\"The grade is\", grade)"
      ],
      "metadata": {
        "id": "t5j1fv-ghyOm",
        "colab": {
          "base_uri": "https://localhost:8080/"
        },
        "outputId": "cbbb8b6e-a759-48fe-e621-3f6f78f7c307"
      },
      "execution_count": null,
      "outputs": [
        {
          "output_type": "stream",
          "name": "stdout",
          "text": [
            "Enter the exam score: 95\n",
            "The grade is A\n"
          ]
        }
      ]
    },
    {
      "cell_type": "markdown",
      "source": [
        "###5. Create a program that checks if a year is a leap year or not."
      ],
      "metadata": {
        "id": "MJsyROyThyIV"
      }
    },
    {
      "cell_type": "code",
      "source": [
        "year = int(input(\"Enter a year: \"))\n",
        "\n",
        "if (year % 4 == 0 and year % 100 != 0) or (year % 400 == 0):\n",
        "    print(\"Leap year\")\n",
        "else:\n",
        "    print(\"Not a leap year\")"
      ],
      "metadata": {
        "id": "qcH7QnXOhx9Q",
        "colab": {
          "base_uri": "https://localhost:8080/"
        },
        "outputId": "956aea61-d230-4444-afaa-5de7b869bb12"
      },
      "execution_count": null,
      "outputs": [
        {
          "output_type": "stream",
          "name": "stdout",
          "text": [
            "Enter a year: 2026\n",
            "Not a leap year\n"
          ]
        }
      ]
    },
    {
      "cell_type": "markdown",
      "source": [
        "###6. Write a program to classify a triangle based on its sides' lengths."
      ],
      "metadata": {
        "id": "YAPOTzNB8R8U"
      }
    },
    {
      "cell_type": "code",
      "source": [
        "a = float(input(\"Enter the length of side A: \"))\n",
        "b = float(input(\"Enter the length of side B: \"))\n",
        "c = float(input(\"Enter the length of side C: \"))\n",
        "\n",
        "if a == b == c:\n",
        "    print(\"Equilateral triangle\")\n",
        "elif a == b or b == c or a == c:\n",
        "    print(\"Isosceles triangle\")\n",
        "else:\n",
        "    print(\"Scalene triangle\")"
      ],
      "metadata": {
        "id": "b0KeDOnG8Swt",
        "colab": {
          "base_uri": "https://localhost:8080/"
        },
        "outputId": "ed1fccfa-24b2-44fb-abe5-5fc8006b6068"
      },
      "execution_count": null,
      "outputs": [
        {
          "output_type": "stream",
          "name": "stdout",
          "text": [
            "Enter the length of side A: 12\n",
            "Enter the length of side B: 25\n",
            "Enter the length of side C: 9\n",
            "Scalene triangle\n"
          ]
        }
      ]
    },
    {
      "cell_type": "markdown",
      "source": [
        "###7. Build a program that determines the largest of three given numbers."
      ],
      "metadata": {
        "id": "0h5oZWslC0wh"
      }
    },
    {
      "cell_type": "code",
      "source": [
        "num1 = float(input(\"Enter the first number: \"))\n",
        "num2 = float(input(\"Enter the second number: \"))\n",
        "num3 = float(input(\"Enter the third number: \"))\n",
        "\n",
        "max_num = max(num1, num2, num3)\n",
        "print(\"The largest number is\", max_num)"
      ],
      "metadata": {
        "colab": {
          "base_uri": "https://localhost:8080/"
        },
        "id": "7c-GpYzjCtRw",
        "outputId": "9923cc19-6c40-477c-a2b2-2d22aa211a7f"
      },
      "execution_count": null,
      "outputs": [
        {
          "output_type": "stream",
          "name": "stdout",
          "text": [
            "Enter the first number: 12\n",
            "Enter the second number: 32\n",
            "Enter the third number: 65\n",
            "The largest number is 65.0\n"
          ]
        }
      ]
    },
    {
      "cell_type": "markdown",
      "source": [
        "###8. Develop a program that checks whether a character is a vowel or a consonant."
      ],
      "metadata": {
        "id": "sd28BM2hC9lC"
      }
    },
    {
      "cell_type": "code",
      "source": [
        "char = input(\"Enter a character: \")\n",
        "\n",
        "if char in 'aeiouAEIOU':\n",
        "    print(\"Vowel\")\n",
        "else:\n",
        "    print(\"Consonant\")"
      ],
      "metadata": {
        "colab": {
          "base_uri": "https://localhost:8080/"
        },
        "id": "iPZ2DMRMC61R",
        "outputId": "67c97164-a6d4-4985-e704-4a0efa3c3ed6"
      },
      "execution_count": null,
      "outputs": [
        {
          "output_type": "stream",
          "name": "stdout",
          "text": [
            "Enter a character: f\n",
            "Consonant\n"
          ]
        }
      ]
    },
    {
      "cell_type": "markdown",
      "source": [
        "###9. Create a program to calculate the total cost of a shopping cart based on discounts."
      ],
      "metadata": {
        "id": "tfdUcL2zDFsB"
      }
    },
    {
      "cell_type": "code",
      "source": [
        "total_cost = 0\n",
        "\n",
        "while True:\n",
        "    item = input(\"Enter the item name (or 'done' to finish): \")\n",
        "    if item == 'done':\n",
        "        break\n",
        "    price = float(input(\"Enter the price: \"))\n",
        "    quantity = float(input(\"Enter the quantity: \"))\n",
        "    total_cost += price * quantity\n",
        "\n",
        "print(\"Total cost: $\", total_cost)"
      ],
      "metadata": {
        "colab": {
          "base_uri": "https://localhost:8080/"
        },
        "id": "Gv_Nrg1JDDU_",
        "outputId": "e6ec7c99-d071-4dee-bb92-2fa7873e63f7"
      },
      "execution_count": null,
      "outputs": [
        {
          "output_type": "stream",
          "name": "stdout",
          "text": [
            "Enter the item name (or 'done' to finish): good\n",
            "Enter the price: 354\n",
            "Enter the quantity: 7\n",
            "Enter the item name (or 'done' to finish): nice\n",
            "Enter the price: 652\n",
            "Enter the quantity: 12\n",
            "Enter the item name (or 'done' to finish): ksd\n",
            "Enter the price: 45\n",
            "Enter the quantity: 1.5\n",
            "Enter the item name (or 'done' to finish): done\n",
            "Total cost: $ 10369.5\n"
          ]
        }
      ]
    },
    {
      "cell_type": "markdown",
      "source": [
        "###10. Write a program that checks if a given number is even or odd."
      ],
      "metadata": {
        "id": "Ym3W0T-cDnTt"
      }
    },
    {
      "cell_type": "code",
      "source": [
        "number = int(input(\"Enter a number: \"))\n",
        "\n",
        "if number % 2 == 0:\n",
        "    print(\"Even\")\n",
        "else:\n",
        "    print(\"Odd\")"
      ],
      "metadata": {
        "colab": {
          "base_uri": "https://localhost:8080/"
        },
        "id": "IRsStoIHDJlT",
        "outputId": "8513a63f-1465-4989-e312-e88443148cdc"
      },
      "execution_count": null,
      "outputs": [
        {
          "output_type": "stream",
          "name": "stdout",
          "text": [
            "Enter a number: 12\n",
            "Even\n"
          ]
        }
      ]
    },
    {
      "cell_type": "markdown",
      "source": [
        "#Intermediate Level:"
      ],
      "metadata": {
        "id": "KpjXU4TCDvKG"
      }
    },
    {
      "cell_type": "markdown",
      "source": [
        "###11. Write a program that calculates the roots of a quadratic equation ."
      ],
      "metadata": {
        "id": "SzI9Tc9IDvAm"
      }
    },
    {
      "cell_type": "code",
      "source": [
        "import math\n",
        "\n",
        "# Input coefficients\n",
        "a = float(input(\"Enter the coefficient a: \"))\n",
        "b = float(input(\"Enter the coefficient b: \"))\n",
        "c = float(input(\"Enter the coefficient c: \"))\n",
        "\n",
        "# Calculate the discriminant\n",
        "D = b**2 - 4*a*c\n",
        "\n",
        "# Check the nature of the roots\n",
        "if D > 0:\n",
        "    # Two distinct real roots\n",
        "    x1 = (-b + math.sqrt(D)) / (2*a)\n",
        "    x2 = (-b - math.sqrt(D)) / (2*a)\n",
        "    print(f\"The roots are real and distinct: x1 = {x1}, x2 = {x2}\")\n",
        "elif D == 0:\n",
        "    # One real root\n",
        "    x1 = -b / (2*a)\n",
        "    print(f\"The root is real and repeated: x1 = {x1}\")\n",
        "else:\n",
        "    # Two complex roots\n",
        "    real_part = -b / (2*a)\n",
        "    imaginary_part = math.sqrt(abs(D)) / (2*a)\n",
        "    print(f\"The roots are complex: x1 = {real_part} + {imaginary_part}i, x2 = {real_part} - {imaginary_part}i\")\n"
      ],
      "metadata": {
        "colab": {
          "base_uri": "https://localhost:8080/"
        },
        "id": "COwOcp_mDtB0",
        "outputId": "63f08cf9-d3b9-4b03-9a4d-28ef1a3f8c79"
      },
      "execution_count": null,
      "outputs": [
        {
          "output_type": "stream",
          "name": "stdout",
          "text": [
            "Enter the coefficient a: 2\n",
            "Enter the coefficient b: 3\n",
            "Enter the coefficient c: 9\n",
            "The roots are complex: x1 = -0.75 + 1.984313483298443i, x2 = -0.75 - 1.984313483298443i\n"
          ]
        }
      ]
    },
    {
      "cell_type": "markdown",
      "source": [
        "###12. Create a program that determines the day of the week based on the day number (1-7)."
      ],
      "metadata": {
        "id": "4dGFxluaLI_Q"
      }
    },
    {
      "cell_type": "code",
      "source": [
        "day_number = int(input(\"Enter a day number (1-7): \"))\n",
        "\n",
        "if 1 <= day_number <= 7:\n",
        "    days = [\"Monday\", \"Tuesday\", \"Wednesday\", \"Thursday\", \"Friday\", \"Saturday\", \"Sunday\"]\n",
        "    print(\"The day is\", days[day_number - 1])\n",
        "else:\n",
        "    print(\"Invalid day number.\")"
      ],
      "metadata": {
        "colab": {
          "base_uri": "https://localhost:8080/"
        },
        "id": "KhTYeQ5CJrCY",
        "outputId": "58537b84-6100-49a5-d788-5c746062dfe0"
      },
      "execution_count": null,
      "outputs": [
        {
          "output_type": "stream",
          "name": "stdout",
          "text": [
            "Enter a day number (1-7): 6\n",
            "The day is Saturday\n"
          ]
        }
      ]
    },
    {
      "cell_type": "markdown",
      "source": [
        "###13. Develop a program that calculates the factorial of a given number using recursion."
      ],
      "metadata": {
        "id": "qMngxHQkLpDJ"
      }
    },
    {
      "cell_type": "code",
      "source": [
        "def factorial(n):\n",
        "    if n == 0:\n",
        "        return 1\n",
        "    else:\n",
        "        return n * factorial(n - 1)\n",
        "\n",
        "num = int(input(\"Enter a number: \"))\n",
        "result = factorial(num)\n",
        "print(\"Factorial:\", result)"
      ],
      "metadata": {
        "colab": {
          "base_uri": "https://localhost:8080/"
        },
        "id": "gDYoO0g9LkfI",
        "outputId": "bb575ea2-ef33-41f8-83a7-1c6c14c6bd00"
      },
      "execution_count": null,
      "outputs": [
        {
          "output_type": "stream",
          "name": "stdout",
          "text": [
            "Enter a number: 25\n",
            "Factorial: 15511210043330985984000000\n"
          ]
        }
      ]
    },
    {
      "cell_type": "markdown",
      "source": [
        "###14. Write a program to find the largest among three numbers without using the `max()` function."
      ],
      "metadata": {
        "id": "GWWqGtN2sjon"
      }
    },
    {
      "cell_type": "code",
      "source": [
        "num1 = float(input(\"Enter the first number: \"))\n",
        "num2 = float(input(\"Enter the second number: \"))\n",
        "num3 = float(input(\"Enter the third number: \"))\n",
        "\n",
        "if num1 >= num2 and num1 >= num3:\n",
        "    largest = num1\n",
        "elif num2 >= num1 and num2 >= num3:\n",
        "    largest = num2\n",
        "else:\n",
        "    largest = num3\n",
        "\n",
        "print(\"The largest number is\", largest)"
      ],
      "metadata": {
        "id": "F7fHGeGjLxL0",
        "colab": {
          "base_uri": "https://localhost:8080/"
        },
        "outputId": "ebb0b6dc-3ecf-4fc7-9825-af6261cda32c"
      },
      "execution_count": null,
      "outputs": [
        {
          "output_type": "stream",
          "name": "stdout",
          "text": [
            "Enter the first number: 25\n",
            "Enter the second number: 34\n",
            "Enter the third number: 75\n",
            "The largest number is 75.0\n"
          ]
        }
      ]
    },
    {
      "cell_type": "markdown",
      "source": [
        "###15. Create a program that simulates a basic ATM transaction menu."
      ],
      "metadata": {
        "id": "HFFbOONIskXv"
      }
    },
    {
      "cell_type": "code",
      "source": [
        "balance = 1000  # Initial balance\n",
        "\n",
        "while True:\n",
        "    print(\"ATM Menu:\")\n",
        "    print(\"1. Check Balance\")\n",
        "    print(\"2. Deposit\")\n",
        "    print(\"3. Withdraw\")\n",
        "    print(\"4. Exit\")\n",
        "\n",
        "    choice = int(input(\"Enter your choice: \"))\n",
        "\n",
        "    if choice == 1:\n",
        "        print(\"Balance: $\", balance)\n",
        "    elif choice == 2:\n",
        "        deposit = float(input(\"Enter the deposit amount: \"))\n",
        "        balance += deposit\n",
        "        print(\"Deposited $\", deposit)\n",
        "    elif choice == 3:\n",
        "        withdraw = float(input(\"Enter the withdrawal amount: \"))\n",
        "        if withdraw > balance:\n",
        "            print(\"Insufficient funds\")\n",
        "        else:\n",
        "            balance -= withdraw\n",
        "            print(\"Withdrawn $\", withdraw)\n",
        "    elif choice == 4:\n",
        "        break\n",
        "    else:\n",
        "        print(\"Invalid choice. Please select a valid option.\")\n"
      ],
      "metadata": {
        "id": "rmQE7YJ6skpW",
        "colab": {
          "base_uri": "https://localhost:8080/"
        },
        "outputId": "260effbb-bd20-4118-aca1-0baf8ac66a90"
      },
      "execution_count": 1,
      "outputs": [
        {
          "name": "stdout",
          "output_type": "stream",
          "text": [
            "ATM Menu:\n",
            "1. Check Balance\n",
            "2. Deposit\n",
            "3. Withdraw\n",
            "4. Exit\n",
            "Enter your choice: 3\n",
            "Enter the withdrawal amount: 2000\n",
            "Insufficient funds\n",
            "ATM Menu:\n",
            "1. Check Balance\n",
            "2. Deposit\n",
            "3. Withdraw\n",
            "4. Exit\n",
            "Enter your choice: 2\n",
            "Enter the deposit amount: 2000\n",
            "Deposited $ 2000.0\n",
            "ATM Menu:\n",
            "1. Check Balance\n",
            "2. Deposit\n",
            "3. Withdraw\n",
            "4. Exit\n",
            "Enter your choice: 1\n",
            "Balance: $ 3000.0\n",
            "ATM Menu:\n",
            "1. Check Balance\n",
            "2. Deposit\n",
            "3. Withdraw\n",
            "4. Exit\n",
            "Enter your choice: 4\n"
          ]
        }
      ]
    },
    {
      "cell_type": "markdown",
      "source": [
        "###16. Build a program that checks if a given string is a palindrome or not."
      ],
      "metadata": {
        "id": "1Q0cLIT7iyT0"
      }
    },
    {
      "cell_type": "code",
      "source": [
        "def is_palindrome(s):\n",
        "    s = s.lower().replace(\" \", \"\")  # Convert to lowercase and remove spaces\n",
        "    return s == s[::-1]\n",
        "\n",
        "text = input(\"Enter a string: \")\n",
        "if is_palindrome(text):\n",
        "    print(\"It's a palindrome.\")\n",
        "else:\n",
        "    print(\"It's not a palindrome.\")\n"
      ],
      "metadata": {
        "colab": {
          "base_uri": "https://localhost:8080/"
        },
        "id": "9ZywLwaKi4VV",
        "outputId": "1c463b57-0067-446e-e469-c771daa9ef0f"
      },
      "execution_count": 2,
      "outputs": [
        {
          "output_type": "stream",
          "name": "stdout",
          "text": [
            "Enter a string: tenet\n",
            "It's a palindrome.\n"
          ]
        }
      ]
    },
    {
      "cell_type": "markdown",
      "source": [
        "###17. Write a program that calculates the average of a list of numbers, excluding the smallest and largest values."
      ],
      "metadata": {
        "id": "ES6IEhkfi4HD"
      }
    },
    {
      "cell_type": "code",
      "source": [
        "numbers = [float(x) for x in input(\"Enter a list of numbers separated by spaces: \").split()]\n",
        "if len(numbers) < 3:\n",
        "    print(\"At least 3 numbers are required.\")\n",
        "else:\n",
        "    numbers.sort()\n",
        "    trimmed_numbers = numbers[1:-1]  # Exclude the smallest and largest values\n",
        "    average = sum(trimmed_numbers) / len(trimmed_numbers)\n",
        "    print(\"Average (excluding min and max):\", average)\n"
      ],
      "metadata": {
        "colab": {
          "base_uri": "https://localhost:8080/"
        },
        "id": "o9obPXf2i9sE",
        "outputId": "49853910-5f14-42d9-8333-c432378af97e"
      },
      "execution_count": 4,
      "outputs": [
        {
          "output_type": "stream",
          "name": "stdout",
          "text": [
            "Enter a list of numbers separated by spaces: 2 3 4 6 1 8 9\n",
            "Average (excluding min and max): 4.6\n"
          ]
        }
      ]
    },
    {
      "cell_type": "markdown",
      "source": [
        "###18. Develop a program that converts a given temperature from Celsius to Fahrenheit."
      ],
      "metadata": {
        "id": "n0X4FV-Ei9cf"
      }
    },
    {
      "cell_type": "code",
      "source": [
        "celsius = float(input(\"Enter the temperature in Celsius: \"))\n",
        "fahrenheit = (celsius * 9/5) + 32\n",
        "print(\"Temperature in Fahrenheit:\", fahrenheit)"
      ],
      "metadata": {
        "colab": {
          "base_uri": "https://localhost:8080/"
        },
        "id": "_nAUjefpi-Jp",
        "outputId": "0022beb2-bdfc-4438-c5a6-28bea1f23e1d"
      },
      "execution_count": 5,
      "outputs": [
        {
          "output_type": "stream",
          "name": "stdout",
          "text": [
            "Enter the temperature in Celsius: 45\n",
            "Temperature in Fahrenheit: 113.0\n"
          ]
        }
      ]
    },
    {
      "cell_type": "markdown",
      "source": [
        "###19. Create a program that simulates a basic calculator for addition, subtraction, multiplication, and division."
      ],
      "metadata": {
        "id": "ndLPsrJSiyNL"
      }
    },
    {
      "cell_type": "code",
      "source": [
        "while True:\n",
        "    print(\"Calculator Menu:\")\n",
        "    print(\"1. Addition\")\n",
        "    print(\"2. Subtraction\")\n",
        "    print(\"3. Multiplication\")\n",
        "    print(\"4. Division\")\n",
        "    print(\"5. Exit\")\n",
        "\n",
        "    choice = int(input(\"Enter your choice: \"))\n",
        "\n",
        "    if choice == 5:\n",
        "        break\n",
        "\n",
        "    num1 = float(input(\"Enter the first number: \"))\n",
        "    num2 = float(input(\"Enter the second number: \"))\n",
        "\n",
        "    if choice == 1:\n",
        "        result = num1 + num2\n",
        "    elif choice == 2:\n",
        "        result = num1 - num2\n",
        "    elif choice == 3:\n",
        "        result = num1 * num2\n",
        "    elif choice == 4:\n",
        "        if num2 == 0:\n",
        "            print(\"Division by zero is not allowed.\")\n",
        "            continue\n",
        "        result = num1 / num2\n",
        "    else:\n",
        "        print(\"Invalid choice. Please select a valid option.\")\n",
        "        continue\n",
        "\n",
        "    print(\"Result:\", result)"
      ],
      "metadata": {
        "colab": {
          "base_uri": "https://localhost:8080/"
        },
        "id": "-jqFcx8pieS5",
        "outputId": "c888f1ba-59d1-4e3c-a5f8-06470d22da28"
      },
      "execution_count": 6,
      "outputs": [
        {
          "name": "stdout",
          "output_type": "stream",
          "text": [
            "Calculator Menu:\n",
            "1. Addition\n",
            "2. Subtraction\n",
            "3. Multiplication\n",
            "4. Division\n",
            "5. Exit\n",
            "Enter your choice: 3\n",
            "Enter the first number: 45\n",
            "Enter the second number: 5\n",
            "Result: 225.0\n",
            "Calculator Menu:\n",
            "1. Addition\n",
            "2. Subtraction\n",
            "3. Multiplication\n",
            "4. Division\n",
            "5. Exit\n",
            "Enter your choice: 2\n",
            "Enter the first number: 495\n",
            "Enter the second number: 324\n",
            "Result: 171.0\n",
            "Calculator Menu:\n",
            "1. Addition\n",
            "2. Subtraction\n",
            "3. Multiplication\n",
            "4. Division\n",
            "5. Exit\n",
            "Enter your choice: 5\n"
          ]
        }
      ]
    },
    {
      "cell_type": "markdown",
      "source": [
        "###20. Write a program that determines the roots of a cubic equation using the Cardano formula."
      ],
      "metadata": {
        "id": "V_JBi67JjAIG"
      }
    },
    {
      "cell_type": "code",
      "source": [
        "import math\n",
        "\n",
        "# Coefficients of the cubic equation: ax^3 + bx^2 + cx + d = 0\n",
        "a = float(input(\"Enter the coefficient a: \"))\n",
        "b = float(input(\"Enter the coefficient b: \"))\n",
        "c = float(input(\"Enter the coefficient c: \"))\n",
        "d = float(input(\"Enter the coefficient d: \"))\n",
        "\n",
        "# Calculate some intermediate values\n",
        "delta0 = b**2 - 3*a*c\n",
        "delta1 = 2*b**3 - 9*a*b*c + 27*a**2*d\n",
        "C = ((delta1 + math.sqrt(delta1**2 - 4*delta0**3)) / 2)**(1/3)\n",
        "\n",
        "# Calculate the roots\n",
        "root1 = -(1 / (3*a)) * (b + C + delta0 / C)\n",
        "root2 = -(1 / (3*a)) * (b + C * complex(-0.5, math.sqrt(3) / 2) + delta0 / (C * complex(-0.5, math.sqrt(3) / 2)))\n",
        "root3 = -(1 / (3*a)) * (b + C * complex(-0.5, -math.sqrt(3) / 2) + delta0 / (C * complex(-0.5, -math.sqrt(3) / 2)))\n",
        "\n",
        "print(\"Real root:\", root1.real)\n",
        "print(\"Complex roots:\", root2, root3)"
      ],
      "metadata": {
        "colab": {
          "base_uri": "https://localhost:8080/"
        },
        "id": "vW4NRWnji__P",
        "outputId": "e83cebfe-ded5-4f85-8d6e-ae4c219c1ac3"
      },
      "execution_count": 9,
      "outputs": [
        {
          "output_type": "stream",
          "name": "stdout",
          "text": [
            "Enter the coefficient a: 3\n",
            "Enter the coefficient b: 15\n",
            "Enter the coefficient c: 12\n",
            "Enter the coefficient d: 32\n",
            "Real root: -4.6335531530789975\n",
            "Complex roots: (-0.18322342346050105-1.5061468169168455j) (-0.18322342346050105+1.5061468169168455j)\n"
          ]
        }
      ]
    },
    {
      "cell_type": "markdown",
      "source": [
        "#Advanced Level:"
      ],
      "metadata": {
        "id": "ViDUt1jZknuQ"
      }
    },
    {
      "cell_type": "markdown",
      "source": [
        "###21. Create a program that calculates the income tax based on the user's income and tax brackets."
      ],
      "metadata": {
        "id": "rdOt4zcMknq9"
      }
    },
    {
      "cell_type": "code",
      "source": [
        "income = float(input(\"enter your income\"))\n",
        "\n",
        "if income <= 10000:\n",
        "    tax = 0.05 * income\n",
        "elif income <= 50000:\n",
        "    tax = 500 + 0.1 * (income - 10000)\n",
        "else:\n",
        "    tax = 5000 + 0.2 * (income - 50000)\n",
        "\n",
        "print(\"Income tax: $\", tax)"
      ],
      "metadata": {
        "colab": {
          "base_uri": "https://localhost:8080/"
        },
        "id": "5LF3nmBykqJq",
        "outputId": "0fbce55e-9bc3-4b39-b324-847bdb75900b"
      },
      "execution_count": 11,
      "outputs": [
        {
          "output_type": "stream",
          "name": "stdout",
          "text": [
            "enter your income50000\n",
            "Income tax: $ 4500.0\n"
          ]
        }
      ]
    },
    {
      "cell_type": "markdown",
      "source": [
        "###22. Write a program that simulates a rock-paper-scissors game against the computer."
      ],
      "metadata": {
        "id": "wvgGsb26knjf"
      }
    },
    {
      "cell_type": "code",
      "source": [
        "import random\n",
        "\n",
        "choices = [\"rock\", \"paper\", \"scissors\"]\n",
        "computer_choice = random.choice(choices)\n",
        "\n",
        "user_choice = input(\"Enter your choice (rock, paper, scissors): \")\n",
        "\n",
        "print(\"Computer chose:\", computer_choice)\n",
        "print(\"You chose:\", user_choice)\n",
        "\n",
        "if user_choice == computer_choice:\n",
        "    print(\"It's a tie!\")\n",
        "elif (\n",
        "    (user_choice == \"rock\" and computer_choice == \"scissors\") or\n",
        "    (user_choice == \"paper\" and computer_choice == \"rock\") or\n",
        "    (user_choice == \"scissors\" and computer_choice == \"paper\")\n",
        "):\n",
        "    print(\"You win!\")\n",
        "else:\n",
        "    print(\"Computer wins!\")"
      ],
      "metadata": {
        "colab": {
          "base_uri": "https://localhost:8080/"
        },
        "id": "L--8h_ydkTjW",
        "outputId": "2ff7579e-41ba-412c-9f5a-099cad4e0b4c"
      },
      "execution_count": 13,
      "outputs": [
        {
          "output_type": "stream",
          "name": "stdout",
          "text": [
            "Enter your choice (rock, paper, scissors): rock\n",
            "Computer chose: rock\n",
            "You chose: rock\n",
            "It's a tie!\n"
          ]
        }
      ]
    },
    {
      "cell_type": "markdown",
      "source": [
        "###23. Develop a program that generates a random password based on user preferences (length, complexity)."
      ],
      "metadata": {
        "id": "5TY3auvYkv5o"
      }
    },
    {
      "cell_type": "code",
      "source": [
        "import random\n",
        "import string\n",
        "\n",
        "length = int(input(\"Enter the password length: \"))\n",
        "complexity = input(\"Enter complexity (easy, medium, hard): \")\n",
        "\n",
        "if complexity == \"easy\":\n",
        "    characters = string.ascii_letters\n",
        "elif complexity == \"medium\":\n",
        "    characters = string.ascii_letters + string.digits\n",
        "elif complexity == \"hard\":\n",
        "    characters = string.ascii_letters + string.digits + string.punctuation\n",
        "else:\n",
        "    print(\"Invalid complexity level.\")\n",
        "    exit()\n",
        "\n",
        "password = ''.join(random.choice(characters) for _ in range(length))\n",
        "print(\"Generated password:\", password)\n"
      ],
      "metadata": {
        "colab": {
          "base_uri": "https://localhost:8080/"
        },
        "id": "We54LjMDkvxD",
        "outputId": "8b5d2b81-c2c2-4177-c8e4-d023f29933d1"
      },
      "execution_count": 3,
      "outputs": [
        {
          "output_type": "stream",
          "name": "stdout",
          "text": [
            "Enter the password length: 10\n",
            "Enter complexity (easy, medium, hard): hard\n",
            "Generated password: u.\"{.HoX=X\n"
          ]
        }
      ]
    },
    {
      "cell_type": "markdown",
      "source": [
        "###24. Create a program that implements a simple text-based adventure game with branching scenarios."
      ],
      "metadata": {
        "id": "JqdTw_nmkvnJ"
      }
    },
    {
      "cell_type": "code",
      "source": [
        "print(\"You find yourself in a forest. There are two paths ahead.\")\n",
        "choice = input(\"Do you take the left path or the right path? (left/right): \")\n",
        "\n",
        "if choice == \"left\":\n",
        "    print(\"You encounter a river. Do you swim across or find a bridge?\")\n",
        "    choice = input(\"Swim or bridge? (swim/bridge): \")\n",
        "\n",
        "    if choice == \"swim\":\n",
        "        print(\"You made it across the river safely.\")\n",
        "    elif choice == \"bridge\":\n",
        "        print(\"You find a bridge and safely cross the river.\")\n",
        "    else:\n",
        "        print(\"Invalid choice. You're lost in the forest.\")\n",
        "else:\n",
        "    print(\"You come across a hidden treasure chest. You win the game!\")"
      ],
      "metadata": {
        "colab": {
          "base_uri": "https://localhost:8080/"
        },
        "id": "_c6yKFP8kvd1",
        "outputId": "e8617926-b060-4e72-d206-ab1456e284fa"
      },
      "execution_count": 4,
      "outputs": [
        {
          "output_type": "stream",
          "name": "stdout",
          "text": [
            "You find yourself in a forest. There are two paths ahead.\n",
            "Do you take the left path or the right path? (left/right): left\n",
            "You encounter a river. Do you swim across or find a bridge?\n",
            "Swim or bridge? (swim/bridge): swim\n",
            "You made it across the river safely.\n"
          ]
        }
      ]
    },
    {
      "cell_type": "markdown",
      "source": [
        "###25. Build a program that solves a linear equation for x, considering different cases."
      ],
      "metadata": {
        "id": "slM_ArzFkvTR"
      }
    },
    {
      "cell_type": "code",
      "source": [
        "# Linear equation: ax + b = 0\n",
        "a = float(input(\"Enter the coefficient 'a': \"))\n",
        "b = float(input(\"Enter the coefficient 'b': \"))\n",
        "\n",
        "if a == 0:\n",
        "    if b == 0:\n",
        "        print(\"Infinite solutions (0x = 0)\")\n",
        "    else:\n",
        "        print(\"No solution (0x = b, where b is not 0)\")\n",
        "else:\n",
        "    x = -b / a\n",
        "    print(\"Solution: x =\", x)\n"
      ],
      "metadata": {
        "colab": {
          "base_uri": "https://localhost:8080/"
        },
        "id": "AvXpiQl9kvJy",
        "outputId": "41aeed83-e6a3-45f9-d665-54af7fdf3151"
      },
      "execution_count": 5,
      "outputs": [
        {
          "output_type": "stream",
          "name": "stdout",
          "text": [
            "Enter the coefficient 'a': 12\n",
            "Enter the coefficient 'b': 6\n",
            "Solution: x = -0.5\n"
          ]
        }
      ]
    },
    {
      "cell_type": "markdown",
      "source": [
        "###26. Write a program that simulates a basic quiz game with multiple-choice questions and scoring."
      ],
      "metadata": {
        "id": "Dd3P8P6Xku-k"
      }
    },
    {
      "cell_type": "code",
      "source": [
        "quiz = [\n",
        "    {\n",
        "        \"question\": \"What is the capital of France?\",\n",
        "        \"options\": [\"Paris\", \"London\", \"Berlin\"],\n",
        "        \"correct_answer\": \"Paris\"\n",
        "    },\n",
        "    {\n",
        "        \"question\": \"Which planet is known as the Red Planet?\",\n",
        "        \"options\": [\"Earth\", \"Mars\", \"Venus\"],\n",
        "        \"correct_answer\": \"Mars\"\n",
        "    },\n",
        "    {\n",
        "        \"question\": \"What is the largest mammal on Earth?\",\n",
        "        \"options\": [\"Giraffe\", \"Elephant\", \"Blue Whale\"],\n",
        "        \"correct_answer\": \"Blue Whale\"\n",
        "    }\n",
        "]\n",
        "\n",
        "score = 0\n",
        "\n",
        "for question in quiz:\n",
        "    print(question[\"question\"])\n",
        "    for i, option in enumerate(question[\"options\"], start=1):\n",
        "        print(f\"{i}. {option}\")\n",
        "\n",
        "    user_answer = int(input(\"Enter the number of your answer: \"))\n",
        "    if question[\"options\"][user_answer - 1] == question[\"correct_answer\"]:\n",
        "        print(\"Correct!\\n\")\n",
        "        score += 1\n",
        "    else:\n",
        "        print(f\"Wrong. The correct answer is {question['correct_answer']}\\n\")\n",
        "\n",
        "print(f\"Your score: {score}/{len(quiz)}\")\n"
      ],
      "metadata": {
        "colab": {
          "base_uri": "https://localhost:8080/"
        },
        "id": "FVoH1ia3ku1Z",
        "outputId": "f0ecce30-8888-432b-deae-f2ff8835911b"
      },
      "execution_count": 7,
      "outputs": [
        {
          "output_type": "stream",
          "name": "stdout",
          "text": [
            "What is the capital of France?\n",
            "1. Paris\n",
            "2. London\n",
            "3. Berlin\n",
            "Enter the number of your answer: 1\n",
            "Correct!\n",
            "\n",
            "Which planet is known as the Red Planet?\n",
            "1. Earth\n",
            "2. Mars\n",
            "3. Venus\n",
            "Enter the number of your answer: 3\n",
            "Wrong. The correct answer is Mars\n",
            "\n",
            "What is the largest mammal on Earth?\n",
            "1. Giraffe\n",
            "2. Elephant\n",
            "3. Blue Whale\n",
            "Enter the number of your answer: 3\n",
            "Correct!\n",
            "\n",
            "Your score: 2/3\n"
          ]
        }
      ]
    },
    {
      "cell_type": "markdown",
      "source": [
        "###27. Develop a program that determines whether a given year is a prime number or not."
      ],
      "metadata": {
        "id": "ajcxbQiHkutV"
      }
    },
    {
      "cell_type": "code",
      "source": [
        "year = int(input(\"Enter a year: \"))\n",
        "\n",
        "if year > 1:\n",
        "    for i in range(2, year):\n",
        "        if (year % i) == 0:\n",
        "            print(\"Not a prime year\")\n",
        "            break\n",
        "    else:\n",
        "        print(\"Prime year\")\n",
        "else:\n",
        "    print(\"Not a prime year\")"
      ],
      "metadata": {
        "colab": {
          "base_uri": "https://localhost:8080/"
        },
        "id": "b1Wc4-i_kulv",
        "outputId": "4843ec3c-1619-471b-e2fb-794649c8c530"
      },
      "execution_count": 8,
      "outputs": [
        {
          "output_type": "stream",
          "name": "stdout",
          "text": [
            "Enter a year: 2023\n",
            "Not a prime year\n"
          ]
        }
      ]
    },
    {
      "cell_type": "markdown",
      "source": [
        "###28. Create a program that sorts three numbers in ascending order using conditional statements."
      ],
      "metadata": {
        "id": "P-9lr-cBkuea"
      }
    },
    {
      "cell_type": "code",
      "source": [
        "num1 = float(input(\"Enter the first number: \"))\n",
        "num2 = float(input(\"Enter the second number: \"))\n",
        "num3 = float(input(\"Enter the third number: \"))\n",
        "\n",
        "if num1 <= num2 and num1 <= num3:\n",
        "    smallest = num1\n",
        "    if num2 <= num3:\n",
        "        middle = num2\n",
        "        largest = num3\n",
        "    else:\n",
        "        middle = num3\n",
        "        largest = num2\n",
        "elif num2 <= num1 and num2 <= num3:\n",
        "    smallest = num2\n",
        "    if num1 <= num3:\n",
        "        middle = num1\n",
        "        largest = num3\n",
        "    else:\n",
        "        middle = num3\n",
        "        largest = num1\n",
        "else:\n",
        "    smallest = num3\n",
        "    if num1 <= num2:\n",
        "        middle = num1\n",
        "        largest = num2\n",
        "    else:\n",
        "        middle = num2\n",
        "        largest = num1\n",
        "\n",
        "print(\"Sorted numbers in ascending order:\", smallest, middle, largest)\n"
      ],
      "metadata": {
        "colab": {
          "base_uri": "https://localhost:8080/"
        },
        "id": "dB9Am2f7kuXc",
        "outputId": "73392042-fb2e-4470-d5b1-6083145a5764"
      },
      "execution_count": 9,
      "outputs": [
        {
          "output_type": "stream",
          "name": "stdout",
          "text": [
            "Enter the first number: 65\n",
            "Enter the second number: 48\n",
            "Enter the third number: 98\n",
            "Sorted numbers in ascending order: 48.0 65.0 98.0\n"
          ]
        }
      ]
    },
    {
      "cell_type": "markdown",
      "source": [
        "###30. Write a program that calculates the BMI (Body Mass Index) and provides health recommendations based\n"
      ],
      "metadata": {
        "id": "DINGs6q-kuPL"
      }
    },
    {
      "cell_type": "code",
      "source": [
        "weight = float(input(\"Enter your weight in kilograms: \"))\n",
        "height = float(input(\"Enter your height in meters: \"))\n",
        "\n",
        "bmi = weight / (height ** 2)\n",
        "print(\"Your BMI is:\", bmi)\n",
        "\n",
        "if bmi < 18.5:\n",
        "    print(\"Underweight\")\n",
        "    print(\"Recommendation: Consider gaining some weight.\")\n",
        "elif 18.5 <= bmi < 24.9:\n",
        "    print(\"Normal weight\")\n",
        "    print(\"Recommendation: Maintain a healthy lifestyle.\")\n",
        "elif 24.9 <= bmi < 29.9:\n",
        "    print(\"Overweight\")\n",
        "    print(\"Recommendation: Consider losing some weight.\")\n",
        "else:\n",
        "    print(\"Obese\")\n",
        "    print(\"Recommendation: Consult a healthcare professional for guidance.\")\n"
      ],
      "metadata": {
        "colab": {
          "base_uri": "https://localhost:8080/"
        },
        "id": "Boaga6mfRmfA",
        "outputId": "2293d9ad-b66d-4176-8bc8-7de1e428ab46"
      },
      "execution_count": 18,
      "outputs": [
        {
          "output_type": "stream",
          "name": "stdout",
          "text": [
            "Enter your weight in kilograms: 12\n",
            "Enter your height in meters: 3\n",
            "Your BMI is: 1.3333333333333333\n",
            "Underweight\n",
            "Recommendation: Consider gaining some weight.\n"
          ]
        }
      ]
    },
    {
      "cell_type": "markdown",
      "source": [
        "#Challenge Level:"
      ],
      "metadata": {
        "id": "ZEp2CRWUkt9E"
      }
    },
    {
      "cell_type": "markdown",
      "source": [
        "###31. Create a program that validates a password based on complexity rules (length, characters, etc.)."
      ],
      "metadata": {
        "id": "ZGjQNEnjRyw-"
      }
    },
    {
      "cell_type": "code",
      "source": [
        "import re\n",
        "\n",
        "def is_valid_password(password):\n",
        "    # Check if the password is at least 8 characters long\n",
        "    if len(password) < 8:\n",
        "        return False\n",
        "\n",
        "    # Check if the password contains at least one uppercase letter\n",
        "    if not re.search(r'[A-Z]', password):\n",
        "        return False\n",
        "\n",
        "    # Check if the password contains at least one lowercase letter\n",
        "    if not re.search(r'[a-z]', password):\n",
        "        return False\n",
        "\n",
        "    # Check if the password contains at least one digit\n",
        "    if not re.search(r'[0-9]', password):\n",
        "        return False\n",
        "\n",
        "    # Check if the password contains at least one special character\n",
        "    if not re.search(r'[!@#$%^&*(),.?\":{}|<>]', password):\n",
        "        return False\n",
        "\n",
        "    return True\n",
        "\n",
        "password = input(\"Enter a password: \")\n",
        "\n",
        "if is_valid_password(password):\n",
        "    print(\"Valid password\")\n",
        "else:\n",
        "    print(\"Invalid password\")"
      ],
      "metadata": {
        "colab": {
          "base_uri": "https://localhost:8080/"
        },
        "id": "68E5rbyxR1Lm",
        "outputId": "6792ac9a-27ca-4ad2-80d0-99c75fa6efa5"
      },
      "execution_count": 19,
      "outputs": [
        {
          "output_type": "stream",
          "name": "stdout",
          "text": [
            "Enter a password: najbsd\n",
            "Invalid password\n"
          ]
        }
      ]
    },
    {
      "cell_type": "markdown",
      "source": [
        "###32. Develop a program that performs matrix addition and subtraction based on user input."
      ],
      "metadata": {
        "id": "9EHly7EDRyoo"
      }
    },
    {
      "cell_type": "code",
      "source": [
        "import numpy as np\n",
        "\n",
        "# Input matrix A\n",
        "rows = int(input(\"Enter the number of rows: \"))\n",
        "cols = int(input(\"Enter the number of columns: \"))\n",
        "\n",
        "A = []\n",
        "for i in range(rows):\n",
        "    row = [int(x) for x in input(f\"Enter values for row {i + 1} (separated by spaces): \").split()]\n",
        "    A.append(row)\n",
        "\n",
        "# Input matrix B\n",
        "B = []\n",
        "for i in range(rows):\n",
        "    row = [int(x) for x in input(f\"Enter values for row {i + 1} of matrix B (separated by spaces): \").split()]\n",
        "    B.append(row)\n",
        "\n",
        "# Matrix addition\n",
        "result_addition = np.add(A, B)\n",
        "\n",
        "# Matrix subtraction\n",
        "result_subtraction = np.subtract(A, B)\n",
        "\n",
        "print(\"Matrix A:\")\n",
        "print(np.array(A))\n",
        "\n",
        "print(\"Matrix B:\")\n",
        "print(np.array(B))\n",
        "\n",
        "print(\"Matrix A + Matrix B:\")\n",
        "print(result_addition)\n",
        "\n",
        "print(\"Matrix A - Matrix B:\")\n",
        "print(result_subtraction)"
      ],
      "metadata": {
        "colab": {
          "base_uri": "https://localhost:8080/"
        },
        "id": "jQ6jj5Cikt14",
        "outputId": "60327f1d-b6f9-47a4-ddb6-a920d4decdf0"
      },
      "execution_count": 22,
      "outputs": [
        {
          "output_type": "stream",
          "name": "stdout",
          "text": [
            "Enter the number of rows: 2\n",
            "Enter the number of columns: 3\n",
            "Enter values for row 1 (separated by spaces): 2 3 5\n",
            "Enter values for row 2 (separated by spaces): 2 3 0\n",
            "Enter values for row 1 of matrix B (separated by spaces): 1 6 8\n",
            "Enter values for row 2 of matrix B (separated by spaces): 5 4 3\n",
            "Matrix A:\n",
            "[[2 3 5]\n",
            " [2 3 0]]\n",
            "Matrix B:\n",
            "[[1 6 8]\n",
            " [5 4 3]]\n",
            "Matrix A + Matrix B:\n",
            "[[ 3  9 13]\n",
            " [ 7  7  3]]\n",
            "Matrix A - Matrix B:\n",
            "[[ 1 -3 -3]\n",
            " [-3 -1 -3]]\n"
          ]
        }
      ]
    },
    {
      "cell_type": "markdown",
      "source": [
        "###33. Write a program that calculates the greatest common divisor (GCD) of two numbers using the Euclidean algorithm."
      ],
      "metadata": {
        "id": "ROZMH0Hjkts9"
      }
    },
    {
      "cell_type": "code",
      "source": [
        "def gcd(a, b):\n",
        "    while b:\n",
        "        a, b = b, a % b\n",
        "    return a\n",
        "\n",
        "num1 = int(input(\"Enter the first number: \"))\n",
        "num2 = int(input(\"Enter the second number: \"))\n",
        "\n",
        "result = gcd(num1, num2)\n",
        "print(\"GCD:\", result)"
      ],
      "metadata": {
        "colab": {
          "base_uri": "https://localhost:8080/"
        },
        "id": "1jZ2dPq2ktks",
        "outputId": "b499588c-bac7-4229-a467-ef9932d76a2f"
      },
      "execution_count": 23,
      "outputs": [
        {
          "output_type": "stream",
          "name": "stdout",
          "text": [
            "Enter the first number: 23\n",
            "Enter the second number: 22\n",
            "GCD: 1\n"
          ]
        }
      ]
    }
  ]
}
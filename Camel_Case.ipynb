{
  "nbformat": 4,
  "nbformat_minor": 0,
  "metadata": {
    "colab": {
      "provenance": []
    },
    "kernelspec": {
      "name": "python3",
      "display_name": "Python 3"
    },
    "language_info": {
      "name": "python"
    }
  },
  "cells": [
    {
      "cell_type": "code",
      "execution_count": 3,
      "metadata": {
        "colab": {
          "base_uri": "https://localhost:8080/"
        },
        "id": "pCvHmRFSmLhO",
        "outputId": "5f75eac6-eef9-4032-f353-392aad329ddf"
      },
      "outputs": [
        {
          "output_type": "stream",
          "name": "stdout",
          "text": [
            "saveChangesInTheEditor\n",
            "5\n"
          ]
        }
      ],
      "source": [
        "import math\n",
        "import os\n",
        "import random\n",
        "import re\n",
        "import sys\n",
        "\n",
        "\n",
        "# The function is expected to return an INTEGER.\n",
        "# The function accepts STRING s as parameter.\n",
        "#\n",
        "\n",
        "def camelcase(s):\n",
        "  # Initialize a variable to count words\n",
        "    word_count = 1  # Start with 1 because the first word is always lowercase\n",
        "\n",
        "    # Iterate through the characters in the string\n",
        "    for char in s:\n",
        "        # Check if the character is an uppercase letter\n",
        "        if char.isupper():\n",
        "            word_count += 1  # If it is uppercase, it's the start of a new word\n",
        "\n",
        "    return word_count\n",
        "    # Write your code here\n",
        "\n",
        "if __name__ == '__main__':\n",
        "\n",
        "    s = input()\n",
        "\n",
        "    result = camelcase(s)\n",
        "\n",
        "    print(result)\n"
      ]
    },
    {
      "cell_type": "code",
      "source": [],
      "metadata": {
        "id": "Xg1OIfXAORdl"
      },
      "execution_count": null,
      "outputs": []
    },
    {
      "cell_type": "code",
      "source": [],
      "metadata": {
        "id": "jB9-47-APkuH"
      },
      "execution_count": null,
      "outputs": []
    }
  ]
}
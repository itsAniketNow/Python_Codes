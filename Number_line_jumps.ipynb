{
  "nbformat": 4,
  "nbformat_minor": 0,
  "metadata": {
    "colab": {
      "provenance": []
    },
    "kernelspec": {
      "name": "python3",
      "display_name": "Python 3"
    },
    "language_info": {
      "name": "python"
    }
  },
  "cells": [
    {
      "cell_type": "code",
      "execution_count": 3,
      "metadata": {
        "colab": {
          "base_uri": "https://localhost:8080/"
        },
        "id": "pCvHmRFSmLhO",
        "outputId": "f3a152b7-49bd-46bf-be5d-2e156cb10391"
      },
      "outputs": [
        {
          "output_type": "stream",
          "name": "stdout",
          "text": [
            "0 3 2 4\n",
            "NO\n"
          ]
        }
      ],
      "source": [
        "import math\n",
        "import os\n",
        "import random\n",
        "import re\n",
        "import sys\n",
        "\n",
        "\n",
        "# The function is expected to return a STRING.\n",
        "# The function accepts following parameters:\n",
        "#  1. INTEGER x1\n",
        "#  2. INTEGER v1\n",
        "#  3. INTEGER x2\n",
        "#  4. INTEGER v2\n",
        "\n",
        "def kangaroo(x1, v1, x2, v2):\n",
        "    # Check if the denominator is zero, which would result in a division by zero error.\n",
        "    if v1 - v2 == 0:\n",
        "        return \"NO\"\n",
        "\n",
        "    n = (x2 - x1) / (v1 - v2)\n",
        "\n",
        "    # Check if n is a positive integer\n",
        "    if n.is_integer() and n >= 0:\n",
        "        return \"YES\"\n",
        "    else:\n",
        "        return \"NO\"\n",
        "\n",
        "    # Write your code here\n",
        "\n",
        "if __name__ == '__main__':\n",
        "\n",
        "    first_multiple_input = input().rstrip().split()\n",
        "\n",
        "    x1 = int(first_multiple_input[0])\n",
        "\n",
        "    v1 = int(first_multiple_input[1])\n",
        "\n",
        "    x2 = int(first_multiple_input[2])\n",
        "\n",
        "    v2 = int(first_multiple_input[3])\n",
        "\n",
        "    result = kangaroo(x1, v1, x2, v2)\n",
        "\n",
        "    print(result)"
      ]
    },
    {
      "cell_type": "code",
      "source": [],
      "metadata": {
        "id": "z600JI6kq_Z6"
      },
      "execution_count": null,
      "outputs": []
    }
  ]
}
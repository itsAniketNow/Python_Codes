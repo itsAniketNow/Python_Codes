{
  "nbformat": 4,
  "nbformat_minor": 0,
  "metadata": {
    "colab": {
      "provenance": []
    },
    "kernelspec": {
      "name": "python3",
      "display_name": "Python 3"
    },
    "language_info": {
      "name": "python"
    }
  },
  "cells": [
    {
      "cell_type": "code",
      "execution_count": 18,
      "metadata": {
        "colab": {
          "base_uri": "https://localhost:8080/"
        },
        "id": "pCvHmRFSmLhO",
        "outputId": "f049185b-de6f-41ac-d67a-fb2892b3b3cb"
      },
      "outputs": [
        {
          "output_type": "stream",
          "name": "stdout",
          "text": [
            "2\n",
            "1 2 3\n",
            "Cat B\n",
            "3 2 1\n",
            "Cat B\n"
          ]
        }
      ],
      "source": [
        "import math\n",
        "import os\n",
        "import random\n",
        "import re\n",
        "import sys\n",
        "\n",
        "# Complete the catAndMouse function below.\n",
        "def catAndMouse(x, y, z):\n",
        "    distance_cat_a = abs(x - z)\n",
        "    distance_cat_b = abs(y - z)\n",
        "\n",
        "    if distance_cat_a < distance_cat_b:\n",
        "        return \"Cat A\"\n",
        "    elif distance_cat_b < distance_cat_a:\n",
        "        return \"Cat B\"\n",
        "    else:\n",
        "        return \"Mouse C\"\n",
        "\n",
        "if __name__ == '__main__':\n",
        "\n",
        "    q = int(input())\n",
        "\n",
        "    for q_itr in range(q):\n",
        "        xyz = input().split()\n",
        "\n",
        "        x = int(xyz[0])\n",
        "\n",
        "        y = int(xyz[1])\n",
        "\n",
        "        z = int(xyz[2])\n",
        "\n",
        "        result = catAndMouse(x, y, z)\n",
        "\n",
        "        print(result)"
      ]
    },
    {
      "cell_type": "code",
      "source": [],
      "metadata": {
        "id": "jB9-47-APkuH"
      },
      "execution_count": null,
      "outputs": []
    }
  ]
}
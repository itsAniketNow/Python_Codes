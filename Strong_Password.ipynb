{
  "nbformat": 4,
  "nbformat_minor": 0,
  "metadata": {
    "colab": {
      "provenance": []
    },
    "kernelspec": {
      "name": "python3",
      "display_name": "Python 3"
    },
    "language_info": {
      "name": "python"
    }
  },
  "cells": [
    {
      "cell_type": "code",
      "execution_count": 9,
      "metadata": {
        "colab": {
          "base_uri": "https://localhost:8080/"
        },
        "id": "pCvHmRFSmLhO",
        "outputId": "ad473622-1df5-4ab3-c91d-2711875d87aa"
      },
      "outputs": [
        {
          "output_type": "stream",
          "name": "stdout",
          "text": [
            "3\n",
            "Ab1\n",
            "3\n"
          ]
        }
      ],
      "source": [
        "import math\n",
        "import os\n",
        "import random\n",
        "import re\n",
        "import sys\n",
        "\n",
        "\n",
        "# The function is expected to return an INTEGER.\n",
        "# The function accepts following parameters:\n",
        "#  1. INTEGER n\n",
        "#  2. STRING password\n",
        "#\n",
        "\n",
        "def minimumNumber(n, password):\n",
        "    # Initialize flags for each password requirement\n",
        "    has_digit = False\n",
        "    has_lower = False\n",
        "    has_upper = False\n",
        "    has_special = False\n",
        "\n",
        "    special_characters = \"!@#$%^&*()-+\"\n",
        "\n",
        "    # Iterate through the password to check for each requirement\n",
        "    for char in password:\n",
        "        if char.isdigit():\n",
        "            has_digit = True\n",
        "        if char.islower():\n",
        "            has_lower = True\n",
        "        if char.isupper():\n",
        "            has_upper = True\n",
        "        if char in special_characters:\n",
        "            has_special = True\n",
        "\n",
        "    # Calculate the number of characters to add to meet the requirements\n",
        "    chars_to_add = 0\n",
        "\n",
        "    if not has_digit:\n",
        "        chars_to_add += 1\n",
        "    if not has_lower:\n",
        "        chars_to_add += 1\n",
        "    if not has_upper:\n",
        "        chars_to_add += 1\n",
        "    if not has_special:\n",
        "        chars_to_add += 1\n",
        "\n",
        "    # Ensure the password length is at least 6\n",
        "    if n + chars_to_add < 6:\n",
        "        chars_to_add += 6 - (n + chars_to_add)\n",
        "\n",
        "    return chars_to_add\n",
        "\n",
        "\n",
        "\n",
        "if __name__ == '__main__':\n",
        "\n",
        "    n = int(input().strip())\n",
        "\n",
        "    password = input()\n",
        "\n",
        "    answer = minimumNumber(n, password)\n",
        "\n",
        "    print(answer)"
      ]
    },
    {
      "cell_type": "code",
      "source": [],
      "metadata": {
        "id": "Xg1OIfXAORdl"
      },
      "execution_count": null,
      "outputs": []
    },
    {
      "cell_type": "code",
      "source": [],
      "metadata": {
        "id": "jB9-47-APkuH"
      },
      "execution_count": null,
      "outputs": []
    }
  ]
}
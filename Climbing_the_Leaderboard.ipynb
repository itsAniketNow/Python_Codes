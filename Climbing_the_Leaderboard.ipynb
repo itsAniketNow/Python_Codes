{
  "nbformat": 4,
  "nbformat_minor": 0,
  "metadata": {
    "colab": {
      "provenance": []
    },
    "kernelspec": {
      "name": "python3",
      "display_name": "Python 3"
    },
    "language_info": {
      "name": "python"
    }
  },
  "cells": [
    {
      "cell_type": "code",
      "execution_count": 23,
      "metadata": {
        "id": "pCvHmRFSmLhO",
        "colab": {
          "base_uri": "https://localhost:8080/"
        },
        "outputId": "c912260c-3c55-45bf-dfd2-e7d30b0a37cc"
      },
      "outputs": [
        {
          "output_type": "stream",
          "name": "stdout",
          "text": [
            "7\n",
            "100 100 50 40 40 20 10\n",
            "4\n",
            "5 25 50 120\n",
            "[6, 4, 2, 1]\n"
          ]
        }
      ],
      "source": [
        "import math\n",
        "import os\n",
        "import random\n",
        "import re\n",
        "import sys\n",
        "\n",
        "\n",
        "# The function is expected to return an INTEGER_ARRAY.\n",
        "# The function accepts following parameters:\n",
        "#  1. INTEGER_ARRAY ranked\n",
        "#  2. INTEGER_ARRAY player\n",
        "#\n",
        "\n",
        "def climbingLeaderboard(ranked, player):\n",
        "  unique_ranked = list(reversed(sorted(set(ranked))))\n",
        "\n",
        "  player_ranks = []\n",
        "\n",
        "  j = len(unique_ranked) - 1  # Start from the last rank\n",
        "  for player_score in player:\n",
        "      while j >= 0 and player_score >= unique_ranked[j]:\n",
        "          j -= 1\n",
        "      if j == -1:\n",
        "          player_ranks.append(1)\n",
        "      else:\n",
        "          player_ranks.append(j + 2)\n",
        "\n",
        "  return player_ranks\n",
        "\n",
        "\n",
        "\n",
        "if __name__ == '__main__':\n",
        "\n",
        "    ranked_count = int(input().strip())\n",
        "\n",
        "    ranked = list(map(int, input().rstrip().split()))\n",
        "\n",
        "    player_count = int(input().strip())\n",
        "\n",
        "    player = list(map(int, input().rstrip().split()))\n",
        "\n",
        "    result = climbingLeaderboard(ranked, player)\n",
        "    print(result)"
      ]
    },
    {
      "cell_type": "code",
      "source": [
        "\n"
      ],
      "metadata": {
        "id": "MOPak6qEifE3"
      },
      "execution_count": null,
      "outputs": []
    }
  ]
}
{
  "nbformat": 4,
  "nbformat_minor": 0,
  "metadata": {
    "colab": {
      "provenance": []
    },
    "kernelspec": {
      "name": "python3",
      "display_name": "Python 3"
    },
    "language_info": {
      "name": "python"
    }
  },
  "cells": [
    {
      "cell_type": "code",
      "execution_count": 6,
      "metadata": {
        "id": "pCvHmRFSmLhO",
        "colab": {
          "base_uri": "https://localhost:8080/"
        },
        "outputId": "cc7fb0e4-9e91-4211-b382-8d30197d5413"
      },
      "outputs": [
        {
          "output_type": "stream",
          "name": "stdout",
          "text": [
            "148 3\n",
            "3\n"
          ]
        }
      ],
      "source": [
        "import math\n",
        "import os\n",
        "import random\n",
        "import re\n",
        "import sys\n",
        "\n",
        "\n",
        "# The function is expected to return an INTEGER.\n",
        "# The function accepts following parameters:\n",
        "#  1. STRING n\n",
        "#  2. INTEGER k\n",
        "#\n",
        "\n",
        "def superDigit(n, k):\n",
        "  # Calculate the super digit of the initial number n\n",
        "  def calc_super_digit(number):\n",
        "      if len(number) == 1:\n",
        "          return int(number)\n",
        "      else:\n",
        "          digit_sum = sum(map(int, number))\n",
        "          return calc_super_digit(str(digit_sum))\n",
        "\n",
        "  initial_super_digit = calc_super_digit(n)\n",
        "  repeated_super_digit = calc_super_digit(str(initial_super_digit * k))\n",
        "  return repeated_super_digit\n",
        "\n",
        "\n",
        "\n",
        "if __name__ == '__main__':\n",
        "\n",
        "    first_multiple_input = input().rstrip().split()\n",
        "\n",
        "    n = first_multiple_input[0]\n",
        "\n",
        "    k = int(first_multiple_input[1])\n",
        "\n",
        "    result = superDigit(n, k)\n",
        "\n",
        "    print(result)"
      ]
    },
    {
      "cell_type": "code",
      "source": [],
      "metadata": {
        "id": "ISo2ixEMzebB"
      },
      "execution_count": null,
      "outputs": []
    }
  ]
}
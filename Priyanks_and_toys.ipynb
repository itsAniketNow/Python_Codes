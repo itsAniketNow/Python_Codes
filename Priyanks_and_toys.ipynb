{
  "nbformat": 4,
  "nbformat_minor": 0,
  "metadata": {
    "colab": {
      "provenance": []
    },
    "kernelspec": {
      "name": "python3",
      "display_name": "Python 3"
    },
    "language_info": {
      "name": "python"
    }
  },
  "cells": [
    {
      "cell_type": "code",
      "execution_count": 27,
      "metadata": {
        "colab": {
          "base_uri": "https://localhost:8080/"
        },
        "id": "pCvHmRFSmLhO",
        "outputId": "0e8cdfa7-9f58-4511-cd1d-1ff8625f6398"
      },
      "outputs": [
        {
          "output_type": "stream",
          "name": "stdout",
          "text": [
            "8\n",
            "1 2 3 21 7 12 14 21\n",
            "4\n"
          ]
        }
      ],
      "source": [
        "import math\n",
        "import os\n",
        "import random\n",
        "import re\n",
        "import sys\n",
        "\n",
        "# The function is expected to return an INTEGER.\n",
        "# The function accepts INTEGER_ARRAY w as parameter.\n",
        "#\n",
        "\n",
        "def toys(w):\n",
        "  w.sort()  # Sort the weights in ascending order\n",
        "  containers = 0  # Initialize the number of containers\n",
        "\n",
        "  i = 0\n",
        "  while i < len(w):\n",
        "      min_weight = w[i]  # Minimum weight in the current container\n",
        "      containers += 1  # Add a new container\n",
        "\n",
        "      while i < len(w) and w[i] <= min_weight + 4:\n",
        "          i += 1  # Add items to the current container within the weight limit\n",
        "\n",
        "  return containers\n",
        "\n",
        "if __name__ == '__main__':\n",
        "\n",
        "    n = int(input().strip())\n",
        "\n",
        "    w = list(map(int, input().rstrip().split()))\n",
        "\n",
        "    result = toys(w)\n",
        "\n",
        "    print(result)"
      ]
    },
    {
      "cell_type": "code",
      "source": [],
      "metadata": {
        "id": "pTu5UmgWubqR"
      },
      "execution_count": null,
      "outputs": []
    }
  ]
}
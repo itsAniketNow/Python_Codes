{
  "nbformat": 4,
  "nbformat_minor": 0,
  "metadata": {
    "colab": {
      "provenance": []
    },
    "kernelspec": {
      "name": "python3",
      "display_name": "Python 3"
    },
    "language_info": {
      "name": "python"
    }
  },
  "cells": [
    {
      "cell_type": "code",
      "execution_count": 1,
      "metadata": {
        "colab": {
          "base_uri": "https://localhost:8080/"
        },
        "id": "pCvHmRFSmLhO",
        "outputId": "f6253843-370c-4bba-eda5-8ca924299d58"
      },
      "outputs": [
        {
          "output_type": "stream",
          "name": "stdout",
          "text": [
            "6\n",
            "-4 3 -9 0 4 1\n",
            "0.500000\n",
            "0.333333\n",
            "0.166667\n"
          ]
        }
      ],
      "source": [
        "import math\n",
        "import os\n",
        "import random\n",
        "import re\n",
        "import sys\n",
        "\n",
        "#\n",
        "# Complete the 'plusMinus' function below.\n",
        "#\n",
        "# The function accepts INTEGER_ARRAY arr as parameter.\n",
        "#\n",
        "\n",
        "def plusMinus(arr):\n",
        "    total_elements = len(arr)\n",
        "    positive_count = 0\n",
        "    negative_count = 0\n",
        "    zero_count = 0\n",
        "\n",
        "    for number in arr:\n",
        "        if number > 0:\n",
        "            positive_count += 1\n",
        "        elif number < 0:\n",
        "            negative_count += 1\n",
        "        else:\n",
        "            zero_count += 1\n",
        "\n",
        "    positive_ratio = positive_count / total_elements\n",
        "    negative_ratio = negative_count / total_elements\n",
        "    zero_ratio = zero_count / total_elements\n",
        "\n",
        "    print(f'{positive_ratio:.6f}')\n",
        "    print(f'{negative_ratio:.6f}')\n",
        "    print(f'{zero_ratio:.6f}')\n",
        "    # Write your code here\n",
        "\n",
        "if __name__ == '__main__':\n",
        "    n = int(input().strip())\n",
        "\n",
        "    arr = list(map(int, input().rstrip().split()))\n",
        "\n",
        "    plusMinus(arr)"
      ]
    },
    {
      "cell_type": "code",
      "source": [],
      "metadata": {
        "id": "z600JI6kq_Z6"
      },
      "execution_count": null,
      "outputs": []
    }
  ]
}
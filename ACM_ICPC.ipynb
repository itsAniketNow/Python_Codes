{
  "nbformat": 4,
  "nbformat_minor": 0,
  "metadata": {
    "colab": {
      "provenance": []
    },
    "kernelspec": {
      "name": "python3",
      "display_name": "Python 3"
    },
    "language_info": {
      "name": "python"
    }
  },
  "cells": [
    {
      "cell_type": "code",
      "execution_count": 25,
      "metadata": {
        "colab": {
          "base_uri": "https://localhost:8080/",
          "height": 0
        },
        "id": "pCvHmRFSmLhO",
        "outputId": "f7e3862a-c7dd-46dc-8c56-b9fd851f6856"
      },
      "outputs": [
        {
          "output_type": "stream",
          "name": "stdout",
          "text": [
            "4 5\n",
            "10101\n",
            "11100\n",
            "11010\n",
            "00101\n",
            "[5, 2]\n"
          ]
        }
      ],
      "source": [
        "import math\n",
        "import os\n",
        "import random\n",
        "import re\n",
        "import sys\n",
        "\n",
        "\n",
        "# The function is expected to return an INTEGER_ARRAY.\n",
        "# The function accepts STRING_ARRAY topic as parameter.\n",
        "#\n",
        "\n",
        "def acmTeam(topic):\n",
        "    n = len(topic)  # Number of people\n",
        "    m = len(topic[0])  # Number of topics\n",
        "\n",
        "    max_topics = 0  # Maximum number of topics known by a team\n",
        "    max_teams = 0  # Number of teams that can achieve the maximum\n",
        "\n",
        "    for i in range(n):\n",
        "        for j in range(i + 1, n):\n",
        "            current_topics = bin(int(topic[i], 2) | int(topic[j], 2)).count('1')\n",
        "\n",
        "            if current_topics > max_topics:\n",
        "                max_topics = current_topics\n",
        "                max_teams = 1\n",
        "            elif current_topics == max_topics:\n",
        "                max_teams += 1\n",
        "\n",
        "    return [max_topics, max_teams]\n",
        "\n",
        "\n",
        "if __name__ == '__main__':\n",
        "\n",
        "    first_multiple_input = input().rstrip().split()\n",
        "\n",
        "    n = int(first_multiple_input[0])\n",
        "\n",
        "    m = int(first_multiple_input[1])\n",
        "\n",
        "    topic = []\n",
        "\n",
        "    for _ in range(n):\n",
        "        topic_item = input()\n",
        "        topic.append(topic_item)\n",
        "\n",
        "    result = acmTeam(topic)\n",
        "\n",
        "    print(result)"
      ]
    },
    {
      "cell_type": "code",
      "source": [],
      "metadata": {
        "id": "DtIRxNH8zq0y"
      },
      "execution_count": null,
      "outputs": []
    }
  ]
}
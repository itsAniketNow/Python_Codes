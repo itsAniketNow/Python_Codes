{
  "nbformat": 4,
  "nbformat_minor": 0,
  "metadata": {
    "colab": {
      "provenance": []
    },
    "kernelspec": {
      "name": "python3",
      "display_name": "Python 3"
    },
    "language_info": {
      "name": "python"
    }
  },
  "cells": [
    {
      "cell_type": "code",
      "execution_count": 2,
      "metadata": {
        "colab": {
          "base_uri": "https://localhost:8080/"
        },
        "id": "pCvHmRFSmLhO",
        "outputId": "22147062-b42a-4351-ae4f-42b9108c1486"
      },
      "outputs": [
        {
          "output_type": "stream",
          "name": "stdout",
          "text": [
            "5\n",
            "1 2 1 3 2\n",
            "3 2\n",
            "2\n"
          ]
        }
      ],
      "source": [
        "import math\n",
        "import os\n",
        "import random\n",
        "import re\n",
        "import sys\n",
        "\n",
        "\n",
        "# The function is expected to return an INTEGER.\n",
        "# The function accepts following parameters:\n",
        "#  1. INTEGER_ARRAY s\n",
        "#  2. INTEGER d\n",
        "#  3. INTEGER m\n",
        "#\n",
        "\n",
        "def birthday(s, d, m):\n",
        "    ways = 0\n",
        "\n",
        "    for i in range(len(s) - m + 1):\n",
        "        if sum(s[i:i + m]) == d:\n",
        "            ways += 1\n",
        "\n",
        "    return ways\n",
        "    # Write your code here\n",
        "\n",
        "if __name__ == '__main__':\n",
        "\n",
        "    n = int(input().strip())\n",
        "\n",
        "    s = list(map(int, input().rstrip().split()))\n",
        "\n",
        "    first_multiple_input = input().rstrip().split()\n",
        "\n",
        "    d = int(first_multiple_input[0])\n",
        "\n",
        "    m = int(first_multiple_input[1])\n",
        "\n",
        "    result = birthday(s, d, m)\n",
        "\n",
        "    print(result)\n"
      ]
    },
    {
      "cell_type": "code",
      "source": [],
      "metadata": {
        "id": "z600JI6kq_Z6"
      },
      "execution_count": null,
      "outputs": []
    }
  ]
}
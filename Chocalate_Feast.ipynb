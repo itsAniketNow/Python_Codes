{
  "nbformat": 4,
  "nbformat_minor": 0,
  "metadata": {
    "colab": {
      "provenance": []
    },
    "kernelspec": {
      "name": "python3",
      "display_name": "Python 3"
    },
    "language_info": {
      "name": "python"
    }
  },
  "cells": [
    {
      "cell_type": "code",
      "execution_count": 24,
      "metadata": {
        "colab": {
          "base_uri": "https://localhost:8080/"
        },
        "id": "pCvHmRFSmLhO",
        "outputId": "9ea77146-096b-4277-c004-f5d2ba5a5ff8"
      },
      "outputs": [
        {
          "output_type": "stream",
          "name": "stdout",
          "text": [
            "3\n",
            "10 2 5\n",
            "6\n",
            "12 4 4\n",
            "3\n",
            "6 7 8\n",
            "0\n"
          ]
        }
      ],
      "source": [
        "import math\n",
        "import os\n",
        "import random\n",
        "import re\n",
        "import sys\n",
        "\n",
        "\n",
        "# The function is expected to return an INTEGER.\n",
        "# The function accepts following parameters:\n",
        "#  1. INTEGER n\n",
        "#  2. INTEGER c\n",
        "#  3. INTEGER m\n",
        "#\n",
        "\n",
        "def chocolateFeast(n, c, m):\n",
        "  chocolates_eaten = n // c  # Calculate how many chocolates Bobby can buy initially\n",
        "  wrappers = chocolates_eaten  # Initialize the number of wrappers\n",
        "\n",
        "  while wrappers >= m:  # As long as he has enough wrappers to make an exchange\n",
        "      new_chocolates = wrappers // m  # Calculate how many chocolates he can get from the wrappers\n",
        "      chocolates_eaten += new_chocolates  # Add the new chocolates to the total\n",
        "      wrappers = wrappers - new_chocolates * (m - 1)  # Calculate the number of wrappers left after the exchange\n",
        "\n",
        "  return chocolates_eaten\n",
        "\n",
        "\n",
        "if __name__ == '__main__':\n",
        "    t = int(input().strip())\n",
        "\n",
        "    for t_itr in range(t):\n",
        "        first_multiple_input = input().rstrip().split()\n",
        "\n",
        "        n = int(first_multiple_input[0])\n",
        "\n",
        "        c = int(first_multiple_input[1])\n",
        "\n",
        "        m = int(first_multiple_input[2])\n",
        "\n",
        "        result = chocolateFeast(n, c, m)\n",
        "\n",
        "        print(result)\n"
      ]
    },
    {
      "cell_type": "code",
      "source": [],
      "metadata": {
        "id": "DtIRxNH8zq0y"
      },
      "execution_count": null,
      "outputs": []
    }
  ]
}
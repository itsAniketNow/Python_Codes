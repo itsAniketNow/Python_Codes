{
  "nbformat": 4,
  "nbformat_minor": 0,
  "metadata": {
    "colab": {
      "provenance": []
    },
    "kernelspec": {
      "name": "python3",
      "display_name": "Python 3"
    },
    "language_info": {
      "name": "python"
    }
  },
  "cells": [
    {
      "cell_type": "code",
      "execution_count": 2,
      "metadata": {
        "id": "pCvHmRFSmLhO",
        "colab": {
          "base_uri": "https://localhost:8080/"
        },
        "outputId": "f100c341-1960-4a13-ea0c-eeb1505a5f6a"
      },
      "outputs": [
        {
          "output_type": "stream",
          "name": "stdout",
          "text": [
            "5\n",
            "47\n",
            "thirteen minutes to six\n"
          ]
        }
      ],
      "source": [
        "import math\n",
        "import os\n",
        "import random\n",
        "import re\n",
        "import sys\n",
        "\n",
        "\n",
        "# The function is expected to return a STRING.\n",
        "# The function accepts following parameters:\n",
        "#  1. INTEGER h\n",
        "#  2. INTEGER m\n",
        "#\n",
        "\n",
        "def timeInWords(h, m):\n",
        "  # Define words for numbers from 1 to 29\n",
        "  words = [\"zero\", \"one\", \"two\", \"three\", \"four\", \"five\", \"six\", \"seven\", \"eight\", \"nine\",\n",
        "            \"ten\", \"eleven\", \"twelve\", \"thirteen\", \"fourteen\", \"fifteen\", \"sixteen\", \"seventeen\",\n",
        "            \"eighteen\", \"nineteen\", \"twenty\", \"twenty one\", \"twenty two\", \"twenty three\", \"twenty four\",\n",
        "            \"twenty five\", \"twenty six\", \"twenty seven\", \"twenty eight\", \"twenty nine\"]\n",
        "\n",
        "  if m == 0:\n",
        "      return f\"{words[h]} o' clock\"\n",
        "  elif m == 15:\n",
        "      return f\"quarter past {words[h]}\"\n",
        "  elif m == 30:\n",
        "      return f\"half past {words[h]}\"\n",
        "  elif m == 45:\n",
        "      return f\"quarter to {words[h + 1]}\"\n",
        "  elif m == 1:\n",
        "      return f\"{words[m]} minute past {words[h]}\"\n",
        "  elif m < 30:\n",
        "      return f\"{words[m]} minutes past {words[h]}\"\n",
        "  else:\n",
        "      return f\"{words[60 - m]} minutes to {words[h + 1]}\"\n",
        "\n",
        "\n",
        "\n",
        "if __name__ == '__main__':\n",
        "\n",
        "    h = int(input().strip())\n",
        "\n",
        "    m = int(input().strip())\n",
        "\n",
        "    result = timeInWords(h, m)\n",
        "    print(result)"
      ]
    },
    {
      "cell_type": "code",
      "source": [
        "\n"
      ],
      "metadata": {
        "id": "MOPak6qEifE3"
      },
      "execution_count": null,
      "outputs": []
    },
    {
      "cell_type": "code",
      "source": [],
      "metadata": {
        "id": "C_7lQSXJxHZl"
      },
      "execution_count": null,
      "outputs": []
    }
  ]
}